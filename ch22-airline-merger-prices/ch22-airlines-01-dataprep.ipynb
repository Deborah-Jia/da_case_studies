{
 "cells": [
  {
   "cell_type": "markdown",
   "metadata": {},
   "source": [
    "#### Prepared for Gabor's Data Analysis\n",
    "\n",
    "### Data Analysis for Business, Economics, and Policy\n",
    "by Gabor Bekes and  Gabor Kezdi\n",
    " \n",
    "Cambridge University Press 2021\n",
    "\n",
    "**[gabors-data-analysis.com ](https://gabors-data-analysis.com/)**\n",
    "\n",
    " License: Free to share, modify and use for educational purposes. \n",
    " Not to be used for commercial purposes.\n",
    "\n",
    "### CHAPTER 22\n",
    "**CH22A How does a merger between airlines affect prices?**\n",
    "\n",
    " using the airline-tickets-usa dataset\n",
    " version 0.9 2020-09-11"
   ]
  },
  {
   "cell_type": "code",
   "execution_count": 1,
   "metadata": {},
   "outputs": [],
   "source": [
    "import warnings\n",
    "warnings.filterwarnings('ignore')\n",
    "import pandas as pd\n",
    "from plotnine import *\n",
    "import statsmodels.api as sm\n",
    "import statsmodels.formula.api as smf\n",
    "import os\n",
    "import sys\n",
    "from stargazer.stargazer import Stargazer\n",
    "from IPython.core.display import HTML"
   ]
  },
  {
   "cell_type": "code",
   "execution_count": 2,
   "metadata": {},
   "outputs": [],
   "source": [
    "# Current script folder\n",
    "current_path = os.getcwd()\n",
    "dirname = \"/\".join(current_path.split(\"/\")[:-2]) + \"/\"\n",
    "\n",
    "# location folders\n",
    "data_in = dirname + \"da_data_repo/airline-tickets-usa/clean/\"\n",
    "data_out = dirname + \"da_case_studies/ch22-airline-merger-prices/\"\n",
    "output = dirname + \"da_case_studies/ch22-airline-merger-prices/output/\"\n",
    "\n",
    "func = dirname + \"da_case_studies/ch00-tech-prep/\"\n",
    "sys.path.append(func)"
   ]
  },
  {
   "cell_type": "code",
   "execution_count": 3,
   "metadata": {},
   "outputs": [],
   "source": [
    "# Import the prewritten helper functions \n",
    "from py_helper_functions import *"
   ]
  },
  {
   "cell_type": "markdown",
   "metadata": {},
   "source": [
    "## Data Preparation Steps and Descriptive Statistics"
   ]
  },
  {
   "cell_type": "code",
   "execution_count": 4,
   "metadata": {},
   "outputs": [],
   "source": [
    "data = pd.read_stata(data_in+\"originfinal-panel.dta\")"
   ]
  },
  {
   "cell_type": "code",
   "execution_count": 5,
   "metadata": {},
   "outputs": [],
   "source": [
    "data = data.query(\"year==2011 | year==2016\").reset_index(drop=True)"
   ]
  },
  {
   "cell_type": "code",
   "execution_count": 6,
   "metadata": {},
   "outputs": [],
   "source": [
    "# * create total number of passengers from shares\n",
    "# * so we can get aggreagate shares\n",
    "\n",
    "data[\"ptotalAA\"] = data[\"shareAA\"] * data[\"passengers\"]\n",
    "data[\"ptotalUS\"] = data[\"shareUS\"] * data[\"passengers\"]\n",
    "data[\"ptotallargest\"] = data[\"sharelargest\"] * data[\"passengers\"]\n",
    "\n",
    "data_agg = data.groupby([\"origin\", \"finaldest\", \"return\", \"year\"]).agg(\n",
    "    airports=(\"airports\", \"first\"),\n",
    "    return_sym=(\"return_sym\", \"first\"),\n",
    "    stops=(\"stops\", \"first\"),\n",
    "    ptotalAA=(\"ptotalAA\", sum),\n",
    "    ptotalUS=(\"ptotalUS\", sum),\n",
    "    ptotallargest=(\"ptotallargest\", sum),\n",
    "    passengers=(\"passengers\", sum),\n",
    "    itinfare=(\"itinfare\", sum),\n",
    ").reset_index()"
   ]
  },
  {
   "cell_type": "code",
   "execution_count": 7,
   "metadata": {},
   "outputs": [],
   "source": [
    "data_agg[\"after\"] = np.where(data_agg[\"year\"] == 2016, 1, 0)\n",
    "data_agg[\"before\"] = np.where(data_agg[\"year\"] == 2011, 1, 0)\n",
    "data_agg[\"avgprice\"] = data_agg[\"itinfare\"] / data_agg[\"passengers\"]\n",
    "data_agg[\"shareAA\"] = data_agg[\"ptotalAA\"] / data_agg[\"passengers\"]\n",
    "data_agg[\"shareUS\"] = data_agg[\"ptotalUS\"] / data_agg[\"passengers\"]\n",
    "data_agg[\"sharelargest\"] = data_agg[\"ptotallargest\"] / data_agg[\"passengers\"]\n",
    "data_agg[\"AA\"] = np.where(data_agg[\"shareAA\"] > 0, 1, 0)\n",
    "data_agg[\"US\"] = np.where(data_agg[\"shareUS\"] > 0, 1, 0)\n",
    "data_agg[\"US\"] = np.where(data_agg[\"shareUS\"] > 0, 1, 0)\n",
    "data_agg[\"AA_and_US\"] = np.where(\n",
    "    (data_agg[\"shareAA\"] > 0) & (data_agg[\"shareUS\"]) > 0, 1, 0\n",
    ")\n",
    "data_agg[\"AA_or_US\"] = np.where(\n",
    "    (data_agg[\"shareAA\"] > 0) | (data_agg[\"shareUS\"]) > 0, 1, 0\n",
    ")"
   ]
  },
  {
   "cell_type": "code",
   "execution_count": 8,
   "metadata": {},
   "outputs": [],
   "source": [
    "# create numeric ID for market\n",
    "data_agg[\"market\"] = (\n",
    "    data_agg[\"origin\"]\n",
    "    + \"_\"\n",
    "    + data_agg[\"finaldest\"]\n",
    "    + \"_\"\n",
    "    + data_agg[\"return\"].apply(str)\n",
    ")"
   ]
  },
  {
   "cell_type": "code",
   "execution_count": 9,
   "metadata": {
    "scrolled": true
   },
   "outputs": [],
   "source": [
    "# passengers before and after\n",
    "data_agg[\"pass_bef_id\"] = np.where(data_agg[\"before\"] == 1, data_agg[\"passengers\"], np.nan)\n",
    "data_agg[\"pass_aft_id\"] = np.where(data_agg[\"after\"] == 1, data_agg[\"passengers\"], np.nan)\n",
    "\n",
    "data_agg[\"pass_bef\"] = data_agg.groupby(\"market\")[\"pass_bef_id\"].transform(np.nanmean)\n",
    "data_agg[\"pass_aft\"] = data_agg.groupby(\"market\")[\"pass_aft_id\"].transform(np.nanmean)"
   ]
  },
  {
   "cell_type": "code",
   "execution_count": 10,
   "metadata": {},
   "outputs": [],
   "source": [
    "# balanced vs unbalanced part of panel\n",
    "data_agg[\"balanced\"] = data_agg.groupby(\"market\")[\"origin\"].transform(\"count\") == 2"
   ]
  },
  {
   "cell_type": "code",
   "execution_count": 11,
   "metadata": {},
   "outputs": [
    {
     "data": {
      "text/html": [
       "<div>\n",
       "<style scoped>\n",
       "    .dataframe tbody tr th:only-of-type {\n",
       "        vertical-align: middle;\n",
       "    }\n",
       "\n",
       "    .dataframe tbody tr th {\n",
       "        vertical-align: top;\n",
       "    }\n",
       "\n",
       "    .dataframe thead th {\n",
       "        text-align: right;\n",
       "    }\n",
       "</style>\n",
       "<table border=\"1\" class=\"dataframe\">\n",
       "  <thead>\n",
       "    <tr style=\"text-align: right;\">\n",
       "      <th></th>\n",
       "      <th>sum_passengers</th>\n",
       "      <th>n</th>\n",
       "    </tr>\n",
       "    <tr>\n",
       "      <th>balanced</th>\n",
       "      <th></th>\n",
       "      <th></th>\n",
       "    </tr>\n",
       "  </thead>\n",
       "  <tbody>\n",
       "    <tr>\n",
       "      <th>False</th>\n",
       "      <td>561060.0</td>\n",
       "      <td>51516</td>\n",
       "    </tr>\n",
       "    <tr>\n",
       "      <th>True</th>\n",
       "      <td>54136421.0</td>\n",
       "      <td>226094</td>\n",
       "    </tr>\n",
       "  </tbody>\n",
       "</table>\n",
       "</div>"
      ],
      "text/plain": [
       "          sum_passengers       n\n",
       "balanced                        \n",
       "False           561060.0   51516\n",
       "True          54136421.0  226094"
      ]
     },
     "execution_count": 11,
     "metadata": {},
     "output_type": "execute_result"
    }
   ],
   "source": [
    "data_agg.groupby(\"balanced\").agg(\n",
    "    sum_passengers=(\"passengers\", sum), n=(\"origin\", \"count\")\n",
    ")"
   ]
  },
  {
   "cell_type": "code",
   "execution_count": 29,
   "metadata": {},
   "outputs": [],
   "source": [
    "# Define treated and untreated markets\n",
    "# treated: both AA and US present in the before period\n",
    "# untreated: neither AA nor US present in the before period\n",
    "# drop if only AA or only US in before period (neither treated nor untreated)"
   ]
  },
  {
   "cell_type": "code",
   "execution_count": null,
   "metadata": {},
   "outputs": [],
   "source": []
  },
  {
   "cell_type": "code",
   "execution_count": 13,
   "metadata": {},
   "outputs": [],
   "source": [
    "def functions_for_groupby(df):\n",
    "    d = {}\n",
    "    d[\"treated\"] = np.where(\n",
    "        df[\"balanced\"] == 1, max((df[\"AA_and_US\"] == 1) & (df[\"before\"] == 1)), None\n",
    "    )\n",
    "    d[\"untreated\"] = np.where(\n",
    "        df[\"balanced\"] == 1, max((df[\"AA_and_US\"] == 0) & (df[\"before\"] == 1)), None\n",
    "    )\n",
    "    d[\"smallmkt\"] = max((df[\"passengers\"] < 5000) & (df[\"before\"] == 1))\n",
    "\n",
    "    return pd.Series(d, index=[\"treated\", \"untreated\", \"smallmkt\"])"
   ]
  },
  {
   "cell_type": "code",
   "execution_count": 192,
   "metadata": {},
   "outputs": [
    {
     "data": {
      "text/html": [
       "<div>\n",
       "<style scoped>\n",
       "    .dataframe tbody tr th:only-of-type {\n",
       "        vertical-align: middle;\n",
       "    }\n",
       "\n",
       "    .dataframe tbody tr th {\n",
       "        vertical-align: top;\n",
       "    }\n",
       "\n",
       "    .dataframe thead th {\n",
       "        text-align: right;\n",
       "    }\n",
       "</style>\n",
       "<table border=\"1\" class=\"dataframe\">\n",
       "  <thead>\n",
       "    <tr style=\"text-align: right;\">\n",
       "      <th></th>\n",
       "      <th>treated</th>\n",
       "      <th>untreated</th>\n",
       "      <th>smallmkt</th>\n",
       "    </tr>\n",
       "    <tr>\n",
       "      <th>market</th>\n",
       "      <th></th>\n",
       "      <th></th>\n",
       "      <th></th>\n",
       "    </tr>\n",
       "  </thead>\n",
       "  <tbody>\n",
       "    <tr>\n",
       "      <th>ABE_ABE_1</th>\n",
       "      <td>[None]</td>\n",
       "      <td>[None]</td>\n",
       "      <td>True</td>\n",
       "    </tr>\n",
       "    <tr>\n",
       "      <th>ABE_ABI_0</th>\n",
       "      <td>[None]</td>\n",
       "      <td>[None]</td>\n",
       "      <td>True</td>\n",
       "    </tr>\n",
       "    <tr>\n",
       "      <th>ABE_ABI_1</th>\n",
       "      <td>[False, False]</td>\n",
       "      <td>[True, True]</td>\n",
       "      <td>True</td>\n",
       "    </tr>\n",
       "    <tr>\n",
       "      <th>ABE_ABQ_0</th>\n",
       "      <td>[False, False]</td>\n",
       "      <td>[True, True]</td>\n",
       "      <td>True</td>\n",
       "    </tr>\n",
       "    <tr>\n",
       "      <th>ABE_ABQ_1</th>\n",
       "      <td>[False, False]</td>\n",
       "      <td>[True, True]</td>\n",
       "      <td>True</td>\n",
       "    </tr>\n",
       "    <tr>\n",
       "      <th>...</th>\n",
       "      <td>...</td>\n",
       "      <td>...</td>\n",
       "      <td>...</td>\n",
       "    </tr>\n",
       "    <tr>\n",
       "      <th>YUM_VPS_1</th>\n",
       "      <td>[False, False]</td>\n",
       "      <td>[True, True]</td>\n",
       "      <td>True</td>\n",
       "    </tr>\n",
       "    <tr>\n",
       "      <th>YUM_XNA_0</th>\n",
       "      <td>[None]</td>\n",
       "      <td>[None]</td>\n",
       "      <td>False</td>\n",
       "    </tr>\n",
       "    <tr>\n",
       "      <th>YUM_XNA_1</th>\n",
       "      <td>[False, False]</td>\n",
       "      <td>[True, True]</td>\n",
       "      <td>True</td>\n",
       "    </tr>\n",
       "    <tr>\n",
       "      <th>YUM_YKM_0</th>\n",
       "      <td>[False, False]</td>\n",
       "      <td>[True, True]</td>\n",
       "      <td>True</td>\n",
       "    </tr>\n",
       "    <tr>\n",
       "      <th>YUM_YKM_1</th>\n",
       "      <td>[False, False]</td>\n",
       "      <td>[True, True]</td>\n",
       "      <td>True</td>\n",
       "    </tr>\n",
       "  </tbody>\n",
       "</table>\n",
       "<p>164563 rows × 3 columns</p>\n",
       "</div>"
      ],
      "text/plain": [
       "                  treated     untreated  smallmkt\n",
       "market                                           \n",
       "ABE_ABE_1          [None]        [None]      True\n",
       "ABE_ABI_0          [None]        [None]      True\n",
       "ABE_ABI_1  [False, False]  [True, True]      True\n",
       "ABE_ABQ_0  [False, False]  [True, True]      True\n",
       "ABE_ABQ_1  [False, False]  [True, True]      True\n",
       "...                   ...           ...       ...\n",
       "YUM_VPS_1  [False, False]  [True, True]      True\n",
       "YUM_XNA_0          [None]        [None]     False\n",
       "YUM_XNA_1  [False, False]  [True, True]      True\n",
       "YUM_YKM_0  [False, False]  [True, True]      True\n",
       "YUM_YKM_1  [False, False]  [True, True]      True\n",
       "\n",
       "[164563 rows x 3 columns]"
      ]
     },
     "execution_count": 192,
     "metadata": {},
     "output_type": "execute_result"
    }
   ],
   "source": [
    "data_agg.groupby(\"market\").apply(functions_for_groupby)"
   ]
  },
  {
   "cell_type": "code",
   "execution_count": 14,
   "metadata": {},
   "outputs": [],
   "source": [
    "data_agg[\"lnavgp\"] = np.where(np.isinf(np.log(data_agg[\"avgprice\"])), np.nan, np.log(data_agg[\"avgprice\"]))\n",
    "data_agg[\"d_lnavgp\"] = data_agg.groupby(\"market\")[\"lnavgp\"].transform(\"diff\")"
   ]
  },
  {
   "cell_type": "markdown",
   "metadata": {},
   "source": [
    "## Describe"
   ]
  },
  {
   "cell_type": "code",
   "execution_count": 15,
   "metadata": {},
   "outputs": [
    {
     "data": {
      "text/html": [
       "<div>\n",
       "<style scoped>\n",
       "    .dataframe tbody tr th:only-of-type {\n",
       "        vertical-align: middle;\n",
       "    }\n",
       "\n",
       "    .dataframe tbody tr th {\n",
       "        vertical-align: top;\n",
       "    }\n",
       "\n",
       "    .dataframe thead tr th {\n",
       "        text-align: left;\n",
       "    }\n",
       "\n",
       "    .dataframe thead tr:last-of-type th {\n",
       "        text-align: right;\n",
       "    }\n",
       "</style>\n",
       "<table border=\"1\" class=\"dataframe\">\n",
       "  <thead>\n",
       "    <tr>\n",
       "      <th></th>\n",
       "      <th colspan=\"9\" halign=\"left\">passengers</th>\n",
       "    </tr>\n",
       "    <tr>\n",
       "      <th></th>\n",
       "      <th>count</th>\n",
       "      <th>mean</th>\n",
       "      <th>std</th>\n",
       "      <th>min</th>\n",
       "      <th>25%</th>\n",
       "      <th>50%</th>\n",
       "      <th>75%</th>\n",
       "      <th>90%</th>\n",
       "      <th>max</th>\n",
       "    </tr>\n",
       "    <tr>\n",
       "      <th>year</th>\n",
       "      <th></th>\n",
       "      <th></th>\n",
       "      <th></th>\n",
       "      <th></th>\n",
       "      <th></th>\n",
       "      <th></th>\n",
       "      <th></th>\n",
       "      <th></th>\n",
       "      <th></th>\n",
       "    </tr>\n",
       "  </thead>\n",
       "  <tbody>\n",
       "    <tr>\n",
       "      <th>2011</th>\n",
       "      <td>141712.0</td>\n",
       "      <td>170.0</td>\n",
       "      <td>980.0</td>\n",
       "      <td>1.0</td>\n",
       "      <td>2.0</td>\n",
       "      <td>7.0</td>\n",
       "      <td>37.0</td>\n",
       "      <td>205.0</td>\n",
       "      <td>39853.0</td>\n",
       "    </tr>\n",
       "    <tr>\n",
       "      <th>2016</th>\n",
       "      <td>135898.0</td>\n",
       "      <td>225.0</td>\n",
       "      <td>1270.0</td>\n",
       "      <td>1.0</td>\n",
       "      <td>2.0</td>\n",
       "      <td>8.0</td>\n",
       "      <td>45.0</td>\n",
       "      <td>245.0</td>\n",
       "      <td>46881.0</td>\n",
       "    </tr>\n",
       "  </tbody>\n",
       "</table>\n",
       "</div>"
      ],
      "text/plain": [
       "     passengers                                                    \n",
       "          count   mean     std  min  25%  50%   75%    90%      max\n",
       "year                                                               \n",
       "2011   141712.0  170.0   980.0  1.0  2.0  7.0  37.0  205.0  39853.0\n",
       "2016   135898.0  225.0  1270.0  1.0  2.0  8.0  45.0  245.0  46881.0"
      ]
     },
     "execution_count": 15,
     "metadata": {},
     "output_type": "execute_result"
    }
   ],
   "source": [
    "#describe yearly data\n",
    "data_agg[[\"year\",\"passengers\"]].groupby(\"year\").describe(percentiles=[.25, .5, .75,.9]).round(0)"
   ]
  },
  {
   "cell_type": "code",
   "execution_count": 16,
   "metadata": {},
   "outputs": [
    {
     "data": {
      "text/html": [
       "<div>\n",
       "<style scoped>\n",
       "    .dataframe tbody tr th:only-of-type {\n",
       "        vertical-align: middle;\n",
       "    }\n",
       "\n",
       "    .dataframe tbody tr th {\n",
       "        vertical-align: top;\n",
       "    }\n",
       "\n",
       "    .dataframe thead th {\n",
       "        text-align: right;\n",
       "    }\n",
       "</style>\n",
       "<table border=\"1\" class=\"dataframe\">\n",
       "  <thead>\n",
       "    <tr style=\"text-align: right;\">\n",
       "      <th></th>\n",
       "      <th>market</th>\n",
       "      <th>origin</th>\n",
       "      <th>finaldest</th>\n",
       "      <th>return</th>\n",
       "      <th>year</th>\n",
       "      <th>passengers</th>\n",
       "    </tr>\n",
       "  </thead>\n",
       "  <tbody>\n",
       "    <tr>\n",
       "      <th>139047</th>\n",
       "      <td>JFK_LAX_0</td>\n",
       "      <td>JFK</td>\n",
       "      <td>LAX</td>\n",
       "      <td>0</td>\n",
       "      <td>2011</td>\n",
       "      <td>31312.0</td>\n",
       "    </tr>\n",
       "    <tr>\n",
       "      <th>139048</th>\n",
       "      <td>JFK_LAX_0</td>\n",
       "      <td>JFK</td>\n",
       "      <td>LAX</td>\n",
       "      <td>0</td>\n",
       "      <td>2016</td>\n",
       "      <td>46881.0</td>\n",
       "    </tr>\n",
       "    <tr>\n",
       "      <th>139049</th>\n",
       "      <td>JFK_LAX_1</td>\n",
       "      <td>JFK</td>\n",
       "      <td>LAX</td>\n",
       "      <td>1</td>\n",
       "      <td>2011</td>\n",
       "      <td>37861.0</td>\n",
       "    </tr>\n",
       "    <tr>\n",
       "      <th>139050</th>\n",
       "      <td>JFK_LAX_1</td>\n",
       "      <td>JFK</td>\n",
       "      <td>LAX</td>\n",
       "      <td>1</td>\n",
       "      <td>2016</td>\n",
       "      <td>41927.0</td>\n",
       "    </tr>\n",
       "  </tbody>\n",
       "</table>\n",
       "</div>"
      ],
      "text/plain": [
       "           market origin finaldest  return  year  passengers\n",
       "139047  JFK_LAX_0    JFK       LAX       0  2011     31312.0\n",
       "139048  JFK_LAX_0    JFK       LAX       0  2016     46881.0\n",
       "139049  JFK_LAX_1    JFK       LAX       1  2011     37861.0\n",
       "139050  JFK_LAX_1    JFK       LAX       1  2016     41927.0"
      ]
     },
     "execution_count": 16,
     "metadata": {},
     "output_type": "execute_result"
    }
   ],
   "source": [
    "data_agg.query('(origin==\"JFK\") & (finaldest==\"LAX\")')[\n",
    "    [\"market\", \"origin\", \"finaldest\", \"return\", \"year\", \"passengers\"]\n",
    "]"
   ]
  },
  {
   "cell_type": "code",
   "execution_count": 17,
   "metadata": {},
   "outputs": [
    {
     "ename": "SyntaxError",
     "evalue": "invalid syntax (<ipython-input-17-79e6c5201c96>, line 1)",
     "output_type": "error",
     "traceback": [
      "\u001b[0;36m  File \u001b[0;32m\"<ipython-input-17-79e6c5201c96>\"\u001b[0;36m, line \u001b[0;32m1\u001b[0m\n\u001b[0;31m    data_agg %>%\u001b[0m\n\u001b[0m              ^\u001b[0m\n\u001b[0;31mSyntaxError\u001b[0m\u001b[0;31m:\u001b[0m invalid syntax\n"
     ]
    }
   ],
   "source": [
    "data_agg %>%\n",
    "  filter(year == 2011) %>%\n",
    "  select(smallmkt, passengers) %>%\n",
    "  group_by(smallmkt) %>%\n",
    "  summarise_each(funs(N = length, \n",
    "                      min = min, \n",
    "                      max = max,\n",
    "                      median = median,\n",
    "                      mean = mean, \n",
    "                      sum = sum))"
   ]
  },
  {
   "cell_type": "code",
   "execution_count": 168,
   "metadata": {},
   "outputs": [
    {
     "data": {
      "text/html": [
       "<div>\n",
       "<style scoped>\n",
       "    .dataframe tbody tr th:only-of-type {\n",
       "        vertical-align: middle;\n",
       "    }\n",
       "\n",
       "    .dataframe tbody tr th {\n",
       "        vertical-align: top;\n",
       "    }\n",
       "\n",
       "    .dataframe thead th {\n",
       "        text-align: right;\n",
       "    }\n",
       "</style>\n",
       "<table border=\"1\" class=\"dataframe\">\n",
       "  <thead>\n",
       "    <tr style=\"text-align: right;\">\n",
       "      <th></th>\n",
       "      <th></th>\n",
       "      <th>count</th>\n",
       "      <th>mean</th>\n",
       "      <th>std</th>\n",
       "      <th>min</th>\n",
       "      <th>50%</th>\n",
       "      <th>max</th>\n",
       "    </tr>\n",
       "    <tr>\n",
       "      <th>year</th>\n",
       "      <th>balanced</th>\n",
       "      <th></th>\n",
       "      <th></th>\n",
       "      <th></th>\n",
       "      <th></th>\n",
       "      <th></th>\n",
       "      <th></th>\n",
       "    </tr>\n",
       "  </thead>\n",
       "  <tbody>\n",
       "    <tr>\n",
       "      <th rowspan=\"2\" valign=\"top\">2011</th>\n",
       "      <th>False</th>\n",
       "      <td>28665.0</td>\n",
       "      <td>3.6</td>\n",
       "      <td>23.8</td>\n",
       "      <td>1.0</td>\n",
       "      <td>1.0</td>\n",
       "      <td>2051.0</td>\n",
       "    </tr>\n",
       "    <tr>\n",
       "      <th>True</th>\n",
       "      <td>113047.0</td>\n",
       "      <td>211.9</td>\n",
       "      <td>1092.7</td>\n",
       "      <td>1.0</td>\n",
       "      <td>12.0</td>\n",
       "      <td>39853.0</td>\n",
       "    </tr>\n",
       "    <tr>\n",
       "      <th rowspan=\"2\" valign=\"top\">2016</th>\n",
       "      <th>False</th>\n",
       "      <td>22851.0</td>\n",
       "      <td>20.0</td>\n",
       "      <td>178.1</td>\n",
       "      <td>1.0</td>\n",
       "      <td>1.0</td>\n",
       "      <td>4798.0</td>\n",
       "    </tr>\n",
       "    <tr>\n",
       "      <th>True</th>\n",
       "      <td>113047.0</td>\n",
       "      <td>267.0</td>\n",
       "      <td>1386.3</td>\n",
       "      <td>1.0</td>\n",
       "      <td>13.0</td>\n",
       "      <td>46881.0</td>\n",
       "    </tr>\n",
       "  </tbody>\n",
       "</table>\n",
       "</div>"
      ],
      "text/plain": [
       "                  count   mean     std  min   50%      max\n",
       "year balanced                                             \n",
       "2011 False      28665.0    3.6    23.8  1.0   1.0   2051.0\n",
       "     True      113047.0  211.9  1092.7  1.0  12.0  39853.0\n",
       "2016 False      22851.0   20.0   178.1  1.0   1.0   4798.0\n",
       "     True      113047.0  267.0  1386.3  1.0  13.0  46881.0"
      ]
     },
     "execution_count": 168,
     "metadata": {},
     "output_type": "execute_result"
    }
   ],
   "source": [
    "# describe balanced\n",
    "data_agg.groupby([\"year\", \"balanced\"])[\"passengers\"].describe(percentiles=[]).round(1)"
   ]
  },
  {
   "cell_type": "code",
   "execution_count": 169,
   "metadata": {},
   "outputs": [
    {
     "ename": "KeyError",
     "evalue": "'treated'",
     "output_type": "error",
     "traceback": [
      "\u001b[0;31m---------------------------------------------------------------------------\u001b[0m",
      "\u001b[0;31mKeyError\u001b[0m                                  Traceback (most recent call last)",
      "\u001b[0;32m<ipython-input-169-e0a4ceb57060>\u001b[0m in \u001b[0;36m<module>\u001b[0;34m\u001b[0m\n\u001b[1;32m      1\u001b[0m \u001b[0;31m# describe treatment\u001b[0m\u001b[0;34m\u001b[0m\u001b[0;34m\u001b[0m\u001b[0;34m\u001b[0m\u001b[0m\n\u001b[0;32m----> 2\u001b[0;31m \u001b[0mdata_agg\u001b[0m\u001b[0;34m.\u001b[0m\u001b[0mgroupby\u001b[0m\u001b[0;34m(\u001b[0m\u001b[0;34m[\u001b[0m\u001b[0;34m\"year\"\u001b[0m\u001b[0;34m,\u001b[0m \u001b[0;34m\"treated\"\u001b[0m\u001b[0;34m,\u001b[0m \u001b[0;34m\"untreated\"\u001b[0m\u001b[0;34m]\u001b[0m\u001b[0;34m)\u001b[0m\u001b[0;34m.\u001b[0m\u001b[0mdescribe\u001b[0m\u001b[0;34m(\u001b[0m\u001b[0mpercentiles\u001b[0m\u001b[0;34m=\u001b[0m\u001b[0;34m[\u001b[0m\u001b[0;34m]\u001b[0m\u001b[0;34m)\u001b[0m\u001b[0;34m.\u001b[0m\u001b[0mround\u001b[0m\u001b[0;34m(\u001b[0m\u001b[0;36m1\u001b[0m\u001b[0;34m)\u001b[0m\u001b[0;34m\u001b[0m\u001b[0;34m\u001b[0m\u001b[0m\n\u001b[0m",
      "\u001b[0;32m/usr/local/lib/python3.8/site-packages/pandas/core/frame.py\u001b[0m in \u001b[0;36mgroupby\u001b[0;34m(self, by, axis, level, as_index, sort, group_keys, squeeze, observed, dropna)\u001b[0m\n\u001b[1;32m   6506\u001b[0m         \u001b[0maxis\u001b[0m \u001b[0;34m=\u001b[0m \u001b[0mself\u001b[0m\u001b[0;34m.\u001b[0m\u001b[0m_get_axis_number\u001b[0m\u001b[0;34m(\u001b[0m\u001b[0maxis\u001b[0m\u001b[0;34m)\u001b[0m\u001b[0;34m\u001b[0m\u001b[0;34m\u001b[0m\u001b[0m\n\u001b[1;32m   6507\u001b[0m \u001b[0;34m\u001b[0m\u001b[0m\n\u001b[0;32m-> 6508\u001b[0;31m         return DataFrameGroupBy(\n\u001b[0m\u001b[1;32m   6509\u001b[0m             \u001b[0mobj\u001b[0m\u001b[0;34m=\u001b[0m\u001b[0mself\u001b[0m\u001b[0;34m,\u001b[0m\u001b[0;34m\u001b[0m\u001b[0;34m\u001b[0m\u001b[0m\n\u001b[1;32m   6510\u001b[0m             \u001b[0mkeys\u001b[0m\u001b[0;34m=\u001b[0m\u001b[0mby\u001b[0m\u001b[0;34m,\u001b[0m\u001b[0;34m\u001b[0m\u001b[0;34m\u001b[0m\u001b[0m\n",
      "\u001b[0;32m/usr/local/lib/python3.8/site-packages/pandas/core/groupby/groupby.py\u001b[0m in \u001b[0;36m__init__\u001b[0;34m(self, obj, keys, axis, level, grouper, exclusions, selection, as_index, sort, group_keys, squeeze, observed, mutated, dropna)\u001b[0m\n\u001b[1;32m    523\u001b[0m             \u001b[0;32mfrom\u001b[0m \u001b[0mpandas\u001b[0m\u001b[0;34m.\u001b[0m\u001b[0mcore\u001b[0m\u001b[0;34m.\u001b[0m\u001b[0mgroupby\u001b[0m\u001b[0;34m.\u001b[0m\u001b[0mgrouper\u001b[0m \u001b[0;32mimport\u001b[0m \u001b[0mget_grouper\u001b[0m\u001b[0;34m\u001b[0m\u001b[0;34m\u001b[0m\u001b[0m\n\u001b[1;32m    524\u001b[0m \u001b[0;34m\u001b[0m\u001b[0m\n\u001b[0;32m--> 525\u001b[0;31m             grouper, exclusions, obj = get_grouper(\n\u001b[0m\u001b[1;32m    526\u001b[0m                 \u001b[0mobj\u001b[0m\u001b[0;34m,\u001b[0m\u001b[0;34m\u001b[0m\u001b[0;34m\u001b[0m\u001b[0m\n\u001b[1;32m    527\u001b[0m                 \u001b[0mkeys\u001b[0m\u001b[0;34m,\u001b[0m\u001b[0;34m\u001b[0m\u001b[0;34m\u001b[0m\u001b[0m\n",
      "\u001b[0;32m/usr/local/lib/python3.8/site-packages/pandas/core/groupby/grouper.py\u001b[0m in \u001b[0;36mget_grouper\u001b[0;34m(obj, key, axis, level, sort, observed, mutated, validate, dropna)\u001b[0m\n\u001b[1;32m    774\u001b[0m                 \u001b[0min_axis\u001b[0m\u001b[0;34m,\u001b[0m \u001b[0mname\u001b[0m\u001b[0;34m,\u001b[0m \u001b[0mlevel\u001b[0m\u001b[0;34m,\u001b[0m \u001b[0mgpr\u001b[0m \u001b[0;34m=\u001b[0m \u001b[0;32mFalse\u001b[0m\u001b[0;34m,\u001b[0m \u001b[0;32mNone\u001b[0m\u001b[0;34m,\u001b[0m \u001b[0mgpr\u001b[0m\u001b[0;34m,\u001b[0m \u001b[0;32mNone\u001b[0m\u001b[0;34m\u001b[0m\u001b[0;34m\u001b[0m\u001b[0m\n\u001b[1;32m    775\u001b[0m             \u001b[0;32melse\u001b[0m\u001b[0;34m:\u001b[0m\u001b[0;34m\u001b[0m\u001b[0;34m\u001b[0m\u001b[0m\n\u001b[0;32m--> 776\u001b[0;31m                 \u001b[0;32mraise\u001b[0m \u001b[0mKeyError\u001b[0m\u001b[0;34m(\u001b[0m\u001b[0mgpr\u001b[0m\u001b[0;34m)\u001b[0m\u001b[0;34m\u001b[0m\u001b[0;34m\u001b[0m\u001b[0m\n\u001b[0m\u001b[1;32m    777\u001b[0m         \u001b[0;32melif\u001b[0m \u001b[0misinstance\u001b[0m\u001b[0;34m(\u001b[0m\u001b[0mgpr\u001b[0m\u001b[0;34m,\u001b[0m \u001b[0mGrouper\u001b[0m\u001b[0;34m)\u001b[0m \u001b[0;32mand\u001b[0m \u001b[0mgpr\u001b[0m\u001b[0;34m.\u001b[0m\u001b[0mkey\u001b[0m \u001b[0;32mis\u001b[0m \u001b[0;32mnot\u001b[0m \u001b[0;32mNone\u001b[0m\u001b[0;34m:\u001b[0m\u001b[0;34m\u001b[0m\u001b[0;34m\u001b[0m\u001b[0m\n\u001b[1;32m    778\u001b[0m             \u001b[0;31m# Add key to exclusions\u001b[0m\u001b[0;34m\u001b[0m\u001b[0;34m\u001b[0m\u001b[0;34m\u001b[0m\u001b[0m\n",
      "\u001b[0;31mKeyError\u001b[0m: 'treated'"
     ]
    }
   ],
   "source": [
    "# describe treatment\n",
    "data_agg.groupby([\"year\", \"treated\", \"untreated\"]).describe(percentiles=[]).round(1)"
   ]
  },
  {
   "cell_type": "code",
   "execution_count": 186,
   "metadata": {},
   "outputs": [
    {
     "data": {
      "text/plain": [
       "count    141712.0\n",
       "mean        455.7\n",
       "std         276.5\n",
       "min           0.0\n",
       "25%         285.5\n",
       "50%         413.4\n",
       "75%         561.0\n",
       "max        6054.0\n",
       "Name: avgprice, dtype: float64"
      ]
     },
     "execution_count": 186,
     "metadata": {},
     "output_type": "execute_result"
    }
   ],
   "source": [
    "# describe outcome\n",
    "data_agg.query(\"before == 1\")[\"avgprice\"].describe().round(1)"
   ]
  },
  {
   "cell_type": "code",
   "execution_count": 187,
   "metadata": {},
   "outputs": [
    {
     "data": {
      "text/plain": [
       "64584985.6"
      ]
     },
     "execution_count": 187,
     "metadata": {},
     "output_type": "execute_result"
    }
   ],
   "source": [
    "data_agg.query(\"before == 1\")[\"avgprice\"].sum().round(1)"
   ]
  },
  {
   "cell_type": "code",
   "execution_count": 188,
   "metadata": {
    "scrolled": true
   },
   "outputs": [
    {
     "data": {
      "text/plain": [
       "count    843.0\n",
       "mean       1.1\n",
       "std        0.3\n",
       "min        1.0\n",
       "25%        1.0\n",
       "50%        1.0\n",
       "75%        1.0\n",
       "max        3.0\n",
       "Name: passengers, dtype: float64"
      ]
     },
     "execution_count": 188,
     "metadata": {},
     "output_type": "execute_result"
    }
   ],
   "source": [
    "data_agg.query(\"avgprice == 0\")[\"passengers\"].describe().round(1)"
   ]
  },
  {
   "cell_type": "code",
   "execution_count": 190,
   "metadata": {},
   "outputs": [
    {
     "data": {
      "text/plain": [
       "909.0"
      ]
     },
     "execution_count": 190,
     "metadata": {},
     "output_type": "execute_result"
    }
   ],
   "source": [
    "data_agg.query(\"avgprice == 0\")[\"passengers\"].sum().round(1)"
   ]
  }
 ],
 "metadata": {
  "kernelspec": {
   "display_name": "Python 3",
   "language": "python",
   "name": "python3"
  },
  "language_info": {
   "codemirror_mode": {
    "name": "ipython",
    "version": 3
   },
   "file_extension": ".py",
   "mimetype": "text/x-python",
   "name": "python",
   "nbconvert_exporter": "python",
   "pygments_lexer": "ipython3",
   "version": "3.8.6"
  }
 },
 "nbformat": 4,
 "nbformat_minor": 4
}
