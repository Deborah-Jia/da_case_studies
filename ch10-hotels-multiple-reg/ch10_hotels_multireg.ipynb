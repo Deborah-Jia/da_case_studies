{
 "cells": [
  {
   "cell_type": "code",
   "execution_count": 36,
   "metadata": {},
   "outputs": [],
   "source": [
    "import pandas as pd\n",
    "import os\n",
    "from pathlib import Path\n",
    "import numpy as np\n",
    "import statsmodels.api as sm\n",
    "import statsmodels.formula.api as smf"
   ]
  },
  {
   "cell_type": "code",
   "execution_count": 2,
   "metadata": {},
   "outputs": [],
   "source": [
    "path = Path(os.getcwd())"
   ]
  },
  {
   "cell_type": "code",
   "execution_count": 3,
   "metadata": {},
   "outputs": [],
   "source": [
    "base_dir = path.parent.parent"
   ]
  },
  {
   "cell_type": "code",
   "execution_count": 4,
   "metadata": {},
   "outputs": [],
   "source": [
    "data_in = os.path.join(str(base_dir) , \"da_data_repo/hotels-vienna/clean/\")"
   ]
  },
  {
   "cell_type": "code",
   "execution_count": 5,
   "metadata": {},
   "outputs": [],
   "source": [
    "data_out = os.path.join(str(base_dir), \"da_case_studies/ch10-hotels-multiple-reg/\")"
   ]
  },
  {
   "cell_type": "code",
   "execution_count": 7,
   "metadata": {},
   "outputs": [],
   "source": [
    "hotels = pd.read_csv(os.path.join(data_in,\"hotels-vienna.csv\"))"
   ]
  },
  {
   "cell_type": "code",
   "execution_count": 14,
   "metadata": {},
   "outputs": [],
   "source": [
    "hotels = hotels.query('accommodation_type==\"Hotel\"'). \\\n",
    "       query('city_actual==\"Vienna\"'). \\\n",
    "       query('stars>=3 & stars<=4'). \\\n",
    "       query('price<=600')"
   ]
  },
  {
   "cell_type": "code",
   "execution_count": 17,
   "metadata": {},
   "outputs": [],
   "source": [
    "hotels = hotels[hotels['stars'].notnull()]"
   ]
  },
  {
   "cell_type": "code",
   "execution_count": 18,
   "metadata": {},
   "outputs": [
    {
     "data": {
      "text/plain": [
       "207"
      ]
     },
     "execution_count": 18,
     "metadata": {},
     "output_type": "execute_result"
    }
   ],
   "source": [
    "len(hotels)"
   ]
  },
  {
   "cell_type": "code",
   "execution_count": 20,
   "metadata": {},
   "outputs": [],
   "source": [
    "hotels['lnprice']=hotels['price'].map(lambda x:np.log(x))"
   ]
  },
  {
   "cell_type": "code",
   "execution_count": 21,
   "metadata": {},
   "outputs": [],
   "source": [
    "hotels['distance2']=hotels['distance']"
   ]
  },
  {
   "cell_type": "code",
   "execution_count": 24,
   "metadata": {},
   "outputs": [],
   "source": [
    "hotels.loc[hotels['distance2']<0.05,'distance2']=0.05"
   ]
  },
  {
   "cell_type": "code",
   "execution_count": 26,
   "metadata": {},
   "outputs": [],
   "source": [
    "hotels['lndistance']=hotels['distance2'].map(lambda x:np.log(x))"
   ]
  },
  {
   "cell_type": "code",
   "execution_count": 31,
   "metadata": {},
   "outputs": [],
   "source": [
    "hotels['star35']=(hotels['stars']==3.5).map(int)"
   ]
  },
  {
   "cell_type": "code",
   "execution_count": 32,
   "metadata": {},
   "outputs": [],
   "source": [
    "hotels['star4']=(hotels['stars']==4).map(int)"
   ]
  },
  {
   "cell_type": "code",
   "execution_count": 33,
   "metadata": {},
   "outputs": [
    {
     "data": {
      "text/plain": [
       "count    207.000000\n",
       "mean     109.975845\n",
       "std       42.221381\n",
       "min       50.000000\n",
       "25%       82.000000\n",
       "50%      100.000000\n",
       "75%      129.500000\n",
       "max      383.000000\n",
       "Name: price, dtype: float64"
      ]
     },
     "execution_count": 33,
     "metadata": {},
     "output_type": "execute_result"
    }
   ],
   "source": [
    "hotels['price'].describe()"
   ]
  },
  {
   "cell_type": "code",
   "execution_count": 34,
   "metadata": {},
   "outputs": [
    {
     "data": {
      "text/plain": [
       "count    207.000000\n",
       "mean       1.529952\n",
       "std        1.161507\n",
       "min        0.000000\n",
       "25%        0.800000\n",
       "50%        1.300000\n",
       "75%        1.900000\n",
       "max        6.600000\n",
       "Name: distance, dtype: float64"
      ]
     },
     "execution_count": 34,
     "metadata": {},
     "output_type": "execute_result"
    }
   ],
   "source": [
    "hotels['distance'].describe()"
   ]
  },
  {
   "cell_type": "code",
   "execution_count": 35,
   "metadata": {},
   "outputs": [
    {
     "data": {
      "text/plain": [
       "count    207.000000\n",
       "mean       4.640219\n",
       "std        0.336751\n",
       "min        3.912023\n",
       "25%        4.406719\n",
       "50%        4.605170\n",
       "75%        4.863673\n",
       "max        5.948035\n",
       "Name: lnprice, dtype: float64"
      ]
     },
     "execution_count": 35,
     "metadata": {},
     "output_type": "execute_result"
    }
   ],
   "source": [
    "hotels['lnprice'].describe()"
   ]
  },
  {
   "cell_type": "code",
   "execution_count": 44,
   "metadata": {},
   "outputs": [],
   "source": [
    "reg0 = smf.ols('lnprice ~ rating', data=hotels).fit()\n",
    "reg1 = smf.ols('lnprice ~ distance', data=hotels).fit()\n",
    "reg2 = smf.ols('lnprice ~ distance + rating', data=hotels).fit()"
   ]
  },
  {
   "cell_type": "code",
   "execution_count": 45,
   "metadata": {},
   "outputs": [
    {
     "data": {
      "text/plain": [
       "<statsmodels.regression.linear_model.RegressionResultsWrapper at 0x12550e160>"
      ]
     },
     "execution_count": 45,
     "metadata": {},
     "output_type": "execute_result"
    }
   ],
   "source": [
    "results"
   ]
  },
  {
   "cell_type": "code",
   "execution_count": 46,
   "metadata": {},
   "outputs": [
    {
     "data": {
      "text/plain": [
       "<statsmodels.regression.linear_model.OLSResults at 0x12579ceb8>"
      ]
     },
     "execution_count": 46,
     "metadata": {},
     "output_type": "execute_result"
    }
   ],
   "source": [
    "reg0.get_robustcov_results(cov_type='HC1')\n",
    "reg1.get_robustcov_results(cov_type='HC1')\n",
    "reg2.get_robustcov_results(cov_type='HC1')"
   ]
  },
  {
   "cell_type": "code",
   "execution_count": 47,
   "metadata": {},
   "outputs": [
    {
     "name": "stdout",
     "output_type": "stream",
     "text": [
      "                            OLS Regression Results                            \n",
      "==============================================================================\n",
      "Dep. Variable:                lnprice   R-squared:                       0.252\n",
      "Model:                            OLS   Adj. R-squared:                  0.248\n",
      "Method:                 Least Squares   F-statistic:                     69.11\n",
      "Date:                Fri, 19 Jun 2020   Prob (F-statistic):           1.28e-14\n",
      "Time:                        14:42:40   Log-Likelihood:                -37.850\n",
      "No. Observations:                 207   AIC:                             79.70\n",
      "Df Residuals:                     205   BIC:                             86.37\n",
      "Df Model:                           1                                         \n",
      "Covariance Type:            nonrobust                                         \n",
      "==============================================================================\n",
      "                 coef    std err          t      P>|t|      [0.025      0.975]\n",
      "------------------------------------------------------------------------------\n",
      "Intercept      2.8460      0.217     13.128      0.000       2.419       3.273\n",
      "rating         0.4424      0.053      8.313      0.000       0.337       0.547\n",
      "==============================================================================\n",
      "Omnibus:                       28.523   Durbin-Watson:                   1.393\n",
      "Prob(Omnibus):                  0.000   Jarque-Bera (JB):               43.031\n",
      "Skew:                           0.793   Prob(JB):                     4.53e-10\n",
      "Kurtosis:                       4.572   Cond. No.                         46.1\n",
      "==============================================================================\n",
      "\n",
      "Warnings:\n",
      "[1] Standard Errors assume that the covariance matrix of the errors is correctly specified.\n"
     ]
    }
   ],
   "source": [
    "print(reg0.summary())"
   ]
  },
  {
   "cell_type": "code",
   "execution_count": 48,
   "metadata": {},
   "outputs": [
    {
     "name": "stdout",
     "output_type": "stream",
     "text": [
      "                            OLS Regression Results                            \n",
      "==============================================================================\n",
      "Dep. Variable:                lnprice   R-squared:                       0.205\n",
      "Model:                            OLS   Adj. R-squared:                  0.201\n",
      "Method:                 Least Squares   F-statistic:                     52.90\n",
      "Date:                Fri, 19 Jun 2020   Prob (F-statistic):           7.30e-12\n",
      "Time:                        14:42:56   Log-Likelihood:                -44.160\n",
      "No. Observations:                 207   AIC:                             92.32\n",
      "Df Residuals:                     205   BIC:                             98.99\n",
      "Df Model:                           1                                         \n",
      "Covariance Type:            nonrobust                                         \n",
      "==============================================================================\n",
      "                 coef    std err          t      P>|t|      [0.025      0.975]\n",
      "------------------------------------------------------------------------------\n",
      "Intercept      4.8411      0.035    139.720      0.000       4.773       4.909\n",
      "distance      -0.1313      0.018     -7.273      0.000      -0.167      -0.096\n",
      "==============================================================================\n",
      "Omnibus:                       28.470   Durbin-Watson:                   1.564\n",
      "Prob(Omnibus):                  0.000   Jarque-Bera (JB):               47.450\n",
      "Skew:                           0.746   Prob(JB):                     4.97e-11\n",
      "Kurtosis:                       4.809   Cond. No.                         3.78\n",
      "==============================================================================\n",
      "\n",
      "Warnings:\n",
      "[1] Standard Errors assume that the covariance matrix of the errors is correctly specified.\n"
     ]
    }
   ],
   "source": [
    "print(reg1.summary())"
   ]
  },
  {
   "cell_type": "code",
   "execution_count": 49,
   "metadata": {},
   "outputs": [
    {
     "name": "stdout",
     "output_type": "stream",
     "text": [
      "                            OLS Regression Results                            \n",
      "==============================================================================\n",
      "Dep. Variable:                lnprice   R-squared:                       0.365\n",
      "Model:                            OLS   Adj. R-squared:                  0.359\n",
      "Method:                 Least Squares   F-statistic:                     58.69\n",
      "Date:                Fri, 19 Jun 2020   Prob (F-statistic):           7.34e-21\n",
      "Time:                        14:43:05   Log-Likelihood:                -20.875\n",
      "No. Observations:                 207   AIC:                             47.75\n",
      "Df Residuals:                     204   BIC:                             57.75\n",
      "Df Model:                           2                                         \n",
      "Covariance Type:            nonrobust                                         \n",
      "==============================================================================\n",
      "                 coef    std err          t      P>|t|      [0.025      0.975]\n",
      "------------------------------------------------------------------------------\n",
      "Intercept      3.3160      0.215     15.435      0.000       2.892       3.740\n",
      "distance      -0.1008      0.017     -6.030      0.000      -0.134      -0.068\n",
      "rating         0.3646      0.051      7.174      0.000       0.264       0.465\n",
      "==============================================================================\n",
      "Omnibus:                       48.220   Durbin-Watson:                   1.555\n",
      "Prob(Omnibus):                  0.000   Jarque-Bera (JB):              110.776\n",
      "Skew:                           1.057   Prob(JB):                     8.82e-25\n",
      "Kurtosis:                       5.893   Cond. No.                         52.7\n",
      "==============================================================================\n",
      "\n",
      "Warnings:\n",
      "[1] Standard Errors assume that the covariance matrix of the errors is correctly specified.\n"
     ]
    }
   ],
   "source": [
    "print(reg2.summary())"
   ]
  }
 ],
 "metadata": {
  "kernelspec": {
   "display_name": "Python 3",
   "language": "python",
   "name": "python3"
  },
  "language_info": {
   "codemirror_mode": {
    "name": "ipython",
    "version": 3
   },
   "file_extension": ".py",
   "mimetype": "text/x-python",
   "name": "python",
   "nbconvert_exporter": "python",
   "pygments_lexer": "ipython3",
   "version": "3.6.5"
  }
 },
 "nbformat": 4,
 "nbformat_minor": 2
}
