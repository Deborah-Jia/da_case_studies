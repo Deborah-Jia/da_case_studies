{
 "cells": [
  {
   "cell_type": "markdown",
   "metadata": {},
   "source": [
    "########################################################################\n",
    "#\n",
    "# DATA ANALYSIS TEXTBOOK\n",
    "# ILLUSTRATION STUDY FOR CHAPTER 8\n",
    "#\n",
    "# Measurement error, data cleaning\n",
    "# data downloaded from a hotels price comparison site on October 27, 2017\n",
    "#\n",
    "########################################################################"
   ]
  },
  {
   "cell_type": "code",
   "execution_count": 10,
   "metadata": {},
   "outputs": [],
   "source": [
    "import warnings\n",
    "warnings.filterwarnings('ignore')\n",
    "\n",
    "import pandas as pd\n",
    "import seaborn as sns\n",
    "from mizani.formatters import percent_format\n",
    "import os\n",
    "from plotnine import *\n",
    "import numpy as np\n",
    "import sys\n",
    "import numpy as np\n",
    "import statsmodels.api as sm\n",
    "import statsmodels.formula.api as smf\n",
    "\n",
    "# Current script folder\n",
    "current_path = os.getcwd()\n",
    "dirname = \"/\".join(current_path.split(\"/\")[:-2]) + \"/\"\n",
    "# location folders\n",
    "data_in = dirname + \"da_data_repo/hotels-vienna/clean/\"\n",
    "data_out = dirname + \"da_case_studies/ch08-hotels-measurement-error/\"\n",
    "output = dirname + \"da_case_studies/ch08-hotels-measurement-error/output/\"\n",
    "func = dirname + \"da_case_studies/ch00-tech-prep/\"\n",
    "sys.path.append(func)\n",
    "# Import the prewritten helper functions\n",
    "from py_helper_functions import *"
   ]
  },
  {
   "cell_type": "code",
   "execution_count": 6,
   "metadata": {},
   "outputs": [],
   "source": [
    "# load vienna\n",
    "hotels=pd.read_csv(data_in+\"hotels-vienna.csv\")"
   ]
  },
  {
   "cell_type": "markdown",
   "metadata": {},
   "source": [
    "#### SAMPLE SELECTION"
   ]
  },
  {
   "cell_type": "code",
   "execution_count": 7,
   "metadata": {},
   "outputs": [],
   "source": [
    "hotels = (\n",
    "    hotels.query('accommodation_type==\"Hotel\"')\n",
    "    .query('city_actual==\"Vienna\"')\n",
    "    .query(\"stars>=3 & stars<=4\")\n",
    "    .query(\"stars.notna()\")\n",
    "    .query(\"price<=600\")\n",
    ")"
   ]
  },
  {
   "cell_type": "markdown",
   "metadata": {},
   "source": [
    "#######################################\n",
    "### Look at measurement error by rating count\n",
    "#######################################"
   ]
  },
  {
   "cell_type": "code",
   "execution_count": 8,
   "metadata": {},
   "outputs": [],
   "source": [
    "hotels['lnprice']=np.log(hotels.price)"
   ]
  },
  {
   "cell_type": "code",
   "execution_count": 9,
   "metadata": {},
   "outputs": [],
   "source": [
    "# define cutoffs\n",
    "k1=100\n",
    "k2=200"
   ]
  },
  {
   "cell_type": "code",
   "execution_count": 16,
   "metadata": {
    "scrolled": true
   },
   "outputs": [
    {
     "name": "stdout",
     "output_type": "stream",
     "text": [
      "                            OLS Regression Results                            \n",
      "==============================================================================\n",
      "Dep. Variable:                lnprice   R-squared:                       0.244\n",
      "Model:                            OLS   Adj. R-squared:                  0.234\n",
      "Method:                 Least Squares   F-statistic:                     24.20\n",
      "Date:                Thu, 25 Jun 2020   Prob (F-statistic):           4.99e-06\n",
      "Time:                        18:12:17   Log-Likelihood:                -6.3405\n",
      "No. Observations:                  77   AIC:                             16.68\n",
      "Df Residuals:                      75   BIC:                             21.37\n",
      "Df Model:                           1                                         \n",
      "Covariance Type:            nonrobust                                         \n",
      "==============================================================================\n",
      "                 coef    std err          t      P>|t|      [0.025      0.975]\n",
      "------------------------------------------------------------------------------\n",
      "Intercept      3.1375      0.285     11.025      0.000       2.571       3.704\n",
      "rating         0.3540      0.072      4.920      0.000       0.211       0.497\n",
      "==============================================================================\n",
      "Omnibus:                        5.425   Durbin-Watson:                   1.336\n",
      "Prob(Omnibus):                  0.066   Jarque-Bera (JB):                4.960\n",
      "Skew:                           0.618   Prob(JB):                       0.0837\n",
      "Kurtosis:                       3.145   Cond. No.                         39.4\n",
      "==============================================================================\n",
      "\n",
      "Warnings:\n",
      "[1] Standard Errors assume that the covariance matrix of the errors is correctly specified.\n"
     ]
    }
   ],
   "source": [
    "reg_me=smf.ols(formula='lnprice ~ rating',data=hotels.loc[hotels.rating_count<k1,:])\n",
    "reg_me_fit=reg_me.fit()\n",
    "print(reg_me_fit.summary())"
   ]
  },
  {
   "cell_type": "code",
   "execution_count": 18,
   "metadata": {},
   "outputs": [],
   "source": [
    "hotels['yhat']=reg_me_fit.predict(hotels)"
   ]
  },
  {
   "cell_type": "code",
   "execution_count": 21,
   "metadata": {},
   "outputs": [
    {
     "name": "stdout",
     "output_type": "stream",
     "text": [
      "                            OLS Regression Results                            \n",
      "==============================================================================\n",
      "Dep. Variable:                lnprice   R-squared:                       0.194\n",
      "Model:                            OLS   Adj. R-squared:                  0.180\n",
      "Method:                 Least Squares   F-statistic:                     13.52\n",
      "Date:                Thu, 25 Jun 2020   Prob (F-statistic):           0.000531\n",
      "Time:                        18:17:27   Log-Likelihood:                -20.301\n",
      "No. Observations:                  58   AIC:                             44.60\n",
      "Df Residuals:                      56   BIC:                             48.72\n",
      "Df Model:                           1                                         \n",
      "Covariance Type:            nonrobust                                         \n",
      "==============================================================================\n",
      "                 coef    std err          t      P>|t|      [0.025      0.975]\n",
      "------------------------------------------------------------------------------\n",
      "Intercept      2.9129      0.482      6.038      0.000       1.946       3.879\n",
      "rating         0.4380      0.119      3.676      0.001       0.199       0.677\n",
      "==============================================================================\n",
      "Omnibus:                       19.349   Durbin-Watson:                   1.496\n",
      "Prob(Omnibus):                  0.000   Jarque-Bera (JB):               27.243\n",
      "Skew:                           1.223   Prob(JB):                     1.21e-06\n",
      "Kurtosis:                       5.301   Cond. No.                         45.1\n",
      "==============================================================================\n",
      "\n",
      "Warnings:\n",
      "[1] Standard Errors assume that the covariance matrix of the errors is correctly specified.\n"
     ]
    }
   ],
   "source": [
    "reg_me2=smf.ols(formula='lnprice ~ rating',data=hotels.loc[(hotels.rating_count>=k1)&(hotels.rating_count<k2),:])\n",
    "reg_me_fit2=reg_me2.fit()\n",
    "print(reg_me_fit2.summary())"
   ]
  },
  {
   "cell_type": "code",
   "execution_count": 22,
   "metadata": {},
   "outputs": [],
   "source": [
    "hotels['yhat2']=reg_me_fit2.predict(hotels)"
   ]
  },
  {
   "cell_type": "code",
   "execution_count": 23,
   "metadata": {},
   "outputs": [
    {
     "name": "stdout",
     "output_type": "stream",
     "text": [
      "                            OLS Regression Results                            \n",
      "==============================================================================\n",
      "Dep. Variable:                lnprice   R-squared:                       0.244\n",
      "Model:                            OLS   Adj. R-squared:                  0.233\n",
      "Method:                 Least Squares   F-statistic:                     22.60\n",
      "Date:                Thu, 25 Jun 2020   Prob (F-statistic):           1.03e-05\n",
      "Time:                        18:18:33   Log-Likelihood:                -4.1624\n",
      "No. Observations:                  72   AIC:                             12.32\n",
      "Df Residuals:                      70   BIC:                             16.88\n",
      "Df Model:                           1                                         \n",
      "Covariance Type:            nonrobust                                         \n",
      "==============================================================================\n",
      "                 coef    std err          t      P>|t|      [0.025      0.975]\n",
      "------------------------------------------------------------------------------\n",
      "Intercept      2.3895      0.493      4.849      0.000       1.407       3.372\n",
      "rating         0.5558      0.117      4.754      0.000       0.323       0.789\n",
      "==============================================================================\n",
      "Omnibus:                        2.670   Durbin-Watson:                   1.499\n",
      "Prob(Omnibus):                  0.263   Jarque-Bera (JB):                1.857\n",
      "Skew:                          -0.193   Prob(JB):                        0.395\n",
      "Kurtosis:                       2.314   Cond. No.                         71.6\n",
      "==============================================================================\n",
      "\n",
      "Warnings:\n",
      "[1] Standard Errors assume that the covariance matrix of the errors is correctly specified.\n"
     ]
    }
   ],
   "source": [
    "reg_me3=smf.ols(formula='lnprice ~ rating',data=hotels.loc[hotels.rating_count>=k2,:])\n",
    "reg_me_fit3=reg_me3.fit()\n",
    "print(reg_me_fit3.summary())"
   ]
  },
  {
   "cell_type": "code",
   "execution_count": 24,
   "metadata": {},
   "outputs": [],
   "source": [
    "hotels['yhat3']=reg_me_fit3.predict(hotels)"
   ]
  },
  {
   "cell_type": "code",
   "execution_count": 41,
   "metadata": {},
   "outputs": [
    {
     "data": {
      "image/png": "[encoded data removed]",
      "text/plain": [
       "<Figure size 640x480 with 1 Axes>"
      ]
     },
     "metadata": {},
     "output_type": "display_data"
    },
    {
     "data": {
      "text/plain": [
       "<ggplot: (8726982537177)>"
      ]
     },
     "execution_count": 41,
     "metadata": {},
     "output_type": "execute_result"
    }
   ],
   "source": [
    "ggplot(hotels) + geom_line(\n",
    "    aes(x=\"rating\", y=\"yhat\"),color=color[1], size=1\n",
    ") + geom_line(aes(x=\"rating\", y=\"yhat3\"),color=color[0], size=1)+ coord_cartesian(\n",
    "    xlim=[2, 5], ylim=[3.5, 5]\n",
    ") + expand_limits(\n",
    "    x=0.01, y=0.01\n",
    ") + scale_y_continuous(\n",
    "    expand=[0.01, 0.01]\n",
    ") + scale_x_continuous(\n",
    "    expand=[0.01, 0.01], limits=[2, 5], breaks=seq(2, 5.1, 0.5)\n",
    ") + labs(\n",
    "    x=\"Average rating\", y=\"ln(Hotel price, US dollars)\"\n",
    ") + theme_bw() + annotate(\n",
    "    \"text\", x=2.6, y=4.4, label=\"More noisy: # of ratings<100\", size=10, color=color[1]\n",
    ") + annotate(\n",
    "    \"text\", x=3.1, y=3.6, label=\"Less noisy: # of ratings>200\", size=10, color=color[0]\n",
    ")"
   ]
  }
 ],
 "metadata": {
  "kernelspec": {
   "display_name": "Python 3",
   "language": "python",
   "name": "python3"
  },
  "language_info": {
   "codemirror_mode": {
    "name": "ipython",
    "version": 3
   },
   "file_extension": ".py",
   "mimetype": "text/x-python",
   "name": "python",
   "nbconvert_exporter": "python",
   "pygments_lexer": "ipython3",
   "version": "3.8.2"
  }
 },
 "nbformat": 4,
 "nbformat_minor": 4
}
