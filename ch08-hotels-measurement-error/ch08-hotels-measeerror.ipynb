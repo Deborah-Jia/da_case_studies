{
 "cells": [
  {
   "cell_type": "markdown",
   "metadata": {},
   "source": [
    "## Prepared for the textbook:\n",
    "-------------------------------------------------------------------\n",
    "## Data Analysis for Business, Economics, and Policy\n",
    "#### by Gabor BEKES and  Gabor KEZDI \n",
    "----------------------------------\n",
    "#### Cambridge University Press 2021\n",
    "-----------------------------------------------------------------------------------------------\n",
    "#### License: Free to share, modify and use for educational purposes. Not to be used for business purposes.\n"
   ]
  },
  {
   "cell_type": "code",
   "execution_count": 1,
   "metadata": {},
   "outputs": [],
   "source": [
    "import warnings\n",
    "warnings.filterwarnings('ignore')\n",
    "\n",
    "import pandas as pd\n",
    "import seaborn as sns\n",
    "from mizani.formatters import percent_format\n",
    "import os\n",
    "from plotnine import *\n",
    "import numpy as np\n",
    "import sys\n",
    "import numpy as np\n",
    "import statsmodels.api as sm\n",
    "import statsmodels.formula.api as smf\n",
    "\n",
    "# Current script folder\n",
    "current_path = os.getcwd()\n",
    "dirname = \"/\".join(current_path.split(\"/\")[:-2]) + \"/\"\n",
    "# location folders\n",
    "data_in = dirname + \"da_data_repo/hotels-vienna/clean/\"\n",
    "data_out = dirname + \"da_case_studies/ch08-hotels-measurement-error/\"\n",
    "output = dirname + \"da_case_studies/ch08-hotels-measurement-error/output/\"\n",
    "func = dirname + \"da_case_studies/ch00-tech-prep/\"\n",
    "sys.path.append(func)\n",
    "# Import the prewritten helper functions\n",
    "from py_helper_functions import *"
   ]
  },
  {
   "cell_type": "code",
   "execution_count": 2,
   "metadata": {},
   "outputs": [],
   "source": [
    "# load vienna\n",
    "hotels=pd.read_csv(data_in+\"hotels-vienna.csv\")"
   ]
  },
  {
   "cell_type": "markdown",
   "metadata": {},
   "source": [
    "#### SAMPLE SELECTION"
   ]
  },
  {
   "cell_type": "code",
   "execution_count": 3,
   "metadata": {},
   "outputs": [],
   "source": [
    "hotels = (\n",
    "    hotels.query('accommodation_type==\"Hotel\"')\n",
    "    .query('city_actual==\"Vienna\"')\n",
    "    .query(\"stars>=3 & stars<=4\")\n",
    "    .query(\"stars.notna()\")\n",
    "    .query(\"price<=600\")\n",
    ")"
   ]
  },
  {
   "cell_type": "markdown",
   "metadata": {},
   "source": [
    "#######################################\n",
    "### Look at measurement error by rating count\n",
    "#######################################"
   ]
  },
  {
   "cell_type": "code",
   "execution_count": 4,
   "metadata": {},
   "outputs": [],
   "source": [
    "hotels['lnprice']=np.log(hotels.price)"
   ]
  },
  {
   "cell_type": "code",
   "execution_count": 5,
   "metadata": {},
   "outputs": [],
   "source": [
    "# define cutoffs\n",
    "k1=100\n",
    "k2=200"
   ]
  },
  {
   "cell_type": "code",
   "execution_count": 6,
   "metadata": {},
   "outputs": [],
   "source": [
    "reg_me=smf.ols(formula='lnprice ~ rating',data=hotels.loc[hotels.rating_count<k1,:])\n",
    "reg_me_fit=reg_me.fit()"
   ]
  },
  {
   "cell_type": "code",
   "execution_count": 7,
   "metadata": {
    "scrolled": false
   },
   "outputs": [
    {
     "name": "stdout",
     "output_type": "stream",
     "text": [
      "                            OLS Regression Results                            \n",
      "==============================================================================\n",
      "Dep. Variable:                lnprice   R-squared:                       0.244\n",
      "Model:                            OLS   Adj. R-squared:                  0.234\n",
      "No. Observations:                  77   F-statistic:                     24.20\n",
      "Covariance Type:            nonrobust   Prob (F-statistic):           4.99e-06\n",
      "==============================================================================\n",
      "                 coef    std err          t      P>|t|      [0.025      0.975]\n",
      "------------------------------------------------------------------------------\n",
      "Intercept      3.1375      0.285     11.025      0.000       2.571       3.704\n",
      "rating         0.3540      0.072      4.920      0.000       0.211       0.497\n",
      "==============================================================================\n",
      "\n",
      "Notes:\n",
      "[1] Standard Errors assume that the covariance matrix of the errors is correctly specified.\n"
     ]
    }
   ],
   "source": [
    "print(reg_me_fit.summary(slim=True))"
   ]
  },
  {
   "cell_type": "code",
   "execution_count": null,
   "metadata": {},
   "outputs": [],
   "source": []
  },
  {
   "cell_type": "code",
   "execution_count": null,
   "metadata": {},
   "outputs": [],
   "source": [
    "hotels['yhat']=reg_me_fit.predict(hotels)"
   ]
  },
  {
   "cell_type": "code",
   "execution_count": null,
   "metadata": {},
   "outputs": [],
   "source": [
    "reg_me2=smf.ols(formula='lnprice ~ rating',data=hotels.loc[(hotels.rating_count>=k1)&(hotels.rating_count<k2),:])\n",
    "reg_me_fit2=reg_me2.fit()\n",
    "reg_me_fit2.summary(slim=True)"
   ]
  },
  {
   "cell_type": "code",
   "execution_count": null,
   "metadata": {},
   "outputs": [],
   "source": [
    "hotels['yhat2']=reg_me_fit2.predict(hotels)"
   ]
  },
  {
   "cell_type": "code",
   "execution_count": null,
   "metadata": {},
   "outputs": [],
   "source": [
    "reg_me3=smf.ols(formula='lnprice ~ rating',data=hotels.loc[hotels.rating_count>=k2,:])\n",
    "reg_me_fit3=reg_me3.fit()\n",
    "reg_me_fit3.summary(slim=True)"
   ]
  },
  {
   "cell_type": "code",
   "execution_count": null,
   "metadata": {},
   "outputs": [],
   "source": [
    "hotels['yhat3']=reg_me_fit3.predict(hotels)"
   ]
  },
  {
   "cell_type": "code",
   "execution_count": null,
   "metadata": {},
   "outputs": [],
   "source": [
    "ggplot(hotels) + geom_line(\n",
    "    aes(x=\"rating\", y=\"yhat\"),color=color[1], size=1\n",
    ") + geom_line(aes(x=\"rating\", y=\"yhat3\"),color=color[0], size=1)+ coord_cartesian(\n",
    "    xlim=[2, 5], ylim=[3.5, 5]\n",
    ") + expand_limits(\n",
    "    x=0.01, y=0.01\n",
    ") + scale_y_continuous(\n",
    "    expand=[0.01, 0.01]\n",
    ") + scale_x_continuous(\n",
    "    expand=[0.01, 0.01], limits=[2, 5], breaks=seq(2, 5.1, 0.5)\n",
    ") + labs(\n",
    "    x=\"Average rating\", y=\"ln(Hotel price, US dollars)\"\n",
    ") + theme_bw() + annotate(\n",
    "    \"text\", x=2.6, y=4.4, label=\"More noisy: # of ratings<100\", size=10, color=color[1]\n",
    ") + annotate(\n",
    "    \"text\", x=3.1, y=3.6, label=\"Less noisy: # of ratings>200\", size=10, color=color[0]\n",
    ")"
   ]
  }
 ],
 "metadata": {
  "kernelspec": {
   "display_name": "Python 3",
   "language": "python",
   "name": "python3"
  },
  "language_info": {
   "codemirror_mode": {
    "name": "ipython",
    "version": 3
   },
   "file_extension": ".py",
   "mimetype": "text/x-python",
   "name": "python",
   "nbconvert_exporter": "python",
   "pygments_lexer": "ipython3",
   "version": "3.8.2"
  }
 },
 "nbformat": 4,
 "nbformat_minor": 4
}
