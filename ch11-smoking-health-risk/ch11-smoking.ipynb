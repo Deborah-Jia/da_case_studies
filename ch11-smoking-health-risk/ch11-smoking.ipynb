{
 "cells": [
  {
   "cell_type": "markdown",
   "metadata": {},
   "source": [
    "## Prepared for the textbook:\n",
    "-------------------------------------------------------------------\n",
    "## Data Analysis for Business, Economics, and Policy\n",
    "#### by Gabor BEKES and  Gabor KEZDI \n",
    "----------------------------------\n",
    "#### Cambridge University Press 2021\n",
    "-----------------------------------------------------------------------------------------------\n",
    "#### License: Free to share, modify and use for educational purposes. Not to be used for business purposes.\n"
   ]
  },
  {
   "cell_type": "code",
   "execution_count": 1,
   "metadata": {},
   "outputs": [],
   "source": [
    "import pandas as pd\n",
    "import os\n",
    "from pathlib import Path\n",
    "import numpy as np\n",
    "import statsmodels.api as sm\n",
    "import statsmodels.formula.api as smf\n",
    "from plotnine import *\n",
    "import sys\n",
    "from patsy import dmatrices"
   ]
  },
  {
   "cell_type": "code",
   "execution_count": 2,
   "metadata": {},
   "outputs": [],
   "source": [
    "path = Path(os.getcwd())"
   ]
  },
  {
   "cell_type": "code",
   "execution_count": 3,
   "metadata": {},
   "outputs": [],
   "source": [
    "base_dir = path.parent.parent"
   ]
  },
  {
   "cell_type": "code",
   "execution_count": 4,
   "metadata": {},
   "outputs": [],
   "source": [
    "data_in = os.path.join(str(base_dir) , \"da_data_repo/share-health/clean/\")\n",
    "data_out = os.path.join(str(base_dir), \"da_case_studies/ch11-smoking-health-risk/\")\n",
    "output = os.path.join(str(base_dir), \"da_case_studies/ch11-smoking-health-risk/output/\")\n",
    "func = os.path.join(str(base_dir) ,   \"da_case_studies/ch00-tech-prep/\")"
   ]
  },
  {
   "cell_type": "code",
   "execution_count": 5,
   "metadata": {},
   "outputs": [],
   "source": [
    "share = pd.read_csv(os.path.join(data_in,\"share-health.csv\"))"
   ]
  },
  {
   "cell_type": "code",
   "execution_count": 6,
   "metadata": {},
   "outputs": [],
   "source": [
    "sys.path.append(func)"
   ]
  },
  {
   "cell_type": "code",
   "execution_count": 7,
   "metadata": {},
   "outputs": [],
   "source": [
    "from py_helper_functions import *"
   ]
  },
  {
   "cell_type": "code",
   "execution_count": null,
   "metadata": {},
   "outputs": [],
   "source": [
    "#Part I"
   ]
  },
  {
   "cell_type": "code",
   "execution_count": 8,
   "metadata": {},
   "outputs": [
    {
     "data": {
      "text/html": [
       "<div>\n",
       "<style scoped>\n",
       "    .dataframe tbody tr th:only-of-type {\n",
       "        vertical-align: middle;\n",
       "    }\n",
       "\n",
       "    .dataframe tbody tr th {\n",
       "        vertical-align: top;\n",
       "    }\n",
       "\n",
       "    .dataframe thead th {\n",
       "        text-align: right;\n",
       "    }\n",
       "</style>\n",
       "<table border=\"1\" class=\"dataframe\">\n",
       "  <thead>\n",
       "    <tr style=\"text-align: right;\">\n",
       "      <th></th>\n",
       "      <th>mergeid</th>\n",
       "      <th>wave</th>\n",
       "      <th>country</th>\n",
       "      <th>country_mod</th>\n",
       "      <th>int_year</th>\n",
       "      <th>int_month</th>\n",
       "      <th>female</th>\n",
       "      <th>age</th>\n",
       "      <th>eduyears_mod</th>\n",
       "      <th>sphus</th>\n",
       "      <th>br015</th>\n",
       "      <th>smoking</th>\n",
       "      <th>ever_smoked</th>\n",
       "      <th>income_pct_w4</th>\n",
       "      <th>bmi</th>\n",
       "      <th>mar_stat</th>\n",
       "    </tr>\n",
       "  </thead>\n",
       "  <tbody>\n",
       "    <tr>\n",
       "      <th>0</th>\n",
       "      <td>AT-000327-01</td>\n",
       "      <td>1</td>\n",
       "      <td>11</td>\n",
       "      <td>40</td>\n",
       "      <td>2004</td>\n",
       "      <td>6</td>\n",
       "      <td>0</td>\n",
       "      <td>51.900002</td>\n",
       "      <td>-15.0</td>\n",
       "      <td>1</td>\n",
       "      <td>2</td>\n",
       "      <td>5</td>\n",
       "      <td>5</td>\n",
       "      <td>-13</td>\n",
       "      <td>32.787994</td>\n",
       "      <td>1</td>\n",
       "    </tr>\n",
       "    <tr>\n",
       "      <th>1</th>\n",
       "      <td>AT-000327-01</td>\n",
       "      <td>2</td>\n",
       "      <td>11</td>\n",
       "      <td>40</td>\n",
       "      <td>2007</td>\n",
       "      <td>3</td>\n",
       "      <td>0</td>\n",
       "      <td>54.700001</td>\n",
       "      <td>-3.0</td>\n",
       "      <td>5</td>\n",
       "      <td>4</td>\n",
       "      <td>5</td>\n",
       "      <td>5</td>\n",
       "      <td>-13</td>\n",
       "      <td>20.281233</td>\n",
       "      <td>1</td>\n",
       "    </tr>\n",
       "    <tr>\n",
       "      <th>2</th>\n",
       "      <td>AT-000327-02</td>\n",
       "      <td>1</td>\n",
       "      <td>11</td>\n",
       "      <td>40</td>\n",
       "      <td>2004</td>\n",
       "      <td>6</td>\n",
       "      <td>1</td>\n",
       "      <td>48.900002</td>\n",
       "      <td>3.0</td>\n",
       "      <td>1</td>\n",
       "      <td>3</td>\n",
       "      <td>5</td>\n",
       "      <td>5</td>\n",
       "      <td>-13</td>\n",
       "      <td>31.161373</td>\n",
       "      <td>1</td>\n",
       "    </tr>\n",
       "    <tr>\n",
       "      <th>3</th>\n",
       "      <td>AT-000327-02</td>\n",
       "      <td>2</td>\n",
       "      <td>11</td>\n",
       "      <td>40</td>\n",
       "      <td>2007</td>\n",
       "      <td>3</td>\n",
       "      <td>1</td>\n",
       "      <td>51.700001</td>\n",
       "      <td>3.0</td>\n",
       "      <td>2</td>\n",
       "      <td>1</td>\n",
       "      <td>5</td>\n",
       "      <td>5</td>\n",
       "      <td>-13</td>\n",
       "      <td>30.461119</td>\n",
       "      <td>1</td>\n",
       "    </tr>\n",
       "    <tr>\n",
       "      <th>4</th>\n",
       "      <td>AT-000674-01</td>\n",
       "      <td>4</td>\n",
       "      <td>11</td>\n",
       "      <td>40</td>\n",
       "      <td>2011</td>\n",
       "      <td>11</td>\n",
       "      <td>1</td>\n",
       "      <td>59.700001</td>\n",
       "      <td>3.0</td>\n",
       "      <td>3</td>\n",
       "      <td>1</td>\n",
       "      <td>5</td>\n",
       "      <td>5</td>\n",
       "      <td>1</td>\n",
       "      <td>24.023809</td>\n",
       "      <td>6</td>\n",
       "    </tr>\n",
       "  </tbody>\n",
       "</table>\n",
       "</div>"
      ],
      "text/plain": [
       "        mergeid  wave  country  country_mod  int_year  int_month  female  \\\n",
       "0  AT-000327-01     1       11           40      2004          6       0   \n",
       "1  AT-000327-01     2       11           40      2007          3       0   \n",
       "2  AT-000327-02     1       11           40      2004          6       1   \n",
       "3  AT-000327-02     2       11           40      2007          3       1   \n",
       "4  AT-000674-01     4       11           40      2011         11       1   \n",
       "\n",
       "         age  eduyears_mod  sphus  br015  smoking  ever_smoked  income_pct_w4  \\\n",
       "0  51.900002         -15.0      1      2        5            5            -13   \n",
       "1  54.700001          -3.0      5      4        5            5            -13   \n",
       "2  48.900002           3.0      1      3        5            5            -13   \n",
       "3  51.700001           3.0      2      1        5            5            -13   \n",
       "4  59.700001           3.0      3      1        5            5              1   \n",
       "\n",
       "         bmi  mar_stat  \n",
       "0  32.787994         1  \n",
       "1  20.281233         1  \n",
       "2  31.161373         1  \n",
       "3  30.461119         1  \n",
       "4  24.023809         6  "
      ]
     },
     "execution_count": 8,
     "metadata": {},
     "output_type": "execute_result"
    }
   ],
   "source": [
    "share.head()"
   ]
  },
  {
   "cell_type": "code",
   "execution_count": 9,
   "metadata": {},
   "outputs": [],
   "source": [
    "share['healthy']=0\n",
    "share.loc[(share['sphus']==1) | (share['sphus']==2),'healthy']=1\n",
    "share.loc[~((share['sphus']>0) & (share['sphus']<=5)),'healthy']=np.nan"
   ]
  },
  {
   "cell_type": "code",
   "execution_count": 10,
   "metadata": {},
   "outputs": [
    {
     "data": {
      "text/plain": [
       "0.0    213847\n",
       "1.0     73808\n",
       "Name: healthy, dtype: int64"
      ]
     },
     "execution_count": 10,
     "metadata": {},
     "output_type": "execute_result"
    }
   ],
   "source": [
    "share['healthy'].value_counts()"
   ]
  },
  {
   "cell_type": "code",
   "execution_count": 11,
   "metadata": {},
   "outputs": [],
   "source": [
    "share = share.dropna(how='any')"
   ]
  },
  {
   "cell_type": "code",
   "execution_count": 12,
   "metadata": {},
   "outputs": [],
   "source": [
    "share['baseline'] = 0\n",
    "share.loc[share['wave']==4,'baseline']=1\n",
    "share['endline'] = 0\n",
    "share.loc[share['wave']==6,'endline']=1"
   ]
  },
  {
   "cell_type": "code",
   "execution_count": 13,
   "metadata": {},
   "outputs": [
    {
     "data": {
      "text/plain": [
       "0    229773\n",
       "1     57882\n",
       "Name: baseline, dtype: int64"
      ]
     },
     "execution_count": 13,
     "metadata": {},
     "output_type": "execute_result"
    }
   ],
   "source": [
    "share['baseline'].value_counts()"
   ]
  },
  {
   "cell_type": "code",
   "execution_count": 14,
   "metadata": {},
   "outputs": [
    {
     "data": {
      "text/plain": [
       "0    219568\n",
       "1     68087\n",
       "Name: endline, dtype: int64"
      ]
     },
     "execution_count": 14,
     "metadata": {},
     "output_type": "execute_result"
    }
   ],
   "source": [
    "share['endline'].value_counts()"
   ]
  },
  {
   "cell_type": "code",
   "execution_count": null,
   "metadata": {},
   "outputs": [],
   "source": []
  },
  {
   "cell_type": "code",
   "execution_count": null,
   "metadata": {},
   "outputs": [],
   "source": []
  },
  {
   "cell_type": "code",
   "execution_count": null,
   "metadata": {},
   "outputs": [],
   "source": []
  },
  {
   "cell_type": "code",
   "execution_count": 15,
   "metadata": {},
   "outputs": [],
   "source": [
    "#Part 2"
   ]
  },
  {
   "cell_type": "code",
   "execution_count": 16,
   "metadata": {},
   "outputs": [],
   "source": [
    "share = pd.read_csv('ch11_share.csv')"
   ]
  },
  {
   "cell_type": "code",
   "execution_count": 17,
   "metadata": {},
   "outputs": [
    {
     "data": {
      "text/html": [
       "<div>\n",
       "<style scoped>\n",
       "    .dataframe tbody tr th:only-of-type {\n",
       "        vertical-align: middle;\n",
       "    }\n",
       "\n",
       "    .dataframe tbody tr th {\n",
       "        vertical-align: top;\n",
       "    }\n",
       "\n",
       "    .dataframe thead th {\n",
       "        text-align: right;\n",
       "    }\n",
       "</style>\n",
       "<table border=\"1\" class=\"dataframe\">\n",
       "  <thead>\n",
       "    <tr style=\"text-align: right;\">\n",
       "      <th></th>\n",
       "      <th>mergeid</th>\n",
       "      <th>wave</th>\n",
       "      <th>country</th>\n",
       "      <th>country_mod</th>\n",
       "      <th>int_year</th>\n",
       "      <th>int_month</th>\n",
       "      <th>female</th>\n",
       "      <th>age</th>\n",
       "      <th>sphus</th>\n",
       "      <th>br015</th>\n",
       "      <th>...</th>\n",
       "      <th>income10</th>\n",
       "      <th>bmi</th>\n",
       "      <th>mar_stat</th>\n",
       "      <th>healthy</th>\n",
       "      <th>baseline</th>\n",
       "      <th>endline</th>\n",
       "      <th>stayshealthy</th>\n",
       "      <th>exerc</th>\n",
       "      <th>married</th>\n",
       "      <th>eduyears</th>\n",
       "    </tr>\n",
       "  </thead>\n",
       "  <tbody>\n",
       "    <tr>\n",
       "      <th>0</th>\n",
       "      <td>AT-001492-02</td>\n",
       "      <td>4</td>\n",
       "      <td>11</td>\n",
       "      <td>40</td>\n",
       "      <td>2011</td>\n",
       "      <td>9</td>\n",
       "      <td>0</td>\n",
       "      <td>59.799999</td>\n",
       "      <td>2</td>\n",
       "      <td>3</td>\n",
       "      <td>...</td>\n",
       "      <td>8</td>\n",
       "      <td>23.198315</td>\n",
       "      <td>1</td>\n",
       "      <td>1</td>\n",
       "      <td>1</td>\n",
       "      <td>0</td>\n",
       "      <td>1</td>\n",
       "      <td>0</td>\n",
       "      <td>1</td>\n",
       "      <td>13.0</td>\n",
       "    </tr>\n",
       "    <tr>\n",
       "      <th>1</th>\n",
       "      <td>AT-002136-03</td>\n",
       "      <td>4</td>\n",
       "      <td>11</td>\n",
       "      <td>40</td>\n",
       "      <td>2011</td>\n",
       "      <td>8</td>\n",
       "      <td>1</td>\n",
       "      <td>58.200001</td>\n",
       "      <td>1</td>\n",
       "      <td>2</td>\n",
       "      <td>...</td>\n",
       "      <td>9</td>\n",
       "      <td>24.801588</td>\n",
       "      <td>1</td>\n",
       "      <td>1</td>\n",
       "      <td>1</td>\n",
       "      <td>0</td>\n",
       "      <td>1</td>\n",
       "      <td>0</td>\n",
       "      <td>1</td>\n",
       "      <td>14.0</td>\n",
       "    </tr>\n",
       "    <tr>\n",
       "      <th>2</th>\n",
       "      <td>AT-002800-01</td>\n",
       "      <td>4</td>\n",
       "      <td>11</td>\n",
       "      <td>40</td>\n",
       "      <td>2011</td>\n",
       "      <td>9</td>\n",
       "      <td>1</td>\n",
       "      <td>57.000000</td>\n",
       "      <td>2</td>\n",
       "      <td>4</td>\n",
       "      <td>...</td>\n",
       "      <td>3</td>\n",
       "      <td>22.038567</td>\n",
       "      <td>3</td>\n",
       "      <td>1</td>\n",
       "      <td>1</td>\n",
       "      <td>0</td>\n",
       "      <td>1</td>\n",
       "      <td>0</td>\n",
       "      <td>0</td>\n",
       "      <td>23.0</td>\n",
       "    </tr>\n",
       "    <tr>\n",
       "      <th>3</th>\n",
       "      <td>AT-009262-02</td>\n",
       "      <td>4</td>\n",
       "      <td>11</td>\n",
       "      <td>40</td>\n",
       "      <td>2011</td>\n",
       "      <td>12</td>\n",
       "      <td>0</td>\n",
       "      <td>59.299999</td>\n",
       "      <td>2</td>\n",
       "      <td>1</td>\n",
       "      <td>...</td>\n",
       "      <td>6</td>\n",
       "      <td>25.826447</td>\n",
       "      <td>1</td>\n",
       "      <td>1</td>\n",
       "      <td>1</td>\n",
       "      <td>0</td>\n",
       "      <td>0</td>\n",
       "      <td>1</td>\n",
       "      <td>1</td>\n",
       "      <td>12.0</td>\n",
       "    </tr>\n",
       "    <tr>\n",
       "      <th>4</th>\n",
       "      <td>AT-009376-01</td>\n",
       "      <td>4</td>\n",
       "      <td>11</td>\n",
       "      <td>40</td>\n",
       "      <td>2011</td>\n",
       "      <td>9</td>\n",
       "      <td>0</td>\n",
       "      <td>53.299999</td>\n",
       "      <td>2</td>\n",
       "      <td>1</td>\n",
       "      <td>...</td>\n",
       "      <td>8</td>\n",
       "      <td>26.827421</td>\n",
       "      <td>1</td>\n",
       "      <td>1</td>\n",
       "      <td>1</td>\n",
       "      <td>0</td>\n",
       "      <td>0</td>\n",
       "      <td>1</td>\n",
       "      <td>1</td>\n",
       "      <td>3.0</td>\n",
       "    </tr>\n",
       "  </tbody>\n",
       "</table>\n",
       "<p>5 rows × 22 columns</p>\n",
       "</div>"
      ],
      "text/plain": [
       "        mergeid  wave  country  country_mod  int_year  int_month  female  \\\n",
       "0  AT-001492-02     4       11           40      2011          9       0   \n",
       "1  AT-002136-03     4       11           40      2011          8       1   \n",
       "2  AT-002800-01     4       11           40      2011          9       1   \n",
       "3  AT-009262-02     4       11           40      2011         12       0   \n",
       "4  AT-009376-01     4       11           40      2011          9       0   \n",
       "\n",
       "         age  sphus  br015  ...  income10        bmi  mar_stat  healthy  \\\n",
       "0  59.799999      2      3  ...         8  23.198315         1        1   \n",
       "1  58.200001      1      2  ...         9  24.801588         1        1   \n",
       "2  57.000000      2      4  ...         3  22.038567         3        1   \n",
       "3  59.299999      2      1  ...         6  25.826447         1        1   \n",
       "4  53.299999      2      1  ...         8  26.827421         1        1   \n",
       "\n",
       "   baseline  endline  stayshealthy  exerc  married  eduyears  \n",
       "0         1        0             1      0        1      13.0  \n",
       "1         1        0             1      0        1      14.0  \n",
       "2         1        0             1      0        0      23.0  \n",
       "3         1        0             0      1        1      12.0  \n",
       "4         1        0             0      1        1       3.0  \n",
       "\n",
       "[5 rows x 22 columns]"
      ]
     },
     "execution_count": 17,
     "metadata": {},
     "output_type": "execute_result"
    }
   ],
   "source": [
    "share.head()"
   ]
  },
  {
   "cell_type": "code",
   "execution_count": 18,
   "metadata": {},
   "outputs": [],
   "source": [
    "lpm1 = smf.ols('stayshealthy ~ smoking', data=share).fit()"
   ]
  },
  {
   "cell_type": "code",
   "execution_count": 19,
   "metadata": {},
   "outputs": [
    {
     "name": "stdout",
     "output_type": "stream",
     "text": [
      "                            OLS Regression Results                            \n",
      "==============================================================================\n",
      "Dep. Variable:           stayshealthy   R-squared:                       0.004\n",
      "Model:                            OLS   Adj. R-squared:                  0.003\n",
      "Method:                 Least Squares   F-statistic:                     11.14\n",
      "Date:                Wed, 19 Aug 2020   Prob (F-statistic):           0.000856\n",
      "Time:                        16:00:58   Log-Likelihood:                -2181.2\n",
      "No. Observations:                3109   AIC:                             4366.\n",
      "Df Residuals:                    3107   BIC:                             4379.\n",
      "Df Model:                           1                                         \n",
      "Covariance Type:            nonrobust                                         \n",
      "==============================================================================\n",
      "                 coef    std err          t      P>|t|      [0.025      0.975]\n",
      "------------------------------------------------------------------------------\n",
      "Intercept      0.6204      0.010     62.423      0.000       0.601       0.640\n",
      "smoking       -0.0701      0.021     -3.337      0.001      -0.111      -0.029\n",
      "==============================================================================\n",
      "Omnibus:                    12627.714   Durbin-Watson:                   1.845\n",
      "Prob(Omnibus):                  0.000   Jarque-Bera (JB):              515.339\n",
      "Skew:                          -0.427   Prob(JB):                    1.25e-112\n",
      "Kurtosis:                       1.197   Cond. No.                         2.54\n",
      "==============================================================================\n",
      "\n",
      "Warnings:\n",
      "[1] Standard Errors assume that the covariance matrix of the errors is correctly specified.\n"
     ]
    }
   ],
   "source": [
    "print(lpm1.summary())"
   ]
  },
  {
   "cell_type": "code",
   "execution_count": 20,
   "metadata": {},
   "outputs": [
    {
     "name": "stdout",
     "output_type": "stream",
     "text": [
      "                            OLS Regression Results                            \n",
      "==============================================================================\n",
      "Dep. Variable:           stayshealthy   R-squared:                       0.004\n",
      "Model:                            OLS   Adj. R-squared:                  0.003\n",
      "Method:                 Least Squares   F-statistic:                     10.84\n",
      "Date:                Wed, 19 Aug 2020   Prob (F-statistic):            0.00101\n",
      "Time:                        16:00:58   Log-Likelihood:                -2181.2\n",
      "No. Observations:                3109   AIC:                             4366.\n",
      "Df Residuals:                    3107   BIC:                             4379.\n",
      "Df Model:                           1                                         \n",
      "Covariance Type:                  HC1                                         \n",
      "==============================================================================\n",
      "                 coef    std err          t      P>|t|      [0.025      0.975]\n",
      "------------------------------------------------------------------------------\n",
      "Intercept      0.6204      0.010     62.777      0.000       0.601       0.640\n",
      "smoking       -0.0701      0.021     -3.292      0.001      -0.112      -0.028\n",
      "==============================================================================\n",
      "Omnibus:                    12627.714   Durbin-Watson:                   1.845\n",
      "Prob(Omnibus):                  0.000   Jarque-Bera (JB):              515.339\n",
      "Skew:                          -0.427   Prob(JB):                    1.25e-112\n",
      "Kurtosis:                       1.197   Cond. No.                         2.54\n",
      "==============================================================================\n",
      "\n",
      "Warnings:\n",
      "[1] Standard Errors are heteroscedasticity robust (HC1)\n"
     ]
    }
   ],
   "source": [
    "print(lpm1.get_robustcov_results(cov_type='HC1').summary())"
   ]
  },
  {
   "cell_type": "code",
   "execution_count": 21,
   "metadata": {},
   "outputs": [],
   "source": [
    "share['pred1']=lpm1.predict()"
   ]
  },
  {
   "cell_type": "code",
   "execution_count": 22,
   "metadata": {},
   "outputs": [
    {
     "data": {
      "text/html": [
       "<div>\n",
       "<style scoped>\n",
       "    .dataframe tbody tr th:only-of-type {\n",
       "        vertical-align: middle;\n",
       "    }\n",
       "\n",
       "    .dataframe tbody tr th {\n",
       "        vertical-align: top;\n",
       "    }\n",
       "\n",
       "    .dataframe thead th {\n",
       "        text-align: right;\n",
       "    }\n",
       "</style>\n",
       "<table border=\"1\" class=\"dataframe\">\n",
       "  <thead>\n",
       "    <tr style=\"text-align: right;\">\n",
       "      <th>smoking</th>\n",
       "      <th>0</th>\n",
       "      <th>1</th>\n",
       "    </tr>\n",
       "    <tr>\n",
       "      <th>pred1</th>\n",
       "      <th></th>\n",
       "      <th></th>\n",
       "    </tr>\n",
       "  </thead>\n",
       "  <tbody>\n",
       "    <tr>\n",
       "      <th>0.550287</th>\n",
       "      <td>0</td>\n",
       "      <td>696</td>\n",
       "    </tr>\n",
       "    <tr>\n",
       "      <th>0.620390</th>\n",
       "      <td>2413</td>\n",
       "      <td>0</td>\n",
       "    </tr>\n",
       "  </tbody>\n",
       "</table>\n",
       "</div>"
      ],
      "text/plain": [
       "smoking      0    1\n",
       "pred1              \n",
       "0.550287     0  696\n",
       "0.620390  2413    0"
      ]
     },
     "execution_count": 22,
     "metadata": {},
     "output_type": "execute_result"
    }
   ],
   "source": [
    "pd.crosstab(index = share['pred1'],columns= share['smoking'])"
   ]
  },
  {
   "cell_type": "code",
   "execution_count": 23,
   "metadata": {},
   "outputs": [
    {
     "data": {
      "text/html": [
       "<div>\n",
       "<style scoped>\n",
       "    .dataframe tbody tr th:only-of-type {\n",
       "        vertical-align: middle;\n",
       "    }\n",
       "\n",
       "    .dataframe tbody tr th {\n",
       "        vertical-align: top;\n",
       "    }\n",
       "\n",
       "    .dataframe thead th {\n",
       "        text-align: right;\n",
       "    }\n",
       "</style>\n",
       "<table border=\"1\" class=\"dataframe\">\n",
       "  <thead>\n",
       "    <tr style=\"text-align: right;\">\n",
       "      <th>smoking</th>\n",
       "      <th>0</th>\n",
       "      <th>1</th>\n",
       "    </tr>\n",
       "    <tr>\n",
       "      <th>stayshealthy</th>\n",
       "      <th></th>\n",
       "      <th></th>\n",
       "    </tr>\n",
       "  </thead>\n",
       "  <tbody>\n",
       "    <tr>\n",
       "      <th>0</th>\n",
       "      <td>916</td>\n",
       "      <td>313</td>\n",
       "    </tr>\n",
       "    <tr>\n",
       "      <th>1</th>\n",
       "      <td>1497</td>\n",
       "      <td>383</td>\n",
       "    </tr>\n",
       "  </tbody>\n",
       "</table>\n",
       "</div>"
      ],
      "text/plain": [
       "smoking          0    1\n",
       "stayshealthy           \n",
       "0              916  313\n",
       "1             1497  383"
      ]
     },
     "execution_count": 23,
     "metadata": {},
     "output_type": "execute_result"
    }
   ],
   "source": [
    "pd.crosstab(index = share['stayshealthy'],columns= share['smoking'])"
   ]
  },
  {
   "cell_type": "code",
   "execution_count": 24,
   "metadata": {},
   "outputs": [],
   "source": [
    "share['weight']=share.groupby(['smoking','stayshealthy'])['smoking'].transform(len)"
   ]
  },
  {
   "cell_type": "code",
   "execution_count": 25,
   "metadata": {},
   "outputs": [],
   "source": [
    "share['weight_2']=share['weight']/1000"
   ]
  },
  {
   "cell_type": "code",
   "execution_count": 26,
   "metadata": {},
   "outputs": [
    {
     "data": {
      "image/png": "[encoded data removed]",
      "text/plain": [
       "<Figure size 640x480 with 1 Axes>"
      ]
     },
     "metadata": {},
     "output_type": "display_data"
    },
    {
     "data": {
      "text/plain": [
       "<ggplot: (-9223372036552404904)>"
      ]
     },
     "execution_count": 26,
     "metadata": {},
     "output_type": "execute_result"
    }
   ],
   "source": [
    "g1 = (ggplot(data = share) \n",
    " + geom_point(aes(x = 'smoking', y = 'pred1'), size = 1, color=color[1]) \n",
    " + geom_line(aes(x = 'smoking', y = 'pred1'), colour=color[1],  size=0.7) \n",
    " + geom_point(aes(x = 'smoking', y = 'stayshealthy', size='weight_2'), fill = color[2], color=color[2], alpha=0.8)\n",
    " + labs(x = \"Current smoker\",y = \"Staying healthy / Predicted probability of \")\n",
    " +  coord_cartesian(xlim = [0, 1], ylim=[0,1]) \n",
    " + scale_y_continuous(limits = [0,1], breaks = seq(0,1,0.1))\n",
    " + scale_x_continuous(limits = [0,1], breaks = seq(0,1,1))\n",
    " + theme_bw() \n",
    ")\n",
    "g1"
   ]
  },
  {
   "cell_type": "code",
   "execution_count": 27,
   "metadata": {},
   "outputs": [],
   "source": [
    "lpm2 = smf.ols('stayshealthy ~ smoking + ever_smoked', data=share).fit()"
   ]
  },
  {
   "cell_type": "code",
   "execution_count": 28,
   "metadata": {},
   "outputs": [
    {
     "name": "stdout",
     "output_type": "stream",
     "text": [
      "                            OLS Regression Results                            \n",
      "==============================================================================\n",
      "Dep. Variable:           stayshealthy   R-squared:                       0.004\n",
      "Model:                            OLS   Adj. R-squared:                  0.003\n",
      "Method:                 Least Squares   F-statistic:                     5.665\n",
      "Date:                Wed, 19 Aug 2020   Prob (F-statistic):            0.00350\n",
      "Time:                        16:00:59   Log-Likelihood:                -2181.0\n",
      "No. Observations:                3109   AIC:                             4368.\n",
      "Df Residuals:                    3106   BIC:                             4386.\n",
      "Df Model:                           2                                         \n",
      "Covariance Type:                  HC1                                         \n",
      "===============================================================================\n",
      "                  coef    std err          t      P>|t|      [0.025      0.975]\n",
      "-------------------------------------------------------------------------------\n",
      "Intercept       0.6154      0.012     50.204      0.000       0.591       0.639\n",
      "smoking        -0.0787      0.025     -3.197      0.001      -0.127      -0.030\n",
      "ever_smoked     0.0140      0.020      0.693      0.488      -0.026       0.054\n",
      "==============================================================================\n",
      "Omnibus:                    12633.221   Durbin-Watson:                   1.846\n",
      "Prob(Omnibus):                  0.000   Jarque-Bera (JB):              515.040\n",
      "Skew:                          -0.426   Prob(JB):                    1.45e-112\n",
      "Kurtosis:                       1.198   Cond. No.                         3.76\n",
      "==============================================================================\n",
      "\n",
      "Warnings:\n",
      "[1] Standard Errors are heteroscedasticity robust (HC1)\n"
     ]
    }
   ],
   "source": [
    "print(lpm2.get_robustcov_results(cov_type='HC1').summary())"
   ]
  },
  {
   "cell_type": "code",
   "execution_count": null,
   "metadata": {},
   "outputs": [],
   "source": []
  },
  {
   "cell_type": "code",
   "execution_count": 29,
   "metadata": {},
   "outputs": [],
   "source": [
    "share['weight']=share.groupby(['eduyears','stayshealthy'])['smoking'].transform(len)/100"
   ]
  },
  {
   "cell_type": "code",
   "execution_count": 30,
   "metadata": {},
   "outputs": [
    {
     "data": {
      "image/png": "[encoded data removed]",
      "text/plain": [
       "<Figure size 640x480 with 1 Axes>"
      ]
     },
     "metadata": {},
     "output_type": "display_data"
    },
    {
     "data": {
      "text/plain": [
       "<ggplot: (-9223372036549166094)>"
      ]
     },
     "execution_count": 30,
     "metadata": {},
     "output_type": "execute_result"
    }
   ],
   "source": [
    "g2 = (ggplot(data = share) \n",
    " + geom_point(aes(x = 'eduyears', y = 'stayshealthy',size='weight'), color=color[1],alpha=0.8) \n",
    " + geom_smooth(aes(x = 'eduyears', y = 'stayshealthy'),method=\"loess\",se=False, color=color[1]) \n",
    "# + labs(x = \"Years of education\",y = \"Probability of staying healthy \")\n",
    "# + coord_cartesian(xlim = [0, 1], ylim=[0,1]) \n",
    "# + scale_x_continuous(expand = [0.01,0.01], limits = [0,25], breaks = seq(0,25,4))\n",
    "# + scale_y_continuous(expand = [0.01,0.01], limits = [0,1], breaks = seq(0,1,0.1))\n",
    "# + theme_bw() \n",
    ")\n",
    "g2"
   ]
  },
  {
   "cell_type": "code",
   "execution_count": 31,
   "metadata": {},
   "outputs": [
    {
     "data": {
      "image/png": "[encoded data removed]",
      "text/plain": [
       "<Figure size 640x480 with 1 Axes>"
      ]
     },
     "metadata": {},
     "output_type": "display_data"
    },
    {
     "data": {
      "text/plain": [
       "<ggplot: (-9223372036546203858)>"
      ]
     },
     "execution_count": 31,
     "metadata": {},
     "output_type": "execute_result"
    }
   ],
   "source": [
    "g2b = (ggplot(data = share)\n",
    "  + geom_smooth(aes(x='income10',y='stayshealthy'),method=\"loess\",se=False, color=color[1]) \n",
    "  + scale_x_continuous(expand = [0.01,0.01], limits = [1,10], breaks = seq(1,10,1))\n",
    "  + scale_y_continuous(expand = [0.01,0.01], limits = [0,1], breaks = seq(0,1,0.1)) \n",
    "  + labs(x = \"Income group within country (deciles)\",y = \"Probability of staying healthy \") \n",
    "  + theme_bw()\n",
    "  )\n",
    "g2b"
   ]
  },
  {
   "cell_type": "code",
   "execution_count": 32,
   "metadata": {},
   "outputs": [],
   "source": [
    "#Part 3"
   ]
  },
  {
   "cell_type": "code",
   "execution_count": 33,
   "metadata": {},
   "outputs": [],
   "source": [
    "#lpm3 <-lm(stayshealthy ~ smoking + ever_smoked + female + age + lspline(eduyears, c(8,18)) + \n",
    "#            income10 + lspline(bmi, c(35)) + exerc + as.factor(country), data=share)"
   ]
  },
  {
   "cell_type": "code",
   "execution_count": 34,
   "metadata": {},
   "outputs": [],
   "source": [
    "share['country'] = share['country'].astype('category')"
   ]
  },
  {
   "cell_type": "code",
   "execution_count": 35,
   "metadata": {},
   "outputs": [],
   "source": [
    "y,X = dmatrices(\"stayshealthy ~ smoking + ever_smoked + female + age + lspline(eduyears,[8,18]) + \\\n",
    "                 income10 + lspline(bmi,[35]) + exerc + country\",share)"
   ]
  },
  {
   "cell_type": "code",
   "execution_count": 36,
   "metadata": {},
   "outputs": [],
   "source": [
    "lpm3 = sm.OLS(y, X)\n",
    "lpm3 = lpm3.fit()"
   ]
  },
  {
   "cell_type": "code",
   "execution_count": 37,
   "metadata": {},
   "outputs": [
    {
     "name": "stdout",
     "output_type": "stream",
     "text": [
      "                            OLS Regression Results                            \n",
      "==============================================================================\n",
      "Dep. Variable:           stayshealthy   R-squared:                       0.103\n",
      "Model:                            OLS   Adj. R-squared:                  0.096\n",
      "Method:                 Least Squares   F-statistic:                     17.32\n",
      "Date:                Wed, 19 Aug 2020   Prob (F-statistic):           4.57e-68\n",
      "Time:                        16:01:01   Log-Likelihood:                -2018.4\n",
      "No. Observations:                3109   AIC:                             4087.\n",
      "Df Residuals:                    3084   BIC:                             4238.\n",
      "Df Model:                          24                                         \n",
      "Covariance Type:                  HC1                                         \n",
      "=================================================================================================\n",
      "                                    coef    std err          t      P>|t|      [0.025      0.975]\n",
      "-------------------------------------------------------------------------------------------------\n",
      "Intercept                         0.9996      0.189      5.297      0.000       0.630       1.370\n",
      "country[T.12]                    -0.2177      0.080     -2.730      0.006      -0.374      -0.061\n",
      "country[T.13]                    -0.0397      0.058     -0.682      0.495      -0.154       0.074\n",
      "country[T.15]                    -0.1484      0.045     -3.329      0.001      -0.236      -0.061\n",
      "country[T.16]                    -0.2594      0.042     -6.226      0.000      -0.341      -0.178\n",
      "country[T.17]                    -0.1742      0.038     -4.631      0.000      -0.248      -0.100\n",
      "country[T.18]                     0.0682      0.032      2.108      0.035       0.005       0.132\n",
      "country[T.20]                     0.0134      0.033      0.403      0.687      -0.052       0.078\n",
      "country[T.23]                    -0.1234      0.034     -3.608      0.000      -0.190      -0.056\n",
      "country[T.28]                    -0.1676      0.039     -4.286      0.000      -0.244      -0.091\n",
      "country[T.29]                    -0.3356      0.089     -3.753      0.000      -0.511      -0.160\n",
      "country[T.33]                    -0.3615      0.060     -5.998      0.000      -0.480      -0.243\n",
      "country[T.34]                    -0.2089      0.047     -4.468      0.000      -0.301      -0.117\n",
      "country[T.35]                    -0.3096      0.047     -6.591      0.000      -0.402      -0.217\n",
      "smoking                          -0.0605      0.024     -2.523      0.012      -0.108      -0.013\n",
      "ever_smoked                       0.0151      0.020      0.773      0.440      -0.023       0.054\n",
      "female                            0.0331      0.018      1.860      0.063      -0.002       0.068\n",
      "age                              -0.0025      0.003     -0.831      0.406      -0.009       0.003\n",
      "lspline(eduyears, [8, 18])[0]    -0.0010      0.007     -0.132      0.895      -0.016       0.014\n",
      "lspline(eduyears, [8, 18])[1]     0.0170      0.003      4.956      0.000       0.010       0.024\n",
      "lspline(eduyears, [8, 18])[2]    -0.0100      0.012     -0.857      0.391      -0.033       0.013\n",
      "income10                          0.0078      0.003      2.431      0.015       0.002       0.014\n",
      "lspline(bmi, [35])[0]            -0.0124      0.003     -4.896      0.000      -0.017      -0.007\n",
      "lspline(bmi, [35])[1]             0.0058      0.017      0.345      0.730      -0.027       0.039\n",
      "exerc                             0.0535      0.017      3.138      0.002       0.020       0.087\n",
      "==============================================================================\n",
      "Omnibus:                    23675.954   Durbin-Watson:                   1.975\n",
      "Prob(Omnibus):                  0.000   Jarque-Bera (JB):              340.116\n",
      "Skew:                          -0.362   Prob(JB):                     1.40e-74\n",
      "Kurtosis:                       1.551   Cond. No.                     1.42e+03\n",
      "==============================================================================\n",
      "\n",
      "Warnings:\n",
      "[1] Standard Errors are heteroscedasticity robust (HC1)\n",
      "[2] The condition number is large, 1.42e+03. This might indicate that there are\n",
      "strong multicollinearity or other numerical problems.\n"
     ]
    }
   ],
   "source": [
    "print(lpm3.get_robustcov_results(cov_type='HC1').summary())"
   ]
  },
  {
   "cell_type": "code",
   "execution_count": 38,
   "metadata": {},
   "outputs": [],
   "source": [
    "share['pred_lpm'] = lpm3.predict()"
   ]
  },
  {
   "cell_type": "code",
   "execution_count": 39,
   "metadata": {},
   "outputs": [
    {
     "data": {
      "text/plain": [
       "count    3109.000000\n",
       "mean        0.604696\n",
       "std         0.156665\n",
       "min         0.036103\n",
       "25%         0.500122\n",
       "50%         0.607342\n",
       "75%         0.713423\n",
       "max         1.011026\n",
       "Name: pred_lpm, dtype: float64"
      ]
     },
     "execution_count": 39,
     "metadata": {},
     "output_type": "execute_result"
    }
   ],
   "source": [
    "share['pred_lpm'].describe()"
   ]
  },
  {
   "cell_type": "code",
   "execution_count": 40,
   "metadata": {},
   "outputs": [],
   "source": [
    "#Part 4"
   ]
  },
  {
   "cell_type": "code",
   "execution_count": 41,
   "metadata": {},
   "outputs": [],
   "source": [
    "logit = sm.GLM(y,X, family=sm.families.Binomial(link=sm.genmod.families.links.logit()))"
   ]
  },
  {
   "cell_type": "code",
   "execution_count": 42,
   "metadata": {},
   "outputs": [
    {
     "data": {
      "text/plain": [
       "statsmodels.genmod.generalized_linear_model.GLM"
      ]
     },
     "execution_count": 42,
     "metadata": {},
     "output_type": "execute_result"
    }
   ],
   "source": [
    "type(logit)"
   ]
  },
  {
   "cell_type": "code",
   "execution_count": 43,
   "metadata": {},
   "outputs": [],
   "source": [
    "logit = sm.GLM(y,X, family=sm.families.Binomial(link=sm.genmod.families.links.logit()))\n",
    "logit = logit.fit()"
   ]
  },
  {
   "cell_type": "code",
   "execution_count": 44,
   "metadata": {},
   "outputs": [
    {
     "data": {
      "text/plain": [
       "statsmodels.genmod.generalized_linear_model.GLMResultsWrapper"
      ]
     },
     "execution_count": 44,
     "metadata": {},
     "output_type": "execute_result"
    }
   ],
   "source": [
    "type(logit)"
   ]
  },
  {
   "cell_type": "code",
   "execution_count": 45,
   "metadata": {},
   "outputs": [
    {
     "data": {
      "text/html": [
       "<table class=\"simpletable\">\n",
       "<caption>Generalized Linear Model Regression Results</caption>\n",
       "<tr>\n",
       "  <th>Dep. Variable:</th>     <td>stayshealthy</td>   <th>  No. Observations:  </th>  <td>  3109</td> \n",
       "</tr>\n",
       "<tr>\n",
       "  <th>Model:</th>                  <td>GLM</td>       <th>  Df Residuals:      </th>  <td>  3084</td> \n",
       "</tr>\n",
       "<tr>\n",
       "  <th>Model Family:</th>        <td>Binomial</td>     <th>  Df Model:          </th>  <td>    24</td> \n",
       "</tr>\n",
       "<tr>\n",
       "  <th>Link Function:</th>         <td>logit</td>      <th>  Scale:             </th> <td>  1.0000</td>\n",
       "</tr>\n",
       "<tr>\n",
       "  <th>Method:</th>                <td>IRLS</td>       <th>  Log-Likelihood:    </th> <td> -1918.8</td>\n",
       "</tr>\n",
       "<tr>\n",
       "  <th>Date:</th>            <td>Wed, 19 Aug 2020</td> <th>  Deviance:          </th> <td>  3837.5</td>\n",
       "</tr>\n",
       "<tr>\n",
       "  <th>Time:</th>                <td>16:01:02</td>     <th>  Pearson chi2:      </th> <td>3.12e+03</td>\n",
       "</tr>\n",
       "<tr>\n",
       "  <th>No. Iterations:</th>          <td>4</td>        <th>                     </th>     <td> </td>   \n",
       "</tr>\n",
       "<tr>\n",
       "  <th>Covariance Type:</th>     <td>nonrobust</td>    <th>                     </th>     <td> </td>   \n",
       "</tr>\n",
       "</table>\n",
       "<table class=\"simpletable\">\n",
       "<tr>\n",
       "                <td></td>                   <th>coef</th>     <th>std err</th>      <th>z</th>      <th>P>|z|</th>  <th>[0.025</th>    <th>0.975]</th>  \n",
       "</tr>\n",
       "<tr>\n",
       "  <th>Intercept</th>                     <td>    2.2781</td> <td>    0.885</td> <td>    2.573</td> <td> 0.010</td> <td>    0.543</td> <td>    4.013</td>\n",
       "</tr>\n",
       "<tr>\n",
       "  <th>country[T.12]</th>                 <td>   -0.9828</td> <td>    0.330</td> <td>   -2.978</td> <td> 0.003</td> <td>   -1.630</td> <td>   -0.336</td>\n",
       "</tr>\n",
       "<tr>\n",
       "  <th>country[T.13]</th>                 <td>   -0.1972</td> <td>    0.276</td> <td>   -0.714</td> <td> 0.475</td> <td>   -0.739</td> <td>    0.344</td>\n",
       "</tr>\n",
       "<tr>\n",
       "  <th>country[T.15]</th>                 <td>   -0.6560</td> <td>    0.194</td> <td>   -3.382</td> <td> 0.001</td> <td>   -1.036</td> <td>   -0.276</td>\n",
       "</tr>\n",
       "<tr>\n",
       "  <th>country[T.16]</th>                 <td>   -1.1196</td> <td>    0.185</td> <td>   -6.051</td> <td> 0.000</td> <td>   -1.482</td> <td>   -0.757</td>\n",
       "</tr>\n",
       "<tr>\n",
       "  <th>country[T.17]</th>                 <td>   -0.7850</td> <td>    0.169</td> <td>   -4.640</td> <td> 0.000</td> <td>   -1.116</td> <td>   -0.453</td>\n",
       "</tr>\n",
       "<tr>\n",
       "  <th>country[T.18]</th>                 <td>    0.4358</td> <td>    0.181</td> <td>    2.411</td> <td> 0.016</td> <td>    0.082</td> <td>    0.790</td>\n",
       "</tr>\n",
       "<tr>\n",
       "  <th>country[T.20]</th>                 <td>    0.0679</td> <td>    0.159</td> <td>    0.426</td> <td> 0.670</td> <td>   -0.244</td> <td>    0.380</td>\n",
       "</tr>\n",
       "<tr>\n",
       "  <th>country[T.23]</th>                 <td>   -0.5734</td> <td>    0.157</td> <td>   -3.650</td> <td> 0.000</td> <td>   -0.881</td> <td>   -0.265</td>\n",
       "</tr>\n",
       "<tr>\n",
       "  <th>country[T.28]</th>                 <td>   -0.7552</td> <td>    0.176</td> <td>   -4.297</td> <td> 0.000</td> <td>   -1.100</td> <td>   -0.411</td>\n",
       "</tr>\n",
       "<tr>\n",
       "  <th>country[T.29]</th>                 <td>   -1.4707</td> <td>    0.395</td> <td>   -3.719</td> <td> 0.000</td> <td>   -2.246</td> <td>   -0.696</td>\n",
       "</tr>\n",
       "<tr>\n",
       "  <th>country[T.33]</th>                 <td>   -1.5783</td> <td>    0.301</td> <td>   -5.243</td> <td> 0.000</td> <td>   -2.168</td> <td>   -0.988</td>\n",
       "</tr>\n",
       "<tr>\n",
       "  <th>country[T.34]</th>                 <td>   -0.9203</td> <td>    0.205</td> <td>   -4.482</td> <td> 0.000</td> <td>   -1.323</td> <td>   -0.518</td>\n",
       "</tr>\n",
       "<tr>\n",
       "  <th>country[T.35]</th>                 <td>   -1.3535</td> <td>    0.211</td> <td>   -6.416</td> <td> 0.000</td> <td>   -1.767</td> <td>   -0.940</td>\n",
       "</tr>\n",
       "<tr>\n",
       "  <th>smoking</th>                       <td>   -0.2840</td> <td>    0.109</td> <td>   -2.601</td> <td> 0.009</td> <td>   -0.498</td> <td>   -0.070</td>\n",
       "</tr>\n",
       "<tr>\n",
       "  <th>ever_smoked</th>                   <td>    0.0782</td> <td>    0.092</td> <td>    0.849</td> <td> 0.396</td> <td>   -0.102</td> <td>    0.259</td>\n",
       "</tr>\n",
       "<tr>\n",
       "  <th>female</th>                        <td>    0.1608</td> <td>    0.082</td> <td>    1.964</td> <td> 0.050</td> <td>    0.000</td> <td>    0.321</td>\n",
       "</tr>\n",
       "<tr>\n",
       "  <th>age</th>                           <td>   -0.0123</td> <td>    0.014</td> <td>   -0.859</td> <td> 0.391</td> <td>   -0.040</td> <td>    0.016</td>\n",
       "</tr>\n",
       "<tr>\n",
       "  <th>lspline(eduyears, [8, 18])[0]</th> <td>   -0.0030</td> <td>    0.033</td> <td>   -0.090</td> <td> 0.928</td> <td>   -0.068</td> <td>    0.062</td>\n",
       "</tr>\n",
       "<tr>\n",
       "  <th>lspline(eduyears, [8, 18])[1]</th> <td>    0.0791</td> <td>    0.016</td> <td>    5.022</td> <td> 0.000</td> <td>    0.048</td> <td>    0.110</td>\n",
       "</tr>\n",
       "<tr>\n",
       "  <th>lspline(eduyears, [8, 18])[2]</th> <td>   -0.0457</td> <td>    0.055</td> <td>   -0.825</td> <td> 0.410</td> <td>   -0.154</td> <td>    0.063</td>\n",
       "</tr>\n",
       "<tr>\n",
       "  <th>income10</th>                      <td>    0.0356</td> <td>    0.015</td> <td>    2.452</td> <td> 0.014</td> <td>    0.007</td> <td>    0.064</td>\n",
       "</tr>\n",
       "<tr>\n",
       "  <th>lspline(bmi, [35])[0]</th>         <td>   -0.0575</td> <td>    0.011</td> <td>   -5.033</td> <td> 0.000</td> <td>   -0.080</td> <td>   -0.035</td>\n",
       "</tr>\n",
       "<tr>\n",
       "  <th>lspline(bmi, [35])[1]</th>         <td>    0.0311</td> <td>    0.071</td> <td>    0.439</td> <td> 0.661</td> <td>   -0.108</td> <td>    0.170</td>\n",
       "</tr>\n",
       "<tr>\n",
       "  <th>exerc</th>                         <td>    0.2548</td> <td>    0.079</td> <td>    3.229</td> <td> 0.001</td> <td>    0.100</td> <td>    0.410</td>\n",
       "</tr>\n",
       "</table>"
      ],
      "text/plain": [
       "<class 'statsmodels.iolib.summary.Summary'>\n",
       "\"\"\"\n",
       "                 Generalized Linear Model Regression Results                  \n",
       "==============================================================================\n",
       "Dep. Variable:           stayshealthy   No. Observations:                 3109\n",
       "Model:                            GLM   Df Residuals:                     3084\n",
       "Model Family:                Binomial   Df Model:                           24\n",
       "Link Function:                  logit   Scale:                          1.0000\n",
       "Method:                          IRLS   Log-Likelihood:                -1918.8\n",
       "Date:                Wed, 19 Aug 2020   Deviance:                       3837.5\n",
       "Time:                        16:01:02   Pearson chi2:                 3.12e+03\n",
       "No. Iterations:                     4                                         \n",
       "Covariance Type:            nonrobust                                         \n",
       "=================================================================================================\n",
       "                                    coef    std err          z      P>|z|      [0.025      0.975]\n",
       "-------------------------------------------------------------------------------------------------\n",
       "Intercept                         2.2781      0.885      2.573      0.010       0.543       4.013\n",
       "country[T.12]                    -0.9828      0.330     -2.978      0.003      -1.630      -0.336\n",
       "country[T.13]                    -0.1972      0.276     -0.714      0.475      -0.739       0.344\n",
       "country[T.15]                    -0.6560      0.194     -3.382      0.001      -1.036      -0.276\n",
       "country[T.16]                    -1.1196      0.185     -6.051      0.000      -1.482      -0.757\n",
       "country[T.17]                    -0.7850      0.169     -4.640      0.000      -1.116      -0.453\n",
       "country[T.18]                     0.4358      0.181      2.411      0.016       0.082       0.790\n",
       "country[T.20]                     0.0679      0.159      0.426      0.670      -0.244       0.380\n",
       "country[T.23]                    -0.5734      0.157     -3.650      0.000      -0.881      -0.265\n",
       "country[T.28]                    -0.7552      0.176     -4.297      0.000      -1.100      -0.411\n",
       "country[T.29]                    -1.4707      0.395     -3.719      0.000      -2.246      -0.696\n",
       "country[T.33]                    -1.5783      0.301     -5.243      0.000      -2.168      -0.988\n",
       "country[T.34]                    -0.9203      0.205     -4.482      0.000      -1.323      -0.518\n",
       "country[T.35]                    -1.3535      0.211     -6.416      0.000      -1.767      -0.940\n",
       "smoking                          -0.2840      0.109     -2.601      0.009      -0.498      -0.070\n",
       "ever_smoked                       0.0782      0.092      0.849      0.396      -0.102       0.259\n",
       "female                            0.1608      0.082      1.964      0.050       0.000       0.321\n",
       "age                              -0.0123      0.014     -0.859      0.391      -0.040       0.016\n",
       "lspline(eduyears, [8, 18])[0]    -0.0030      0.033     -0.090      0.928      -0.068       0.062\n",
       "lspline(eduyears, [8, 18])[1]     0.0791      0.016      5.022      0.000       0.048       0.110\n",
       "lspline(eduyears, [8, 18])[2]    -0.0457      0.055     -0.825      0.410      -0.154       0.063\n",
       "income10                          0.0356      0.015      2.452      0.014       0.007       0.064\n",
       "lspline(bmi, [35])[0]            -0.0575      0.011     -5.033      0.000      -0.080      -0.035\n",
       "lspline(bmi, [35])[1]             0.0311      0.071      0.439      0.661      -0.108       0.170\n",
       "exerc                             0.2548      0.079      3.229      0.001       0.100       0.410\n",
       "=================================================================================================\n",
       "\"\"\""
      ]
     },
     "execution_count": 45,
     "metadata": {},
     "output_type": "execute_result"
    }
   ],
   "source": [
    "logit.summary()"
   ]
  },
  {
   "cell_type": "code",
   "execution_count": 46,
   "metadata": {},
   "outputs": [],
   "source": [
    "share['pred_logit'] = logit.predict()"
   ]
  },
  {
   "cell_type": "code",
   "execution_count": 47,
   "metadata": {},
   "outputs": [],
   "source": [
    "logit = sm.Logit(y,X)"
   ]
  },
  {
   "cell_type": "code",
   "execution_count": 48,
   "metadata": {},
   "outputs": [
    {
     "data": {
      "text/plain": [
       "statsmodels.discrete.discrete_model.Logit"
      ]
     },
     "execution_count": 48,
     "metadata": {},
     "output_type": "execute_result"
    }
   ],
   "source": [
    "type(logit)"
   ]
  },
  {
   "cell_type": "code",
   "execution_count": 49,
   "metadata": {},
   "outputs": [
    {
     "name": "stdout",
     "output_type": "stream",
     "text": [
      "Optimization terminated successfully.\n",
      "         Current function value: 0.617166\n",
      "         Iterations 5\n"
     ]
    }
   ],
   "source": [
    "logit_result = logit.fit()"
   ]
  },
  {
   "cell_type": "code",
   "execution_count": 50,
   "metadata": {},
   "outputs": [
    {
     "data": {
      "text/html": [
       "<table class=\"simpletable\">\n",
       "<caption>Logit Regression Results</caption>\n",
       "<tr>\n",
       "  <th>Dep. Variable:</th>     <td>stayshealthy</td>   <th>  No. Observations:  </th>  <td>  3109</td>  \n",
       "</tr>\n",
       "<tr>\n",
       "  <th>Model:</th>                 <td>Logit</td>      <th>  Df Residuals:      </th>  <td>  3084</td>  \n",
       "</tr>\n",
       "<tr>\n",
       "  <th>Method:</th>                 <td>MLE</td>       <th>  Df Model:          </th>  <td>    24</td>  \n",
       "</tr>\n",
       "<tr>\n",
       "  <th>Date:</th>            <td>Wed, 19 Aug 2020</td> <th>  Pseudo R-squ.:     </th>  <td>0.08031</td> \n",
       "</tr>\n",
       "<tr>\n",
       "  <th>Time:</th>                <td>16:01:02</td>     <th>  Log-Likelihood:    </th> <td> -1918.8</td> \n",
       "</tr>\n",
       "<tr>\n",
       "  <th>converged:</th>             <td>True</td>       <th>  LL-Null:           </th> <td> -2086.3</td> \n",
       "</tr>\n",
       "<tr>\n",
       "  <th>Covariance Type:</th>     <td>nonrobust</td>    <th>  LLR p-value:       </th> <td>1.329e-56</td>\n",
       "</tr>\n",
       "</table>\n",
       "<table class=\"simpletable\">\n",
       "<tr>\n",
       "                <td></td>                   <th>coef</th>     <th>std err</th>      <th>z</th>      <th>P>|z|</th>  <th>[0.025</th>    <th>0.975]</th>  \n",
       "</tr>\n",
       "<tr>\n",
       "  <th>Intercept</th>                     <td>    2.2781</td> <td>    0.885</td> <td>    2.573</td> <td> 0.010</td> <td>    0.543</td> <td>    4.013</td>\n",
       "</tr>\n",
       "<tr>\n",
       "  <th>country[T.12]</th>                 <td>   -0.9828</td> <td>    0.330</td> <td>   -2.978</td> <td> 0.003</td> <td>   -1.630</td> <td>   -0.336</td>\n",
       "</tr>\n",
       "<tr>\n",
       "  <th>country[T.13]</th>                 <td>   -0.1972</td> <td>    0.276</td> <td>   -0.714</td> <td> 0.475</td> <td>   -0.739</td> <td>    0.344</td>\n",
       "</tr>\n",
       "<tr>\n",
       "  <th>country[T.15]</th>                 <td>   -0.6560</td> <td>    0.194</td> <td>   -3.382</td> <td> 0.001</td> <td>   -1.036</td> <td>   -0.276</td>\n",
       "</tr>\n",
       "<tr>\n",
       "  <th>country[T.16]</th>                 <td>   -1.1196</td> <td>    0.185</td> <td>   -6.051</td> <td> 0.000</td> <td>   -1.482</td> <td>   -0.757</td>\n",
       "</tr>\n",
       "<tr>\n",
       "  <th>country[T.17]</th>                 <td>   -0.7850</td> <td>    0.169</td> <td>   -4.640</td> <td> 0.000</td> <td>   -1.116</td> <td>   -0.453</td>\n",
       "</tr>\n",
       "<tr>\n",
       "  <th>country[T.18]</th>                 <td>    0.4358</td> <td>    0.181</td> <td>    2.411</td> <td> 0.016</td> <td>    0.082</td> <td>    0.790</td>\n",
       "</tr>\n",
       "<tr>\n",
       "  <th>country[T.20]</th>                 <td>    0.0679</td> <td>    0.159</td> <td>    0.426</td> <td> 0.670</td> <td>   -0.244</td> <td>    0.380</td>\n",
       "</tr>\n",
       "<tr>\n",
       "  <th>country[T.23]</th>                 <td>   -0.5734</td> <td>    0.157</td> <td>   -3.650</td> <td> 0.000</td> <td>   -0.881</td> <td>   -0.265</td>\n",
       "</tr>\n",
       "<tr>\n",
       "  <th>country[T.28]</th>                 <td>   -0.7552</td> <td>    0.176</td> <td>   -4.297</td> <td> 0.000</td> <td>   -1.100</td> <td>   -0.411</td>\n",
       "</tr>\n",
       "<tr>\n",
       "  <th>country[T.29]</th>                 <td>   -1.4707</td> <td>    0.395</td> <td>   -3.719</td> <td> 0.000</td> <td>   -2.246</td> <td>   -0.696</td>\n",
       "</tr>\n",
       "<tr>\n",
       "  <th>country[T.33]</th>                 <td>   -1.5783</td> <td>    0.301</td> <td>   -5.243</td> <td> 0.000</td> <td>   -2.168</td> <td>   -0.988</td>\n",
       "</tr>\n",
       "<tr>\n",
       "  <th>country[T.34]</th>                 <td>   -0.9203</td> <td>    0.205</td> <td>   -4.482</td> <td> 0.000</td> <td>   -1.323</td> <td>   -0.518</td>\n",
       "</tr>\n",
       "<tr>\n",
       "  <th>country[T.35]</th>                 <td>   -1.3535</td> <td>    0.211</td> <td>   -6.416</td> <td> 0.000</td> <td>   -1.767</td> <td>   -0.940</td>\n",
       "</tr>\n",
       "<tr>\n",
       "  <th>smoking</th>                       <td>   -0.2840</td> <td>    0.109</td> <td>   -2.601</td> <td> 0.009</td> <td>   -0.498</td> <td>   -0.070</td>\n",
       "</tr>\n",
       "<tr>\n",
       "  <th>ever_smoked</th>                   <td>    0.0782</td> <td>    0.092</td> <td>    0.849</td> <td> 0.396</td> <td>   -0.102</td> <td>    0.259</td>\n",
       "</tr>\n",
       "<tr>\n",
       "  <th>female</th>                        <td>    0.1608</td> <td>    0.082</td> <td>    1.964</td> <td> 0.050</td> <td>    0.000</td> <td>    0.321</td>\n",
       "</tr>\n",
       "<tr>\n",
       "  <th>age</th>                           <td>   -0.0123</td> <td>    0.014</td> <td>   -0.859</td> <td> 0.391</td> <td>   -0.040</td> <td>    0.016</td>\n",
       "</tr>\n",
       "<tr>\n",
       "  <th>lspline(eduyears, [8, 18])[0]</th> <td>   -0.0030</td> <td>    0.033</td> <td>   -0.090</td> <td> 0.928</td> <td>   -0.068</td> <td>    0.062</td>\n",
       "</tr>\n",
       "<tr>\n",
       "  <th>lspline(eduyears, [8, 18])[1]</th> <td>    0.0791</td> <td>    0.016</td> <td>    5.022</td> <td> 0.000</td> <td>    0.048</td> <td>    0.110</td>\n",
       "</tr>\n",
       "<tr>\n",
       "  <th>lspline(eduyears, [8, 18])[2]</th> <td>   -0.0457</td> <td>    0.055</td> <td>   -0.825</td> <td> 0.410</td> <td>   -0.154</td> <td>    0.063</td>\n",
       "</tr>\n",
       "<tr>\n",
       "  <th>income10</th>                      <td>    0.0356</td> <td>    0.015</td> <td>    2.452</td> <td> 0.014</td> <td>    0.007</td> <td>    0.064</td>\n",
       "</tr>\n",
       "<tr>\n",
       "  <th>lspline(bmi, [35])[0]</th>         <td>   -0.0575</td> <td>    0.011</td> <td>   -5.033</td> <td> 0.000</td> <td>   -0.080</td> <td>   -0.035</td>\n",
       "</tr>\n",
       "<tr>\n",
       "  <th>lspline(bmi, [35])[1]</th>         <td>    0.0311</td> <td>    0.071</td> <td>    0.439</td> <td> 0.661</td> <td>   -0.108</td> <td>    0.170</td>\n",
       "</tr>\n",
       "<tr>\n",
       "  <th>exerc</th>                         <td>    0.2548</td> <td>    0.079</td> <td>    3.229</td> <td> 0.001</td> <td>    0.100</td> <td>    0.410</td>\n",
       "</tr>\n",
       "</table>"
      ],
      "text/plain": [
       "<class 'statsmodels.iolib.summary.Summary'>\n",
       "\"\"\"\n",
       "                           Logit Regression Results                           \n",
       "==============================================================================\n",
       "Dep. Variable:           stayshealthy   No. Observations:                 3109\n",
       "Model:                          Logit   Df Residuals:                     3084\n",
       "Method:                           MLE   Df Model:                           24\n",
       "Date:                Wed, 19 Aug 2020   Pseudo R-squ.:                 0.08031\n",
       "Time:                        16:01:02   Log-Likelihood:                -1918.8\n",
       "converged:                       True   LL-Null:                       -2086.3\n",
       "Covariance Type:            nonrobust   LLR p-value:                 1.329e-56\n",
       "=================================================================================================\n",
       "                                    coef    std err          z      P>|z|      [0.025      0.975]\n",
       "-------------------------------------------------------------------------------------------------\n",
       "Intercept                         2.2781      0.885      2.573      0.010       0.543       4.013\n",
       "country[T.12]                    -0.9828      0.330     -2.978      0.003      -1.630      -0.336\n",
       "country[T.13]                    -0.1972      0.276     -0.714      0.475      -0.739       0.344\n",
       "country[T.15]                    -0.6560      0.194     -3.382      0.001      -1.036      -0.276\n",
       "country[T.16]                    -1.1196      0.185     -6.051      0.000      -1.482      -0.757\n",
       "country[T.17]                    -0.7850      0.169     -4.640      0.000      -1.116      -0.453\n",
       "country[T.18]                     0.4358      0.181      2.411      0.016       0.082       0.790\n",
       "country[T.20]                     0.0679      0.159      0.426      0.670      -0.244       0.380\n",
       "country[T.23]                    -0.5734      0.157     -3.650      0.000      -0.881      -0.265\n",
       "country[T.28]                    -0.7552      0.176     -4.297      0.000      -1.100      -0.411\n",
       "country[T.29]                    -1.4707      0.395     -3.719      0.000      -2.246      -0.696\n",
       "country[T.33]                    -1.5783      0.301     -5.243      0.000      -2.168      -0.988\n",
       "country[T.34]                    -0.9203      0.205     -4.482      0.000      -1.323      -0.518\n",
       "country[T.35]                    -1.3535      0.211     -6.416      0.000      -1.767      -0.940\n",
       "smoking                          -0.2840      0.109     -2.601      0.009      -0.498      -0.070\n",
       "ever_smoked                       0.0782      0.092      0.849      0.396      -0.102       0.259\n",
       "female                            0.1608      0.082      1.964      0.050       0.000       0.321\n",
       "age                              -0.0123      0.014     -0.859      0.391      -0.040       0.016\n",
       "lspline(eduyears, [8, 18])[0]    -0.0030      0.033     -0.090      0.928      -0.068       0.062\n",
       "lspline(eduyears, [8, 18])[1]     0.0791      0.016      5.022      0.000       0.048       0.110\n",
       "lspline(eduyears, [8, 18])[2]    -0.0457      0.055     -0.825      0.410      -0.154       0.063\n",
       "income10                          0.0356      0.015      2.452      0.014       0.007       0.064\n",
       "lspline(bmi, [35])[0]            -0.0575      0.011     -5.033      0.000      -0.080      -0.035\n",
       "lspline(bmi, [35])[1]             0.0311      0.071      0.439      0.661      -0.108       0.170\n",
       "exerc                             0.2548      0.079      3.229      0.001       0.100       0.410\n",
       "=================================================================================================\n",
       "\"\"\""
      ]
     },
     "execution_count": 50,
     "metadata": {},
     "output_type": "execute_result"
    }
   ],
   "source": [
    "logit_result.summary()"
   ]
  },
  {
   "cell_type": "code",
   "execution_count": 51,
   "metadata": {},
   "outputs": [],
   "source": [
    "logit_margef_results = logit_result.get_margeff()"
   ]
  },
  {
   "cell_type": "code",
   "execution_count": 52,
   "metadata": {},
   "outputs": [
    {
     "data": {
      "text/html": [
       "<table class=\"simpletable\">\n",
       "<caption>Logit Marginal Effects</caption>\n",
       "<tr>\n",
       "  <th>Dep. Variable:</th> <td>stayshealthy</td>\n",
       "</tr>\n",
       "<tr>\n",
       "  <th>Method:</th>            <td>dydx</td>    \n",
       "</tr>\n",
       "<tr>\n",
       "  <th>At:</th>               <td>overall</td>  \n",
       "</tr>\n",
       "</table>\n",
       "<table class=\"simpletable\">\n",
       "<tr>\n",
       "                <th></th>                   <th>dy/dx</th>    <th>std err</th>      <th>z</th>      <th>P>|z|</th>  <th>[0.025</th>    <th>0.975]</th>  \n",
       "</tr>\n",
       "<tr>\n",
       "  <th>country[T.12]</th>                 <td>   -0.2106</td> <td>    0.070</td> <td>   -2.993</td> <td> 0.003</td> <td>   -0.349</td> <td>   -0.073</td>\n",
       "</tr>\n",
       "<tr>\n",
       "  <th>country[T.13]</th>                 <td>   -0.0423</td> <td>    0.059</td> <td>   -0.714</td> <td> 0.475</td> <td>   -0.158</td> <td>    0.074</td>\n",
       "</tr>\n",
       "<tr>\n",
       "  <th>country[T.15]</th>                 <td>   -0.1406</td> <td>    0.041</td> <td>   -3.406</td> <td> 0.001</td> <td>   -0.221</td> <td>   -0.060</td>\n",
       "</tr>\n",
       "<tr>\n",
       "  <th>country[T.16]</th>                 <td>   -0.2399</td> <td>    0.039</td> <td>   -6.191</td> <td> 0.000</td> <td>   -0.316</td> <td>   -0.164</td>\n",
       "</tr>\n",
       "<tr>\n",
       "  <th>country[T.17]</th>                 <td>   -0.1682</td> <td>    0.036</td> <td>   -4.701</td> <td> 0.000</td> <td>   -0.238</td> <td>   -0.098</td>\n",
       "</tr>\n",
       "<tr>\n",
       "  <th>country[T.18]</th>                 <td>    0.0934</td> <td>    0.039</td> <td>    2.417</td> <td> 0.016</td> <td>    0.018</td> <td>    0.169</td>\n",
       "</tr>\n",
       "<tr>\n",
       "  <th>country[T.20]</th>                 <td>    0.0146</td> <td>    0.034</td> <td>    0.427</td> <td> 0.670</td> <td>   -0.052</td> <td>    0.081</td>\n",
       "</tr>\n",
       "<tr>\n",
       "  <th>country[T.23]</th>                 <td>   -0.1229</td> <td>    0.033</td> <td>   -3.678</td> <td> 0.000</td> <td>   -0.188</td> <td>   -0.057</td>\n",
       "</tr>\n",
       "<tr>\n",
       "  <th>country[T.28]</th>                 <td>   -0.1618</td> <td>    0.037</td> <td>   -4.345</td> <td> 0.000</td> <td>   -0.235</td> <td>   -0.089</td>\n",
       "</tr>\n",
       "<tr>\n",
       "  <th>country[T.29]</th>                 <td>   -0.3152</td> <td>    0.084</td> <td>   -3.751</td> <td> 0.000</td> <td>   -0.480</td> <td>   -0.150</td>\n",
       "</tr>\n",
       "<tr>\n",
       "  <th>country[T.33]</th>                 <td>   -0.3382</td> <td>    0.063</td> <td>   -5.332</td> <td> 0.000</td> <td>   -0.463</td> <td>   -0.214</td>\n",
       "</tr>\n",
       "<tr>\n",
       "  <th>country[T.34]</th>                 <td>   -0.1972</td> <td>    0.043</td> <td>   -4.538</td> <td> 0.000</td> <td>   -0.282</td> <td>   -0.112</td>\n",
       "</tr>\n",
       "<tr>\n",
       "  <th>country[T.35]</th>                 <td>   -0.2901</td> <td>    0.044</td> <td>   -6.582</td> <td> 0.000</td> <td>   -0.376</td> <td>   -0.204</td>\n",
       "</tr>\n",
       "<tr>\n",
       "  <th>smoking</th>                       <td>   -0.0609</td> <td>    0.023</td> <td>   -2.611</td> <td> 0.009</td> <td>   -0.107</td> <td>   -0.015</td>\n",
       "</tr>\n",
       "<tr>\n",
       "  <th>ever_smoked</th>                   <td>    0.0168</td> <td>    0.020</td> <td>    0.849</td> <td> 0.396</td> <td>   -0.022</td> <td>    0.055</td>\n",
       "</tr>\n",
       "<tr>\n",
       "  <th>female</th>                        <td>    0.0345</td> <td>    0.018</td> <td>    1.968</td> <td> 0.049</td> <td>    0.000</td> <td>    0.069</td>\n",
       "</tr>\n",
       "<tr>\n",
       "  <th>age</th>                           <td>   -0.0026</td> <td>    0.003</td> <td>   -0.859</td> <td> 0.390</td> <td>   -0.009</td> <td>    0.003</td>\n",
       "</tr>\n",
       "<tr>\n",
       "  <th>lspline(eduyears, [8, 18])[0]</th> <td>   -0.0006</td> <td>    0.007</td> <td>   -0.090</td> <td> 0.928</td> <td>   -0.015</td> <td>    0.013</td>\n",
       "</tr>\n",
       "<tr>\n",
       "  <th>lspline(eduyears, [8, 18])[1]</th> <td>    0.0170</td> <td>    0.003</td> <td>    5.097</td> <td> 0.000</td> <td>    0.010</td> <td>    0.023</td>\n",
       "</tr>\n",
       "<tr>\n",
       "  <th>lspline(eduyears, [8, 18])[2]</th> <td>   -0.0098</td> <td>    0.012</td> <td>   -0.825</td> <td> 0.409</td> <td>   -0.033</td> <td>    0.013</td>\n",
       "</tr>\n",
       "<tr>\n",
       "  <th>income10</th>                      <td>    0.0076</td> <td>    0.003</td> <td>    2.461</td> <td> 0.014</td> <td>    0.002</td> <td>    0.014</td>\n",
       "</tr>\n",
       "<tr>\n",
       "  <th>lspline(bmi, [35])[0]</th>         <td>   -0.0123</td> <td>    0.002</td> <td>   -5.109</td> <td> 0.000</td> <td>   -0.017</td> <td>   -0.008</td>\n",
       "</tr>\n",
       "<tr>\n",
       "  <th>lspline(bmi, [35])[1]</th>         <td>    0.0067</td> <td>    0.015</td> <td>    0.439</td> <td> 0.661</td> <td>   -0.023</td> <td>    0.036</td>\n",
       "</tr>\n",
       "<tr>\n",
       "  <th>exerc</th>                         <td>    0.0546</td> <td>    0.017</td> <td>    3.248</td> <td> 0.001</td> <td>    0.022</td> <td>    0.088</td>\n",
       "</tr>\n",
       "</table>"
      ],
      "text/plain": [
       "<class 'statsmodels.iolib.summary.Summary'>\n",
       "\"\"\"\n",
       "        Logit Marginal Effects       \n",
       "=====================================\n",
       "Dep. Variable:           stayshealthy\n",
       "Method:                          dydx\n",
       "At:                           overall\n",
       "=================================================================================================\n",
       "                                   dy/dx    std err          z      P>|z|      [0.025      0.975]\n",
       "-------------------------------------------------------------------------------------------------\n",
       "country[T.12]                    -0.2106      0.070     -2.993      0.003      -0.349      -0.073\n",
       "country[T.13]                    -0.0423      0.059     -0.714      0.475      -0.158       0.074\n",
       "country[T.15]                    -0.1406      0.041     -3.406      0.001      -0.221      -0.060\n",
       "country[T.16]                    -0.2399      0.039     -6.191      0.000      -0.316      -0.164\n",
       "country[T.17]                    -0.1682      0.036     -4.701      0.000      -0.238      -0.098\n",
       "country[T.18]                     0.0934      0.039      2.417      0.016       0.018       0.169\n",
       "country[T.20]                     0.0146      0.034      0.427      0.670      -0.052       0.081\n",
       "country[T.23]                    -0.1229      0.033     -3.678      0.000      -0.188      -0.057\n",
       "country[T.28]                    -0.1618      0.037     -4.345      0.000      -0.235      -0.089\n",
       "country[T.29]                    -0.3152      0.084     -3.751      0.000      -0.480      -0.150\n",
       "country[T.33]                    -0.3382      0.063     -5.332      0.000      -0.463      -0.214\n",
       "country[T.34]                    -0.1972      0.043     -4.538      0.000      -0.282      -0.112\n",
       "country[T.35]                    -0.2901      0.044     -6.582      0.000      -0.376      -0.204\n",
       "smoking                          -0.0609      0.023     -2.611      0.009      -0.107      -0.015\n",
       "ever_smoked                       0.0168      0.020      0.849      0.396      -0.022       0.055\n",
       "female                            0.0345      0.018      1.968      0.049       0.000       0.069\n",
       "age                              -0.0026      0.003     -0.859      0.390      -0.009       0.003\n",
       "lspline(eduyears, [8, 18])[0]    -0.0006      0.007     -0.090      0.928      -0.015       0.013\n",
       "lspline(eduyears, [8, 18])[1]     0.0170      0.003      5.097      0.000       0.010       0.023\n",
       "lspline(eduyears, [8, 18])[2]    -0.0098      0.012     -0.825      0.409      -0.033       0.013\n",
       "income10                          0.0076      0.003      2.461      0.014       0.002       0.014\n",
       "lspline(bmi, [35])[0]            -0.0123      0.002     -5.109      0.000      -0.017      -0.008\n",
       "lspline(bmi, [35])[1]             0.0067      0.015      0.439      0.661      -0.023       0.036\n",
       "exerc                             0.0546      0.017      3.248      0.001       0.022       0.088\n",
       "=================================================================================================\n",
       "\"\"\""
      ]
     },
     "execution_count": 52,
     "metadata": {},
     "output_type": "execute_result"
    }
   ],
   "source": [
    "logit_margef_results.summary()"
   ]
  },
  {
   "cell_type": "code",
   "execution_count": 53,
   "metadata": {},
   "outputs": [],
   "source": [
    "probit = sm.Probit(y,X)"
   ]
  },
  {
   "cell_type": "code",
   "execution_count": 54,
   "metadata": {},
   "outputs": [
    {
     "name": "stdout",
     "output_type": "stream",
     "text": [
      "Optimization terminated successfully.\n",
      "         Current function value: 0.617255\n",
      "         Iterations 5\n"
     ]
    }
   ],
   "source": [
    "probit_result = probit.fit()"
   ]
  },
  {
   "cell_type": "code",
   "execution_count": 55,
   "metadata": {},
   "outputs": [
    {
     "data": {
      "text/html": [
       "<table class=\"simpletable\">\n",
       "<caption>Probit Regression Results</caption>\n",
       "<tr>\n",
       "  <th>Dep. Variable:</th>     <td>stayshealthy</td>   <th>  No. Observations:  </th>  <td>  3109</td>  \n",
       "</tr>\n",
       "<tr>\n",
       "  <th>Model:</th>                <td>Probit</td>      <th>  Df Residuals:      </th>  <td>  3084</td>  \n",
       "</tr>\n",
       "<tr>\n",
       "  <th>Method:</th>                 <td>MLE</td>       <th>  Df Model:          </th>  <td>    24</td>  \n",
       "</tr>\n",
       "<tr>\n",
       "  <th>Date:</th>            <td>Wed, 19 Aug 2020</td> <th>  Pseudo R-squ.:     </th>  <td>0.08018</td> \n",
       "</tr>\n",
       "<tr>\n",
       "  <th>Time:</th>                <td>16:01:02</td>     <th>  Log-Likelihood:    </th> <td> -1919.0</td> \n",
       "</tr>\n",
       "<tr>\n",
       "  <th>converged:</th>             <td>True</td>       <th>  LL-Null:           </th> <td> -2086.3</td> \n",
       "</tr>\n",
       "<tr>\n",
       "  <th>Covariance Type:</th>     <td>nonrobust</td>    <th>  LLR p-value:       </th> <td>1.722e-56</td>\n",
       "</tr>\n",
       "</table>\n",
       "<table class=\"simpletable\">\n",
       "<tr>\n",
       "                <td></td>                   <th>coef</th>     <th>std err</th>      <th>z</th>      <th>P>|z|</th>  <th>[0.025</th>    <th>0.975]</th>  \n",
       "</tr>\n",
       "<tr>\n",
       "  <th>Intercept</th>                     <td>    1.4340</td> <td>    0.540</td> <td>    2.656</td> <td> 0.008</td> <td>    0.376</td> <td>    2.492</td>\n",
       "</tr>\n",
       "<tr>\n",
       "  <th>country[T.12]</th>                 <td>   -0.5952</td> <td>    0.203</td> <td>   -2.926</td> <td> 0.003</td> <td>   -0.994</td> <td>   -0.197</td>\n",
       "</tr>\n",
       "<tr>\n",
       "  <th>country[T.13]</th>                 <td>   -0.1128</td> <td>    0.166</td> <td>   -0.678</td> <td> 0.498</td> <td>   -0.439</td> <td>    0.213</td>\n",
       "</tr>\n",
       "<tr>\n",
       "  <th>country[T.15]</th>                 <td>   -0.4007</td> <td>    0.119</td> <td>   -3.368</td> <td> 0.001</td> <td>   -0.634</td> <td>   -0.167</td>\n",
       "</tr>\n",
       "<tr>\n",
       "  <th>country[T.16]</th>                 <td>   -0.6872</td> <td>    0.113</td> <td>   -6.082</td> <td> 0.000</td> <td>   -0.909</td> <td>   -0.466</td>\n",
       "</tr>\n",
       "<tr>\n",
       "  <th>country[T.17]</th>                 <td>   -0.4761</td> <td>    0.103</td> <td>   -4.615</td> <td> 0.000</td> <td>   -0.678</td> <td>   -0.274</td>\n",
       "</tr>\n",
       "<tr>\n",
       "  <th>country[T.18]</th>                 <td>    0.2573</td> <td>    0.105</td> <td>    2.440</td> <td> 0.015</td> <td>    0.051</td> <td>    0.464</td>\n",
       "</tr>\n",
       "<tr>\n",
       "  <th>country[T.20]</th>                 <td>    0.0425</td> <td>    0.096</td> <td>    0.445</td> <td> 0.657</td> <td>   -0.145</td> <td>    0.230</td>\n",
       "</tr>\n",
       "<tr>\n",
       "  <th>country[T.23]</th>                 <td>   -0.3450</td> <td>    0.095</td> <td>   -3.622</td> <td> 0.000</td> <td>   -0.532</td> <td>   -0.158</td>\n",
       "</tr>\n",
       "<tr>\n",
       "  <th>country[T.28]</th>                 <td>   -0.4579</td> <td>    0.108</td> <td>   -4.252</td> <td> 0.000</td> <td>   -0.669</td> <td>   -0.247</td>\n",
       "</tr>\n",
       "<tr>\n",
       "  <th>country[T.29]</th>                 <td>   -0.8784</td> <td>    0.235</td> <td>   -3.740</td> <td> 0.000</td> <td>   -1.339</td> <td>   -0.418</td>\n",
       "</tr>\n",
       "<tr>\n",
       "  <th>country[T.33]</th>                 <td>   -0.9741</td> <td>    0.182</td> <td>   -5.359</td> <td> 0.000</td> <td>   -1.330</td> <td>   -0.618</td>\n",
       "</tr>\n",
       "<tr>\n",
       "  <th>country[T.34]</th>                 <td>   -0.5592</td> <td>    0.126</td> <td>   -4.426</td> <td> 0.000</td> <td>   -0.807</td> <td>   -0.312</td>\n",
       "</tr>\n",
       "<tr>\n",
       "  <th>country[T.35]</th>                 <td>   -0.8280</td> <td>    0.129</td> <td>   -6.407</td> <td> 0.000</td> <td>   -1.081</td> <td>   -0.575</td>\n",
       "</tr>\n",
       "<tr>\n",
       "  <th>smoking</th>                       <td>   -0.1705</td> <td>    0.066</td> <td>   -2.568</td> <td> 0.010</td> <td>   -0.301</td> <td>   -0.040</td>\n",
       "</tr>\n",
       "<tr>\n",
       "  <th>ever_smoked</th>                   <td>    0.0443</td> <td>    0.056</td> <td>    0.793</td> <td> 0.428</td> <td>   -0.065</td> <td>    0.154</td>\n",
       "</tr>\n",
       "<tr>\n",
       "  <th>female</th>                        <td>    0.0973</td> <td>    0.050</td> <td>    1.953</td> <td> 0.051</td> <td>   -0.000</td> <td>    0.195</td>\n",
       "</tr>\n",
       "<tr>\n",
       "  <th>age</th>                           <td>   -0.0083</td> <td>    0.009</td> <td>   -0.955</td> <td> 0.339</td> <td>   -0.025</td> <td>    0.009</td>\n",
       "</tr>\n",
       "<tr>\n",
       "  <th>lspline(eduyears, [8, 18])[0]</th> <td>   -0.0021</td> <td>    0.020</td> <td>   -0.102</td> <td> 0.918</td> <td>   -0.041</td> <td>    0.037</td>\n",
       "</tr>\n",
       "<tr>\n",
       "  <th>lspline(eduyears, [8, 18])[1]</th> <td>    0.0478</td> <td>    0.010</td> <td>    5.015</td> <td> 0.000</td> <td>    0.029</td> <td>    0.066</td>\n",
       "</tr>\n",
       "<tr>\n",
       "  <th>lspline(eduyears, [8, 18])[2]</th> <td>   -0.0286</td> <td>    0.033</td> <td>   -0.864</td> <td> 0.388</td> <td>   -0.093</td> <td>    0.036</td>\n",
       "</tr>\n",
       "<tr>\n",
       "  <th>income10</th>                      <td>    0.0216</td> <td>    0.009</td> <td>    2.446</td> <td> 0.014</td> <td>    0.004</td> <td>    0.039</td>\n",
       "</tr>\n",
       "<tr>\n",
       "  <th>lspline(bmi, [35])[0]</th>         <td>   -0.0346</td> <td>    0.007</td> <td>   -5.002</td> <td> 0.000</td> <td>   -0.048</td> <td>   -0.021</td>\n",
       "</tr>\n",
       "<tr>\n",
       "  <th>lspline(bmi, [35])[1]</th>         <td>    0.0169</td> <td>    0.044</td> <td>    0.388</td> <td> 0.698</td> <td>   -0.069</td> <td>    0.102</td>\n",
       "</tr>\n",
       "<tr>\n",
       "  <th>exerc</th>                         <td>    0.1510</td> <td>    0.048</td> <td>    3.148</td> <td> 0.002</td> <td>    0.057</td> <td>    0.245</td>\n",
       "</tr>\n",
       "</table>"
      ],
      "text/plain": [
       "<class 'statsmodels.iolib.summary.Summary'>\n",
       "\"\"\"\n",
       "                          Probit Regression Results                           \n",
       "==============================================================================\n",
       "Dep. Variable:           stayshealthy   No. Observations:                 3109\n",
       "Model:                         Probit   Df Residuals:                     3084\n",
       "Method:                           MLE   Df Model:                           24\n",
       "Date:                Wed, 19 Aug 2020   Pseudo R-squ.:                 0.08018\n",
       "Time:                        16:01:02   Log-Likelihood:                -1919.0\n",
       "converged:                       True   LL-Null:                       -2086.3\n",
       "Covariance Type:            nonrobust   LLR p-value:                 1.722e-56\n",
       "=================================================================================================\n",
       "                                    coef    std err          z      P>|z|      [0.025      0.975]\n",
       "-------------------------------------------------------------------------------------------------\n",
       "Intercept                         1.4340      0.540      2.656      0.008       0.376       2.492\n",
       "country[T.12]                    -0.5952      0.203     -2.926      0.003      -0.994      -0.197\n",
       "country[T.13]                    -0.1128      0.166     -0.678      0.498      -0.439       0.213\n",
       "country[T.15]                    -0.4007      0.119     -3.368      0.001      -0.634      -0.167\n",
       "country[T.16]                    -0.6872      0.113     -6.082      0.000      -0.909      -0.466\n",
       "country[T.17]                    -0.4761      0.103     -4.615      0.000      -0.678      -0.274\n",
       "country[T.18]                     0.2573      0.105      2.440      0.015       0.051       0.464\n",
       "country[T.20]                     0.0425      0.096      0.445      0.657      -0.145       0.230\n",
       "country[T.23]                    -0.3450      0.095     -3.622      0.000      -0.532      -0.158\n",
       "country[T.28]                    -0.4579      0.108     -4.252      0.000      -0.669      -0.247\n",
       "country[T.29]                    -0.8784      0.235     -3.740      0.000      -1.339      -0.418\n",
       "country[T.33]                    -0.9741      0.182     -5.359      0.000      -1.330      -0.618\n",
       "country[T.34]                    -0.5592      0.126     -4.426      0.000      -0.807      -0.312\n",
       "country[T.35]                    -0.8280      0.129     -6.407      0.000      -1.081      -0.575\n",
       "smoking                          -0.1705      0.066     -2.568      0.010      -0.301      -0.040\n",
       "ever_smoked                       0.0443      0.056      0.793      0.428      -0.065       0.154\n",
       "female                            0.0973      0.050      1.953      0.051      -0.000       0.195\n",
       "age                              -0.0083      0.009     -0.955      0.339      -0.025       0.009\n",
       "lspline(eduyears, [8, 18])[0]    -0.0021      0.020     -0.102      0.918      -0.041       0.037\n",
       "lspline(eduyears, [8, 18])[1]     0.0478      0.010      5.015      0.000       0.029       0.066\n",
       "lspline(eduyears, [8, 18])[2]    -0.0286      0.033     -0.864      0.388      -0.093       0.036\n",
       "income10                          0.0216      0.009      2.446      0.014       0.004       0.039\n",
       "lspline(bmi, [35])[0]            -0.0346      0.007     -5.002      0.000      -0.048      -0.021\n",
       "lspline(bmi, [35])[1]             0.0169      0.044      0.388      0.698      -0.069       0.102\n",
       "exerc                             0.1510      0.048      3.148      0.002       0.057       0.245\n",
       "=================================================================================================\n",
       "\"\"\""
      ]
     },
     "execution_count": 55,
     "metadata": {},
     "output_type": "execute_result"
    }
   ],
   "source": [
    "probit_result.summary()"
   ]
  },
  {
   "cell_type": "code",
   "execution_count": 56,
   "metadata": {},
   "outputs": [],
   "source": [
    "share['pred_probit']=probit_result.predict()"
   ]
  },
  {
   "cell_type": "code",
   "execution_count": 57,
   "metadata": {},
   "outputs": [
    {
     "data": {
      "text/plain": [
       "count    3109.000000\n",
       "mean        0.604763\n",
       "std         0.156611\n",
       "min         0.103114\n",
       "25%         0.498824\n",
       "50%         0.612903\n",
       "75%         0.720459\n",
       "max         0.930006\n",
       "Name: pred_probit, dtype: float64"
      ]
     },
     "execution_count": 57,
     "metadata": {},
     "output_type": "execute_result"
    }
   ],
   "source": [
    "share['pred_probit'].describe()"
   ]
  },
  {
   "cell_type": "code",
   "execution_count": 58,
   "metadata": {},
   "outputs": [],
   "source": [
    "probit_margef_results = probit_result.get_margeff()"
   ]
  },
  {
   "cell_type": "code",
   "execution_count": 59,
   "metadata": {},
   "outputs": [
    {
     "data": {
      "text/html": [
       "<table class=\"simpletable\">\n",
       "<caption>Probit Marginal Effects</caption>\n",
       "<tr>\n",
       "  <th>Dep. Variable:</th> <td>stayshealthy</td>\n",
       "</tr>\n",
       "<tr>\n",
       "  <th>Method:</th>            <td>dydx</td>    \n",
       "</tr>\n",
       "<tr>\n",
       "  <th>At:</th>               <td>overall</td>  \n",
       "</tr>\n",
       "</table>\n",
       "<table class=\"simpletable\">\n",
       "<tr>\n",
       "                <th></th>                   <th>dy/dx</th>    <th>std err</th>      <th>z</th>      <th>P>|z|</th>  <th>[0.025</th>    <th>0.975]</th>  \n",
       "</tr>\n",
       "<tr>\n",
       "  <th>country[T.12]</th>                 <td>   -0.2096</td> <td>    0.071</td> <td>   -2.938</td> <td> 0.003</td> <td>   -0.349</td> <td>   -0.070</td>\n",
       "</tr>\n",
       "<tr>\n",
       "  <th>country[T.13]</th>                 <td>   -0.0397</td> <td>    0.059</td> <td>   -0.678</td> <td> 0.498</td> <td>   -0.155</td> <td>    0.075</td>\n",
       "</tr>\n",
       "<tr>\n",
       "  <th>country[T.15]</th>                 <td>   -0.1411</td> <td>    0.042</td> <td>   -3.386</td> <td> 0.001</td> <td>   -0.223</td> <td>   -0.059</td>\n",
       "</tr>\n",
       "<tr>\n",
       "  <th>country[T.16]</th>                 <td>   -0.2420</td> <td>    0.039</td> <td>   -6.193</td> <td> 0.000</td> <td>   -0.319</td> <td>   -0.165</td>\n",
       "</tr>\n",
       "<tr>\n",
       "  <th>country[T.17]</th>                 <td>   -0.1677</td> <td>    0.036</td> <td>   -4.662</td> <td> 0.000</td> <td>   -0.238</td> <td>   -0.097</td>\n",
       "</tr>\n",
       "<tr>\n",
       "  <th>country[T.18]</th>                 <td>    0.0906</td> <td>    0.037</td> <td>    2.446</td> <td> 0.014</td> <td>    0.018</td> <td>    0.163</td>\n",
       "</tr>\n",
       "<tr>\n",
       "  <th>country[T.20]</th>                 <td>    0.0150</td> <td>    0.034</td> <td>    0.445</td> <td> 0.656</td> <td>   -0.051</td> <td>    0.081</td>\n",
       "</tr>\n",
       "<tr>\n",
       "  <th>country[T.23]</th>                 <td>   -0.1215</td> <td>    0.033</td> <td>   -3.643</td> <td> 0.000</td> <td>   -0.187</td> <td>   -0.056</td>\n",
       "</tr>\n",
       "<tr>\n",
       "  <th>country[T.28]</th>                 <td>   -0.1613</td> <td>    0.038</td> <td>   -4.288</td> <td> 0.000</td> <td>   -0.235</td> <td>   -0.088</td>\n",
       "</tr>\n",
       "<tr>\n",
       "  <th>country[T.29]</th>                 <td>   -0.3094</td> <td>    0.082</td> <td>   -3.764</td> <td> 0.000</td> <td>   -0.470</td> <td>   -0.148</td>\n",
       "</tr>\n",
       "<tr>\n",
       "  <th>country[T.33]</th>                 <td>   -0.3430</td> <td>    0.063</td> <td>   -5.435</td> <td> 0.000</td> <td>   -0.467</td> <td>   -0.219</td>\n",
       "</tr>\n",
       "<tr>\n",
       "  <th>country[T.34]</th>                 <td>   -0.1969</td> <td>    0.044</td> <td>   -4.468</td> <td> 0.000</td> <td>   -0.283</td> <td>   -0.111</td>\n",
       "</tr>\n",
       "<tr>\n",
       "  <th>country[T.35]</th>                 <td>   -0.2916</td> <td>    0.045</td> <td>   -6.536</td> <td> 0.000</td> <td>   -0.379</td> <td>   -0.204</td>\n",
       "</tr>\n",
       "<tr>\n",
       "  <th>smoking</th>                       <td>   -0.0601</td> <td>    0.023</td> <td>   -2.575</td> <td> 0.010</td> <td>   -0.106</td> <td>   -0.014</td>\n",
       "</tr>\n",
       "<tr>\n",
       "  <th>ever_smoked</th>                   <td>    0.0156</td> <td>    0.020</td> <td>    0.793</td> <td> 0.428</td> <td>   -0.023</td> <td>    0.054</td>\n",
       "</tr>\n",
       "<tr>\n",
       "  <th>female</th>                        <td>    0.0343</td> <td>    0.018</td> <td>    1.957</td> <td> 0.050</td> <td>-5.49e-05</td> <td>    0.069</td>\n",
       "</tr>\n",
       "<tr>\n",
       "  <th>age</th>                           <td>   -0.0029</td> <td>    0.003</td> <td>   -0.956</td> <td> 0.339</td> <td>   -0.009</td> <td>    0.003</td>\n",
       "</tr>\n",
       "<tr>\n",
       "  <th>lspline(eduyears, [8, 18])[0]</th> <td>   -0.0007</td> <td>    0.007</td> <td>   -0.102</td> <td> 0.918</td> <td>   -0.015</td> <td>    0.013</td>\n",
       "</tr>\n",
       "<tr>\n",
       "  <th>lspline(eduyears, [8, 18])[1]</th> <td>    0.0168</td> <td>    0.003</td> <td>    5.074</td> <td> 0.000</td> <td>    0.010</td> <td>    0.023</td>\n",
       "</tr>\n",
       "<tr>\n",
       "  <th>lspline(eduyears, [8, 18])[2]</th> <td>   -0.0101</td> <td>    0.012</td> <td>   -0.864</td> <td> 0.387</td> <td>   -0.033</td> <td>    0.013</td>\n",
       "</tr>\n",
       "<tr>\n",
       "  <th>income10</th>                      <td>    0.0076</td> <td>    0.003</td> <td>    2.453</td> <td> 0.014</td> <td>    0.002</td> <td>    0.014</td>\n",
       "</tr>\n",
       "<tr>\n",
       "  <th>lspline(bmi, [35])[0]</th>         <td>   -0.0122</td> <td>    0.002</td> <td>   -5.060</td> <td> 0.000</td> <td>   -0.017</td> <td>   -0.007</td>\n",
       "</tr>\n",
       "<tr>\n",
       "  <th>lspline(bmi, [35])[1]</th>         <td>    0.0060</td> <td>    0.015</td> <td>    0.388</td> <td> 0.698</td> <td>   -0.024</td> <td>    0.036</td>\n",
       "</tr>\n",
       "<tr>\n",
       "  <th>exerc</th>                         <td>    0.0532</td> <td>    0.017</td> <td>    3.161</td> <td> 0.002</td> <td>    0.020</td> <td>    0.086</td>\n",
       "</tr>\n",
       "</table>"
      ],
      "text/plain": [
       "<class 'statsmodels.iolib.summary.Summary'>\n",
       "\"\"\"\n",
       "       Probit Marginal Effects       \n",
       "=====================================\n",
       "Dep. Variable:           stayshealthy\n",
       "Method:                          dydx\n",
       "At:                           overall\n",
       "=================================================================================================\n",
       "                                   dy/dx    std err          z      P>|z|      [0.025      0.975]\n",
       "-------------------------------------------------------------------------------------------------\n",
       "country[T.12]                    -0.2096      0.071     -2.938      0.003      -0.349      -0.070\n",
       "country[T.13]                    -0.0397      0.059     -0.678      0.498      -0.155       0.075\n",
       "country[T.15]                    -0.1411      0.042     -3.386      0.001      -0.223      -0.059\n",
       "country[T.16]                    -0.2420      0.039     -6.193      0.000      -0.319      -0.165\n",
       "country[T.17]                    -0.1677      0.036     -4.662      0.000      -0.238      -0.097\n",
       "country[T.18]                     0.0906      0.037      2.446      0.014       0.018       0.163\n",
       "country[T.20]                     0.0150      0.034      0.445      0.656      -0.051       0.081\n",
       "country[T.23]                    -0.1215      0.033     -3.643      0.000      -0.187      -0.056\n",
       "country[T.28]                    -0.1613      0.038     -4.288      0.000      -0.235      -0.088\n",
       "country[T.29]                    -0.3094      0.082     -3.764      0.000      -0.470      -0.148\n",
       "country[T.33]                    -0.3430      0.063     -5.435      0.000      -0.467      -0.219\n",
       "country[T.34]                    -0.1969      0.044     -4.468      0.000      -0.283      -0.111\n",
       "country[T.35]                    -0.2916      0.045     -6.536      0.000      -0.379      -0.204\n",
       "smoking                          -0.0601      0.023     -2.575      0.010      -0.106      -0.014\n",
       "ever_smoked                       0.0156      0.020      0.793      0.428      -0.023       0.054\n",
       "female                            0.0343      0.018      1.957      0.050   -5.49e-05       0.069\n",
       "age                              -0.0029      0.003     -0.956      0.339      -0.009       0.003\n",
       "lspline(eduyears, [8, 18])[0]    -0.0007      0.007     -0.102      0.918      -0.015       0.013\n",
       "lspline(eduyears, [8, 18])[1]     0.0168      0.003      5.074      0.000       0.010       0.023\n",
       "lspline(eduyears, [8, 18])[2]    -0.0101      0.012     -0.864      0.387      -0.033       0.013\n",
       "income10                          0.0076      0.003      2.453      0.014       0.002       0.014\n",
       "lspline(bmi, [35])[0]            -0.0122      0.002     -5.060      0.000      -0.017      -0.007\n",
       "lspline(bmi, [35])[1]             0.0060      0.015      0.388      0.698      -0.024       0.036\n",
       "exerc                             0.0532      0.017      3.161      0.002       0.020       0.086\n",
       "=================================================================================================\n",
       "\"\"\""
      ]
     },
     "execution_count": 59,
     "metadata": {},
     "output_type": "execute_result"
    }
   ],
   "source": [
    "probit_margef_results.summary()"
   ]
  },
  {
   "cell_type": "code",
   "execution_count": 60,
   "metadata": {},
   "outputs": [],
   "source": [
    "df_plot = pd.melt(share[['pred_lpm','pred_logit','pred_probit']].rename(\n",
    "        columns={'pred_logit':'Logit','pred_probit':'Probit'}),\n",
    "        value_vars=['Logit','Probit'],id_vars=['pred_lpm'])"
   ]
  },
  {
   "cell_type": "code",
   "execution_count": 61,
   "metadata": {},
   "outputs": [
    {
     "data": {
      "text/html": [
       "<div>\n",
       "<style scoped>\n",
       "    .dataframe tbody tr th:only-of-type {\n",
       "        vertical-align: middle;\n",
       "    }\n",
       "\n",
       "    .dataframe tbody tr th {\n",
       "        vertical-align: top;\n",
       "    }\n",
       "\n",
       "    .dataframe thead th {\n",
       "        text-align: right;\n",
       "    }\n",
       "</style>\n",
       "<table border=\"1\" class=\"dataframe\">\n",
       "  <thead>\n",
       "    <tr style=\"text-align: right;\">\n",
       "      <th></th>\n",
       "      <th>pred_lpm</th>\n",
       "      <th>variable</th>\n",
       "      <th>value</th>\n",
       "    </tr>\n",
       "  </thead>\n",
       "  <tbody>\n",
       "    <tr>\n",
       "      <th>0</th>\n",
       "      <td>0.654021</td>\n",
       "      <td>Logit</td>\n",
       "      <td>0.659110</td>\n",
       "    </tr>\n",
       "    <tr>\n",
       "      <th>1</th>\n",
       "      <td>0.696147</td>\n",
       "      <td>Logit</td>\n",
       "      <td>0.703133</td>\n",
       "    </tr>\n",
       "    <tr>\n",
       "      <th>2</th>\n",
       "      <td>0.749901</td>\n",
       "      <td>Logit</td>\n",
       "      <td>0.753263</td>\n",
       "    </tr>\n",
       "    <tr>\n",
       "      <th>3</th>\n",
       "      <td>0.703965</td>\n",
       "      <td>Logit</td>\n",
       "      <td>0.711565</td>\n",
       "    </tr>\n",
       "    <tr>\n",
       "      <th>4</th>\n",
       "      <td>0.598621</td>\n",
       "      <td>Logit</td>\n",
       "      <td>0.599850</td>\n",
       "    </tr>\n",
       "    <tr>\n",
       "      <th>...</th>\n",
       "      <td>...</td>\n",
       "      <td>...</td>\n",
       "      <td>...</td>\n",
       "    </tr>\n",
       "    <tr>\n",
       "      <th>6213</th>\n",
       "      <td>0.524138</td>\n",
       "      <td>Probit</td>\n",
       "      <td>0.526791</td>\n",
       "    </tr>\n",
       "    <tr>\n",
       "      <th>6214</th>\n",
       "      <td>0.622032</td>\n",
       "      <td>Probit</td>\n",
       "      <td>0.636042</td>\n",
       "    </tr>\n",
       "    <tr>\n",
       "      <th>6215</th>\n",
       "      <td>0.517906</td>\n",
       "      <td>Probit</td>\n",
       "      <td>0.523045</td>\n",
       "    </tr>\n",
       "    <tr>\n",
       "      <th>6216</th>\n",
       "      <td>0.508623</td>\n",
       "      <td>Probit</td>\n",
       "      <td>0.508890</td>\n",
       "    </tr>\n",
       "    <tr>\n",
       "      <th>6217</th>\n",
       "      <td>0.522271</td>\n",
       "      <td>Probit</td>\n",
       "      <td>0.525714</td>\n",
       "    </tr>\n",
       "  </tbody>\n",
       "</table>\n",
       "<p>6218 rows × 3 columns</p>\n",
       "</div>"
      ],
      "text/plain": [
       "      pred_lpm variable     value\n",
       "0     0.654021    Logit  0.659110\n",
       "1     0.696147    Logit  0.703133\n",
       "2     0.749901    Logit  0.753263\n",
       "3     0.703965    Logit  0.711565\n",
       "4     0.598621    Logit  0.599850\n",
       "...        ...      ...       ...\n",
       "6213  0.524138   Probit  0.526791\n",
       "6214  0.622032   Probit  0.636042\n",
       "6215  0.517906   Probit  0.523045\n",
       "6216  0.508623   Probit  0.508890\n",
       "6217  0.522271   Probit  0.525714\n",
       "\n",
       "[6218 rows x 3 columns]"
      ]
     },
     "execution_count": 61,
     "metadata": {},
     "output_type": "execute_result"
    }
   ],
   "source": [
    "df_plot"
   ]
  },
  {
   "cell_type": "code",
   "execution_count": 62,
   "metadata": {},
   "outputs": [
    {
     "name": "stderr",
     "output_type": "stream",
     "text": [
      "/anaconda3/lib/python3.6/site-packages/plotnine/layer.py:467: PlotnineWarning: geom_point : Removed 4 rows containing missing values.\n"
     ]
    },
    {
     "data": {
      "image/png": "[encoded data removed]",
      "text/plain": [
       "<Figure size 640x480 with 1 Axes>"
      ]
     },
     "metadata": {},
     "output_type": "display_data"
    },
    {
     "data": {
      "text/plain": [
       "<ggplot: (307689157)>"
      ]
     },
     "execution_count": 62,
     "metadata": {},
     "output_type": "execute_result"
    }
   ],
   "source": [
    "g5 = (ggplot(data = df_plot) \n",
    "  + geom_point(aes(x='pred_lpm', y='value',color='variable'), size=0.5)\n",
    "  + geom_abline(intercept = 0, slope = 1)    \n",
    "  #+ geom_line(aes(x='pred_lpm',y='pred_lpm'),    color=color[1], size=0.4)    \n",
    "  + labs(x = \"Predicted probability of staying healthy (LPM)\", y=\"Predicted probability\")\n",
    "  + scale_y_continuous(expand = [0.00,0.0], limits = [0,1], breaks = seq(0,1,0.1)) \n",
    "  + scale_x_continuous(expand = [0.00,0.0], limits = [0,1], breaks = seq(0,1,0.1))\n",
    "  + scale_color_manual(name = \"\", values=[color[3],color[2], color[1]])     \n",
    "  + theme_bw()    \n",
    "  #+ theme_bw()\n",
    "  #+ theme_bg()+\n",
    ")\n",
    "g5"
   ]
  },
  {
   "cell_type": "code",
   "execution_count": null,
   "metadata": {},
   "outputs": [],
   "source": []
  },
  {
   "cell_type": "code",
   "execution_count": null,
   "metadata": {},
   "outputs": [],
   "source": []
  },
  {
   "cell_type": "code",
   "execution_count": 63,
   "metadata": {},
   "outputs": [],
   "source": [
    "#Part 5 goodness of fit"
   ]
  },
  {
   "cell_type": "code",
   "execution_count": 64,
   "metadata": {},
   "outputs": [],
   "source": [
    "lpmbase = smf.ols('stayshealthy ~ smoking', data=share).fit()"
   ]
  },
  {
   "cell_type": "code",
   "execution_count": 65,
   "metadata": {},
   "outputs": [],
   "source": [
    "share['lpmbase']=lpmbase.predict()"
   ]
  },
  {
   "cell_type": "code",
   "execution_count": 78,
   "metadata": {},
   "outputs": [
    {
     "name": "stderr",
     "output_type": "stream",
     "text": [
      "/anaconda3/lib/python3.6/site-packages/plotnine/layer.py:467: PlotnineWarning: geom_histogram : Removed 2 rows containing missing values.\n",
      "/anaconda3/lib/python3.6/site-packages/plotnine/layer.py:467: PlotnineWarning: geom_histogram : Removed 2 rows containing missing values.\n"
     ]
    },
    {
     "data": {
      "image/png": "[encoded data removed]",
      "text/plain": [
       "<Figure size 640x480 with 1 Axes>"
      ]
     },
     "metadata": {},
     "output_type": "display_data"
    },
    {
     "data": {
      "text/plain": [
       "<ggplot: (309616967)>"
      ]
     },
     "execution_count": 78,
     "metadata": {},
     "output_type": "execute_result"
    }
   ],
   "source": [
    "(ggplot(data = share) \n",
    " + geom_histogram(share[share['stayshealthy']==1],aes(x='lpmbase',fill = 'stayshealthy',y = 'stat(count/sum(count)))*100'),binwidth = 0.05, alpha=1, color=color[1])\n",
    " + geom_histogram(share[share['stayshealthy']==0],aes(x='lpmbase',fill = 'stayshealthy',y = 'stat(count/sum(count)))*100'),binwidth = 0.05, alpha=0, color=color[2])\n",
    " + ylab(\"Percent\") \n",
    " + xlab(\"Fitted values\") \n",
    " + scale_x_continuous(expand=[0.01,0.01] ,limits = [0,1], breaks = seq(0,1,0.2)) \n",
    " + scale_y_continuous(expand=[0.00,0.00] ,limits = [0,80], breaks = seq(0,80,20)) \n",
    " + theme_bw() \n",
    ")"
   ]
  },
  {
   "cell_type": "code",
   "execution_count": null,
   "metadata": {},
   "outputs": [],
   "source": []
  }
 ],
 "metadata": {
  "kernelspec": {
   "display_name": "Python 3",
   "language": "python",
   "name": "python3"
  },
  "language_info": {
   "codemirror_mode": {
    "name": "ipython",
    "version": 3
   },
   "file_extension": ".py",
   "mimetype": "text/x-python",
   "name": "python",
   "nbconvert_exporter": "python",
   "pygments_lexer": "ipython3",
   "version": "3.8.2"
  }
 },
 "nbformat": 4,
 "nbformat_minor": 2
}
