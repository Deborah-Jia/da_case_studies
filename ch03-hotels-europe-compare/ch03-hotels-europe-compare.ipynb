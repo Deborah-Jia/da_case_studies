{
 "cells": [
  {
   "cell_type": "markdown",
   "metadata": {},
   "source": [
    "## Chapter 03\n",
    "#### DATA ANALYSIS TEXTBOOK\n",
    "#### CH03 - Describe hotels-vienna\n",
    "#### WHAT THIS CODES DOES:\n",
    "#### Focus on histograms\n",
    "#### v1.0 2020.05.20 J"
   ]
  },
  {
   "cell_type": "markdown",
   "metadata": {},
   "source": [
    "## Import packages and core directory set"
   ]
  },
  {
   "cell_type": "code",
   "execution_count": 1,
   "metadata": {},
   "outputs": [],
   "source": [
    "import pandas as pd\n",
    "import seaborn as sns\n",
    "from mizani.formatters import percent_format\n",
    "import os\n",
    "from plotnine import *\n",
    "import numpy as np\n",
    "import sys\n",
    "import numpy as np"
   ]
  },
  {
   "cell_type": "code",
   "execution_count": 2,
   "metadata": {},
   "outputs": [],
   "source": [
    "# Current script folder\n",
    "current_path = os.getcwd()\n",
    "dirname = \"/\".join(current_path.split(\"/\")[:-2]) + \"/\"\n",
    "\n",
    "# location folders\n",
    "data_in = dirname + \"da_data_repo/hotels-europe/clean/\"\n",
    "data_out = dirname + \"da_case_studies/ch03-hotels-europe-compare/\"\n",
    "output = dirname + \"da_case_studies/ch03-hotels-europe-compare/output/\"\n",
    "func = dirname + \"da_case_studies/ch00-tech-prep/\"\n",
    "sys.path.append(func)"
   ]
  },
  {
   "cell_type": "code",
   "execution_count": 3,
   "metadata": {},
   "outputs": [],
   "source": [
    "# Import the prewritten helper functions \n",
    "from py_helper_functions import *"
   ]
  },
  {
   "cell_type": "markdown",
   "metadata": {},
   "source": [
    "#### Load in clean and tidy data and create workfile"
   ]
  },
  {
   "cell_type": "code",
   "execution_count": 4,
   "metadata": {},
   "outputs": [],
   "source": [
    "hotels_europe_price=pd.read_csv(data_in+\"hotels-europe_price.csv\")\n",
    "hotels_europe_features=pd.read_csv(data_in+\"hotels-europe_features.csv\")"
   ]
  },
  {
   "cell_type": "code",
   "execution_count": 5,
   "metadata": {},
   "outputs": [],
   "source": [
    "hotels_europe = pd.merge(hotels_europe_price,hotels_europe_features,how=\"left\",on=\"hotel_id\")\n",
    "del hotels_europe_price\n",
    "del hotels_europe_features"
   ]
  },
  {
   "cell_type": "markdown",
   "metadata": {},
   "source": [
    "#### Filter for same Vienna data we used + London same date"
   ]
  },
  {
   "cell_type": "code",
   "execution_count": 6,
   "metadata": {},
   "outputs": [],
   "source": [
    "hotels_europe_cut = (\n",
    "    hotels_europe.query(\"year == 2017 and month == 11 and weekend == 0\")\n",
    "    .query('city in [\"Vienna\",\"London\"]')\n",
    "    .query('accommodation_type == \"Hotel\"')\n",
    "    .query(\"stars>=3 and stars<=4\")\n",
    "    .query(\"stars.notna()\")\n",
    "    .query('city_actual in  [\"Vienna\", \"London\"]')\n",
    "    .query(\"price <=600\")\n",
    ")"
   ]
  },
  {
   "cell_type": "code",
   "execution_count": 7,
   "metadata": {},
   "outputs": [
    {
     "data": {
      "text/plain": [
       "491"
      ]
     },
     "execution_count": 7,
     "metadata": {},
     "output_type": "execute_result"
    }
   ],
   "source": [
    "hotels_europe_cut.price.max()"
   ]
  },
  {
   "cell_type": "code",
   "execution_count": 8,
   "metadata": {},
   "outputs": [
    {
     "data": {
      "text/html": [
       "<div>\n",
       "<style scoped>\n",
       "    .dataframe tbody tr th:only-of-type {\n",
       "        vertical-align: middle;\n",
       "    }\n",
       "\n",
       "    .dataframe tbody tr th {\n",
       "        vertical-align: top;\n",
       "    }\n",
       "\n",
       "    .dataframe thead th {\n",
       "        text-align: right;\n",
       "    }\n",
       "</style>\n",
       "<table border=\"1\" class=\"dataframe\">\n",
       "  <thead>\n",
       "    <tr style=\"text-align: right;\">\n",
       "      <th></th>\n",
       "      <th>mean_price</th>\n",
       "      <th>max</th>\n",
       "      <th>n</th>\n",
       "    </tr>\n",
       "    <tr>\n",
       "      <th>city</th>\n",
       "      <th></th>\n",
       "      <th></th>\n",
       "      <th></th>\n",
       "    </tr>\n",
       "  </thead>\n",
       "  <tbody>\n",
       "    <tr>\n",
       "      <th>London</th>\n",
       "      <td>202.356322</td>\n",
       "      <td>491</td>\n",
       "      <td>435</td>\n",
       "    </tr>\n",
       "    <tr>\n",
       "      <th>Vienna</th>\n",
       "      <td>109.975845</td>\n",
       "      <td>383</td>\n",
       "      <td>207</td>\n",
       "    </tr>\n",
       "  </tbody>\n",
       "</table>\n",
       "</div>"
      ],
      "text/plain": [
       "        mean_price  max    n\n",
       "city                        \n",
       "London  202.356322  491  435\n",
       "Vienna  109.975845  383  207"
      ]
     },
     "execution_count": 8,
     "metadata": {},
     "output_type": "execute_result"
    }
   ],
   "source": [
    "(hotels_europe_cut\n",
    " .groupby(\"city\")\n",
    " .agg(mean_price=('price', 'mean'),\n",
    "      max= ('price','max'),\n",
    "      n=('price','size'))\n",
    ")"
   ]
  },
  {
   "cell_type": "markdown",
   "metadata": {},
   "source": [
    "#### Vienna vs London\n",
    "##### have same range on x axis"
   ]
  },
  {
   "cell_type": "code",
   "execution_count": 9,
   "metadata": {},
   "outputs": [
    {
     "name": "stderr",
     "output_type": "stream",
     "text": [
      "/home/jbiro/.local/lib/python3.8/site-packages/plotnine/layer.py:452: PlotnineWarning: geom_histogram : Removed 2 rows containing missing values.\n",
      "  self.data = self.geom.handle_na(self.data)\n"
     ]
    },
    {
     "data": {
      "image/png": "[encoded data removed]",
      "text/plain": [
       "<Figure size 640x480 with 1 Axes>"
      ]
     },
     "metadata": {},
     "output_type": "display_data"
    },
    {
     "data": {
      "text/plain": [
       "<ggplot: (8784920052143)>"
      ]
     },
     "execution_count": 9,
     "metadata": {},
     "output_type": "execute_result"
    }
   ],
   "source": [
    "# Vienna\n",
    "ggplot(\n",
    "    hotels_europe_cut.query('city==\"Vienna\"'),\n",
    "    aes(x=\"price\", y=\"stat(count)/sum(stat(count))\"),\n",
    ") + geom_histogram(\n",
    "    binwidth=20, fill=color[0], color=\"#FFFFFF\", size=0.2, alpha=0.8\n",
    ") + scale_y_continuous(\n",
    "    labels=percent_format(), expand=[0.01, 0.01], limits=[0, 0.3]\n",
    ") + scale_x_continuous(\n",
    "    expand=[0.01, 0.01], limits=[0, 500], breaks=list(range(0, 600, 100))\n",
    ")"
   ]
  },
  {
   "cell_type": "code",
   "execution_count": 10,
   "metadata": {},
   "outputs": [
    {
     "name": "stderr",
     "output_type": "stream",
     "text": [
      "/home/jbiro/.local/lib/python3.8/site-packages/plotnine/layer.py:452: PlotnineWarning: geom_histogram : Removed 2 rows containing missing values.\n",
      "  self.data = self.geom.handle_na(self.data)\n"
     ]
    },
    {
     "data": {
      "image/png": "[encoded data removed]",
      "text/plain": [
       "<Figure size 640x480 with 1 Axes>"
      ]
     },
     "metadata": {},
     "output_type": "display_data"
    },
    {
     "data": {
      "text/plain": [
       "<ggplot: (8784920344697)>"
      ]
     },
     "execution_count": 10,
     "metadata": {},
     "output_type": "execute_result"
    }
   ],
   "source": [
    "# London\n",
    "ggplot(\n",
    "    hotels_europe_cut.query('city==\"London\"'),\n",
    "    aes(x=\"price\", y=\"stat(count)/sum(stat(count))\"),\n",
    ") + geom_histogram(\n",
    "    binwidth=20, fill=color[0], color=\"#FFFFFF\", size=0.2, alpha=0.8\n",
    ") + scale_y_continuous(\n",
    "    labels=percent_format(), expand=[0.01, 0.01], limits=[0, 0.3]\n",
    ") + scale_x_continuous(\n",
    "    expand=[0.01, 0.01], limits=[0, 500], breaks=list(range(0, 600, 100))\n",
    ")"
   ]
  },
  {
   "cell_type": "code",
   "execution_count": 11,
   "metadata": {
    "scrolled": false
   },
   "outputs": [
    {
     "data": {
      "image/png": "[encoded data removed]",
      "text/plain": [
       "<Figure size 640x480 with 1 Axes>"
      ]
     },
     "metadata": {},
     "output_type": "display_data"
    },
    {
     "data": {
      "text/plain": [
       "<ggplot: (8784920923950)>"
      ]
     },
     "execution_count": 11,
     "metadata": {},
     "output_type": "execute_result"
    }
   ],
   "source": [
    "ggplot(hotels_europe_cut, aes(x=\"price\", y=\"stat(density)\", color=\"city\")) + geom_line(\n",
    "    stat=\"density\",show_legend='False'\n",
    ") + labs(x=\"Price (US dollars)\", y=\"Density\", color=\"\") + scale_color_manual(\n",
    "    name=\"\", values=[color[1], color[0]], labels=[\"London\", \"Vienna\"]\n",
    ") + scale_y_continuous(\n",
    "    limits=[0, 0.015], breaks=seq(0, 0.015, 0.003)\n",
    ") + scale_x_continuous(\n",
    "    expand=[0.0, 0.0], limits=[0, 500], breaks=seq(0, 501, 100)\n",
    ") + geom_text(\n",
    "    aes(x=340, y=0.003, label=[\"London\"]), color=color[1], size=10\n",
    ") + geom_text(\n",
    "    aes(x=200, y=0.007, label=[\"Vienna\"]), color=color[0], size=10\n",
    ")"
   ]
  },
  {
   "cell_type": "markdown",
   "metadata": {},
   "source": [
    "#### Table 3.6"
   ]
  },
  {
   "cell_type": "code",
   "execution_count": 12,
   "metadata": {},
   "outputs": [
    {
     "name": "stderr",
     "output_type": "stream",
     "text": [
      "/usr/lib/python3/dist-packages/numpy/core/fromnumeric.py:3256: RuntimeWarning: Mean of empty slice.\n",
      "  return _methods._mean(a, axis=axis, dtype=dtype,\n",
      "/usr/lib/python3/dist-packages/numpy/core/_methods.py:161: RuntimeWarning: invalid value encountered in double_scalars\n",
      "  ret = ret.dtype.type(ret / rcount)\n"
     ]
    },
    {
     "data": {
      "text/html": [
       "<div>\n",
       "<style scoped>\n",
       "    .dataframe tbody tr th:only-of-type {\n",
       "        vertical-align: middle;\n",
       "    }\n",
       "\n",
       "    .dataframe tbody tr th {\n",
       "        vertical-align: top;\n",
       "    }\n",
       "\n",
       "    .dataframe thead th {\n",
       "        text-align: right;\n",
       "    }\n",
       "</style>\n",
       "<table border=\"1\" class=\"dataframe\">\n",
       "  <thead>\n",
       "    <tr style=\"text-align: right;\">\n",
       "      <th></th>\n",
       "      <th>n</th>\n",
       "      <th>mean</th>\n",
       "      <th>median</th>\n",
       "      <th>min</th>\n",
       "      <th>max</th>\n",
       "      <th>sd</th>\n",
       "      <th>skew</th>\n",
       "    </tr>\n",
       "    <tr>\n",
       "      <th>city</th>\n",
       "      <th></th>\n",
       "      <th></th>\n",
       "      <th></th>\n",
       "      <th></th>\n",
       "      <th></th>\n",
       "      <th></th>\n",
       "      <th></th>\n",
       "    </tr>\n",
       "  </thead>\n",
       "  <tbody>\n",
       "    <tr>\n",
       "      <th>London</th>\n",
       "      <td>435</td>\n",
       "      <td>202.356322</td>\n",
       "      <td>186</td>\n",
       "      <td>49</td>\n",
       "      <td>491</td>\n",
       "      <td>88.128830</td>\n",
       "      <td>0.186</td>\n",
       "    </tr>\n",
       "    <tr>\n",
       "      <th>Vienna</th>\n",
       "      <td>207</td>\n",
       "      <td>109.975845</td>\n",
       "      <td>100</td>\n",
       "      <td>50</td>\n",
       "      <td>383</td>\n",
       "      <td>42.221381</td>\n",
       "      <td>0.237</td>\n",
       "    </tr>\n",
       "  </tbody>\n",
       "</table>\n",
       "</div>"
      ],
      "text/plain": [
       "          n        mean  median  min  max         sd   skew\n",
       "city                                                       \n",
       "London  435  202.356322     186   49  491  88.128830  0.186\n",
       "Vienna  207  109.975845     100   50  383  42.221381  0.237"
      ]
     },
     "execution_count": 12,
     "metadata": {},
     "output_type": "execute_result"
    }
   ],
   "source": [
    "(\n",
    "    hotels_europe_cut.groupby(\"city\").agg(\n",
    "        n=(\"price\", \"size\"),\n",
    "        mean=(\"price\", np.mean),\n",
    "        median=(\"price\", np.median),\n",
    "        min=(\"price\", min),\n",
    "        max=(\"price\", max),\n",
    "        sd=(\"price\", np.std),\n",
    "        skew=(\"price\", skew),\n",
    "    )\n",
    ")"
   ]
  }
 ],
 "metadata": {
  "kernelspec": {
   "display_name": "Python 3",
   "language": "python",
   "name": "python3"
  },
  "language_info": {
   "codemirror_mode": {
    "name": "ipython",
    "version": 3
   },
   "file_extension": ".py",
   "mimetype": "text/x-python",
   "name": "python",
   "nbconvert_exporter": "python",
   "pygments_lexer": "ipython3",
   "version": "3.8.2"
  }
 },
 "nbformat": 4,
 "nbformat_minor": 4
}
