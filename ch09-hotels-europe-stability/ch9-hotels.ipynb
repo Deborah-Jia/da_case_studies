{
 "cells": [
  {
   "cell_type": "code",
   "execution_count": 1,
   "metadata": {},
   "outputs": [],
   "source": [
    "import pandas as pd\n",
    "import os\n",
    "from pathlib import Path\n",
    "import numpy as np"
   ]
  },
  {
   "cell_type": "code",
   "execution_count": 2,
   "metadata": {},
   "outputs": [],
   "source": [
    "path = Path(os.getcwd())"
   ]
  },
  {
   "cell_type": "code",
   "execution_count": 3,
   "metadata": {},
   "outputs": [],
   "source": [
    "base_dir = path.parent.parent"
   ]
  },
  {
   "cell_type": "code",
   "execution_count": 4,
   "metadata": {},
   "outputs": [],
   "source": [
    "data_in = os.path.join(str(base_dir) , \"da_data_repo/hotels-europe/clean/\")"
   ]
  },
  {
   "cell_type": "code",
   "execution_count": 5,
   "metadata": {},
   "outputs": [],
   "source": [
    "data_out = os.path.join(str(base_dir), \"da_case_studies/ch09-hotels-europe-stability/\")"
   ]
  },
  {
   "cell_type": "code",
   "execution_count": 6,
   "metadata": {},
   "outputs": [],
   "source": [
    "hotels_europe_price = pd.read_csv(os.path.join(data_in,\"hotels-europe_price.csv\"))"
   ]
  },
  {
   "cell_type": "code",
   "execution_count": 7,
   "metadata": {},
   "outputs": [],
   "source": [
    "hotels_europe_features = pd.read_csv(os.path.join(data_in,\"hotels-europe_features.csv\"))"
   ]
  },
  {
   "cell_type": "code",
   "execution_count": 8,
   "metadata": {},
   "outputs": [],
   "source": [
    "data = pd.merge(hotels_europe_price,hotels_europe_features,on='hotel_id',how='left')"
   ]
  },
  {
   "cell_type": "code",
   "execution_count": 9,
   "metadata": {},
   "outputs": [],
   "source": [
    "data = data[data['city_actual'].isin(['Vienna','Amsterdam','Barcelona'])]"
   ]
  },
  {
   "cell_type": "code",
   "execution_count": 10,
   "metadata": {},
   "outputs": [],
   "source": [
    "data = data[data['accommodation_type'].isin(['Hotel','Apartment'])]"
   ]
  },
  {
   "cell_type": "code",
   "execution_count": 11,
   "metadata": {},
   "outputs": [],
   "source": [
    "data = data[data['nnights']!=4]"
   ]
  },
  {
   "cell_type": "code",
   "execution_count": 12,
   "metadata": {},
   "outputs": [],
   "source": [
    "data = data[data['price']<1000]"
   ]
  },
  {
   "cell_type": "code",
   "execution_count": 13,
   "metadata": {},
   "outputs": [],
   "source": [
    "data = data.drop_duplicates()"
   ]
  },
  {
   "cell_type": "code",
   "execution_count": 14,
   "metadata": {},
   "outputs": [],
   "source": [
    "data.loc[(data['month']==11) & (data['weekend']==0),'date']='2017-NOV-weekday'\n",
    "data.loc[(data['month']==11) & (data['weekend']==1),'date']='2017-NOV-weekend'\n",
    "data.loc[(data['month']==12) & (data['holiday']==1),'date']='2017-DEC-holiday'\n",
    "data.loc[(data['month']==6) & (data['weekend']==1),'date']='2018-JUNE-weekend'"
   ]
  },
  {
   "cell_type": "code",
   "execution_count": 15,
   "metadata": {},
   "outputs": [
    {
     "data": {
      "text/plain": [
       "0          2017-NOV-weekend\n",
       "1                       NaN\n",
       "2          2017-DEC-holiday\n",
       "4                       NaN\n",
       "5          2017-NOV-weekday\n",
       "9          2017-DEC-holiday\n",
       "10         2017-NOV-weekend\n",
       "11                      NaN\n",
       "13         2017-NOV-weekday\n",
       "14         2017-DEC-holiday\n",
       "15         2017-NOV-weekday\n",
       "16                      NaN\n",
       "17                      NaN\n",
       "18         2017-NOV-weekend\n",
       "19                      NaN\n",
       "20                      NaN\n",
       "21         2017-NOV-weekday\n",
       "22                      NaN\n",
       "24        2018-JUNE-weekend\n",
       "25         2017-DEC-holiday\n",
       "26                      NaN\n",
       "27         2017-NOV-weekday\n",
       "28         2017-DEC-holiday\n",
       "29                      NaN\n",
       "30                      NaN\n",
       "31         2017-NOV-weekend\n",
       "33                      NaN\n",
       "34         2017-NOV-weekday\n",
       "35         2017-DEC-holiday\n",
       "36                      NaN\n",
       "                ...        \n",
       "144073     2017-NOV-weekend\n",
       "144074                  NaN\n",
       "144075                  NaN\n",
       "144076     2017-NOV-weekday\n",
       "144077                  NaN\n",
       "144078     2017-DEC-holiday\n",
       "144079                  NaN\n",
       "144080    2018-JUNE-weekend\n",
       "144081                  NaN\n",
       "144083                  NaN\n",
       "144084                  NaN\n",
       "144085     2017-NOV-weekday\n",
       "144086                  NaN\n",
       "144087    2018-JUNE-weekend\n",
       "144088                  NaN\n",
       "144089     2017-NOV-weekend\n",
       "144090     2017-DEC-holiday\n",
       "144091                  NaN\n",
       "144092     2017-NOV-weekday\n",
       "144093                  NaN\n",
       "144094                  NaN\n",
       "144096                  NaN\n",
       "144097                  NaN\n",
       "144098    2018-JUNE-weekend\n",
       "144099                  NaN\n",
       "144100     2017-DEC-holiday\n",
       "144101                  NaN\n",
       "144102     2017-NOV-weekday\n",
       "144103                  NaN\n",
       "144104                  NaN\n",
       "Name: date, Length: 7515, dtype: object"
      ]
     },
     "execution_count": 15,
     "metadata": {},
     "output_type": "execute_result"
    }
   ],
   "source": [
    "data['date']"
   ]
  },
  {
   "cell_type": "code",
   "execution_count": 16,
   "metadata": {},
   "outputs": [],
   "source": [
    "data = data[data['date'].notna()]"
   ]
  },
  {
   "cell_type": "code",
   "execution_count": 17,
   "metadata": {},
   "outputs": [
    {
     "data": {
      "text/plain": [
       "Barcelona    1564\n",
       "Vienna       1326\n",
       "Amsterdam     830\n",
       "Name: city, dtype: int64"
      ]
     },
     "execution_count": 17,
     "metadata": {},
     "output_type": "execute_result"
    }
   ],
   "source": [
    "data['city'].value_counts()"
   ]
  },
  {
   "cell_type": "code",
   "execution_count": 18,
   "metadata": {},
   "outputs": [
    {
     "data": {
      "text/html": [
       "<div>\n",
       "<style scoped>\n",
       "    .dataframe tbody tr th:only-of-type {\n",
       "        vertical-align: middle;\n",
       "    }\n",
       "\n",
       "    .dataframe tbody tr th {\n",
       "        vertical-align: top;\n",
       "    }\n",
       "\n",
       "    .dataframe thead th {\n",
       "        text-align: right;\n",
       "    }\n",
       "</style>\n",
       "<table border=\"1\" class=\"dataframe\">\n",
       "  <thead>\n",
       "    <tr style=\"text-align: right;\">\n",
       "      <th>city</th>\n",
       "      <th>Amsterdam</th>\n",
       "      <th>Barcelona</th>\n",
       "      <th>Vienna</th>\n",
       "    </tr>\n",
       "    <tr>\n",
       "      <th>accommodation_type</th>\n",
       "      <th></th>\n",
       "      <th></th>\n",
       "      <th></th>\n",
       "    </tr>\n",
       "  </thead>\n",
       "  <tbody>\n",
       "    <tr>\n",
       "      <th>Apartment</th>\n",
       "      <td>31</td>\n",
       "      <td>300</td>\n",
       "      <td>457</td>\n",
       "    </tr>\n",
       "    <tr>\n",
       "      <th>Hotel</th>\n",
       "      <td>799</td>\n",
       "      <td>1264</td>\n",
       "      <td>869</td>\n",
       "    </tr>\n",
       "  </tbody>\n",
       "</table>\n",
       "</div>"
      ],
      "text/plain": [
       "city                Amsterdam  Barcelona  Vienna\n",
       "accommodation_type                              \n",
       "Apartment                  31        300     457\n",
       "Hotel                     799       1264     869"
      ]
     },
     "execution_count": 18,
     "metadata": {},
     "output_type": "execute_result"
    }
   ],
   "source": [
    "pd.crosstab(index=data['accommodation_type'], columns=data['city'])"
   ]
  },
  {
   "cell_type": "code",
   "execution_count": 19,
   "metadata": {},
   "outputs": [
    {
     "data": {
      "text/html": [
       "<div>\n",
       "<style scoped>\n",
       "    .dataframe tbody tr th:only-of-type {\n",
       "        vertical-align: middle;\n",
       "    }\n",
       "\n",
       "    .dataframe tbody tr th {\n",
       "        vertical-align: top;\n",
       "    }\n",
       "\n",
       "    .dataframe thead th {\n",
       "        text-align: right;\n",
       "    }\n",
       "</style>\n",
       "<table border=\"1\" class=\"dataframe\">\n",
       "  <thead>\n",
       "    <tr style=\"text-align: right;\">\n",
       "      <th>city</th>\n",
       "      <th>Amsterdam</th>\n",
       "      <th>Barcelona</th>\n",
       "      <th>Vienna</th>\n",
       "    </tr>\n",
       "    <tr>\n",
       "      <th>date</th>\n",
       "      <th></th>\n",
       "      <th></th>\n",
       "      <th></th>\n",
       "    </tr>\n",
       "  </thead>\n",
       "  <tbody>\n",
       "    <tr>\n",
       "      <th>2017-DEC-holiday</th>\n",
       "      <td>290</td>\n",
       "      <td>420</td>\n",
       "      <td>338</td>\n",
       "    </tr>\n",
       "    <tr>\n",
       "      <th>2017-NOV-weekday</th>\n",
       "      <td>315</td>\n",
       "      <td>452</td>\n",
       "      <td>377</td>\n",
       "    </tr>\n",
       "    <tr>\n",
       "      <th>2017-NOV-weekend</th>\n",
       "      <td>125</td>\n",
       "      <td>393</td>\n",
       "      <td>256</td>\n",
       "    </tr>\n",
       "    <tr>\n",
       "      <th>2018-JUNE-weekend</th>\n",
       "      <td>100</td>\n",
       "      <td>299</td>\n",
       "      <td>355</td>\n",
       "    </tr>\n",
       "  </tbody>\n",
       "</table>\n",
       "</div>"
      ],
      "text/plain": [
       "city               Amsterdam  Barcelona  Vienna\n",
       "date                                           \n",
       "2017-DEC-holiday         290        420     338\n",
       "2017-NOV-weekday         315        452     377\n",
       "2017-NOV-weekend         125        393     256\n",
       "2018-JUNE-weekend        100        299     355"
      ]
     },
     "execution_count": 19,
     "metadata": {},
     "output_type": "execute_result"
    }
   ],
   "source": [
    "pd.crosstab(index=data['date'], columns=data['city'])"
   ]
  },
  {
   "cell_type": "code",
   "execution_count": 20,
   "metadata": {},
   "outputs": [],
   "source": [
    "data['lnprice']=data['price'].map(lambda x:np.log(x))"
   ]
  },
  {
   "cell_type": "code",
   "execution_count": 21,
   "metadata": {},
   "outputs": [],
   "source": [
    "data = data[[\"hotel_id\", \"date\", \"city\", \"accommodation_type\", \"stars\", \"rating\", \"distance\", \"price\", \"lnprice\"]]"
   ]
  },
  {
   "cell_type": "code",
   "execution_count": 22,
   "metadata": {},
   "outputs": [
    {
     "data": {
      "text/plain": [
       "(3720, 9)"
      ]
     },
     "execution_count": 22,
     "metadata": {},
     "output_type": "execute_result"
    }
   ],
   "source": [
    "data.shape"
   ]
  },
  {
   "cell_type": "code",
   "execution_count": 23,
   "metadata": {},
   "outputs": [],
   "source": [
    "data.to_csv(os.path.join(data_out,\"hotels_work.csv\"),index=False)"
   ]
  },
  {
   "cell_type": "code",
   "execution_count": 24,
   "metadata": {},
   "outputs": [],
   "source": [
    "data = data[(data['stars']>=3) & (data['stars']<=4)]"
   ]
  },
  {
   "cell_type": "code",
   "execution_count": 25,
   "metadata": {},
   "outputs": [
    {
     "data": {
      "text/plain": [
       "(2800, 9)"
      ]
     },
     "execution_count": 25,
     "metadata": {},
     "output_type": "execute_result"
    }
   ],
   "source": [
    "data.shape"
   ]
  },
  {
   "cell_type": "code",
   "execution_count": null,
   "metadata": {},
   "outputs": [],
   "source": []
  },
  {
   "cell_type": "code",
   "execution_count": 26,
   "metadata": {},
   "outputs": [],
   "source": [
    "data = data[data['accommodation_type'] == 'Hotel'] "
   ]
  },
  {
   "cell_type": "code",
   "execution_count": 27,
   "metadata": {},
   "outputs": [
    {
     "data": {
      "text/plain": [
       "(2153, 9)"
      ]
     },
     "execution_count": 27,
     "metadata": {},
     "output_type": "execute_result"
    }
   ],
   "source": [
    "data.shape"
   ]
  },
  {
   "cell_type": "code",
   "execution_count": 28,
   "metadata": {},
   "outputs": [],
   "source": [
    "data = data[data['city']=='Vienna']"
   ]
  },
  {
   "cell_type": "code",
   "execution_count": 29,
   "metadata": {},
   "outputs": [
    {
     "data": {
      "text/plain": [
       "(702, 9)"
      ]
     },
     "execution_count": 29,
     "metadata": {},
     "output_type": "execute_result"
    }
   ],
   "source": [
    "data.shape"
   ]
  },
  {
   "cell_type": "code",
   "execution_count": 30,
   "metadata": {},
   "outputs": [
    {
     "data": {
      "text/plain": [
       "2017-NOV-weekday     207\n",
       "2017-DEC-holiday     189\n",
       "2018-JUNE-weekend    181\n",
       "2017-NOV-weekend     125\n",
       "Name: date, dtype: int64"
      ]
     },
     "execution_count": 30,
     "metadata": {},
     "output_type": "execute_result"
    }
   ],
   "source": [
    "data['date'].value_counts()"
   ]
  },
  {
   "cell_type": "code",
   "execution_count": 31,
   "metadata": {},
   "outputs": [
    {
     "data": {
      "text/plain": [
       "count    702.000000\n",
       "mean       1.566382\n",
       "std        1.154614\n",
       "min        0.000000\n",
       "25%        0.800000\n",
       "50%        1.400000\n",
       "75%        1.900000\n",
       "max        6.600000\n",
       "Name: distance, dtype: float64"
      ]
     },
     "execution_count": 31,
     "metadata": {},
     "output_type": "execute_result"
    }
   ],
   "source": [
    "data['distance'].describe()"
   ]
  },
  {
   "cell_type": "code",
   "execution_count": 32,
   "metadata": {},
   "outputs": [
    {
     "data": {
      "text/plain": [
       "count    702.000000\n",
       "mean     122.752137\n",
       "std       53.304830\n",
       "min       50.000000\n",
       "25%       86.000000\n",
       "50%      109.000000\n",
       "75%      144.000000\n",
       "max      491.000000\n",
       "Name: price, dtype: float64"
      ]
     },
     "execution_count": 32,
     "metadata": {},
     "output_type": "execute_result"
    }
   ],
   "source": [
    "data['price'].describe()"
   ]
  },
  {
   "cell_type": "code",
   "execution_count": 33,
   "metadata": {},
   "outputs": [
    {
     "data": {
      "text/plain": [
       "count    702.000000\n",
       "mean       4.737121\n",
       "std        0.366648\n",
       "min        3.912023\n",
       "25%        4.454347\n",
       "50%        4.691348\n",
       "75%        4.969813\n",
       "max        6.196444\n",
       "Name: lnprice, dtype: float64"
      ]
     },
     "execution_count": 33,
     "metadata": {},
     "output_type": "execute_result"
    }
   ],
   "source": [
    "data['lnprice'].describe()"
   ]
  },
  {
   "cell_type": "code",
   "execution_count": 34,
   "metadata": {},
   "outputs": [
    {
     "data": {
      "text/html": [
       "<div>\n",
       "<style scoped>\n",
       "    .dataframe tbody tr th:only-of-type {\n",
       "        vertical-align: middle;\n",
       "    }\n",
       "\n",
       "    .dataframe tbody tr th {\n",
       "        vertical-align: top;\n",
       "    }\n",
       "\n",
       "    .dataframe thead th {\n",
       "        text-align: right;\n",
       "    }\n",
       "</style>\n",
       "<table border=\"1\" class=\"dataframe\">\n",
       "  <thead>\n",
       "    <tr style=\"text-align: right;\">\n",
       "      <th></th>\n",
       "      <th>count</th>\n",
       "      <th>mean</th>\n",
       "      <th>std</th>\n",
       "      <th>min</th>\n",
       "      <th>25%</th>\n",
       "      <th>50%</th>\n",
       "      <th>75%</th>\n",
       "      <th>max</th>\n",
       "    </tr>\n",
       "    <tr>\n",
       "      <th>date</th>\n",
       "      <th></th>\n",
       "      <th></th>\n",
       "      <th></th>\n",
       "      <th></th>\n",
       "      <th></th>\n",
       "      <th></th>\n",
       "      <th></th>\n",
       "      <th></th>\n",
       "    </tr>\n",
       "  </thead>\n",
       "  <tbody>\n",
       "    <tr>\n",
       "      <th>2017-DEC-holiday</th>\n",
       "      <td>189.0</td>\n",
       "      <td>1.503175</td>\n",
       "      <td>1.059903</td>\n",
       "      <td>0.0</td>\n",
       "      <td>0.8</td>\n",
       "      <td>1.3</td>\n",
       "      <td>1.9</td>\n",
       "      <td>5.2</td>\n",
       "    </tr>\n",
       "    <tr>\n",
       "      <th>2017-NOV-weekday</th>\n",
       "      <td>207.0</td>\n",
       "      <td>1.529952</td>\n",
       "      <td>1.161507</td>\n",
       "      <td>0.0</td>\n",
       "      <td>0.8</td>\n",
       "      <td>1.3</td>\n",
       "      <td>1.9</td>\n",
       "      <td>6.6</td>\n",
       "    </tr>\n",
       "    <tr>\n",
       "      <th>2017-NOV-weekend</th>\n",
       "      <td>125.0</td>\n",
       "      <td>1.772800</td>\n",
       "      <td>1.298161</td>\n",
       "      <td>0.0</td>\n",
       "      <td>0.9</td>\n",
       "      <td>1.6</td>\n",
       "      <td>2.1</td>\n",
       "      <td>6.6</td>\n",
       "    </tr>\n",
       "    <tr>\n",
       "      <th>2018-JUNE-weekend</th>\n",
       "      <td>181.0</td>\n",
       "      <td>1.531492</td>\n",
       "      <td>1.130070</td>\n",
       "      <td>0.0</td>\n",
       "      <td>0.8</td>\n",
       "      <td>1.3</td>\n",
       "      <td>1.9</td>\n",
       "      <td>6.6</td>\n",
       "    </tr>\n",
       "  </tbody>\n",
       "</table>\n",
       "</div>"
      ],
      "text/plain": [
       "                   count      mean       std  min  25%  50%  75%  max\n",
       "date                                                                 \n",
       "2017-DEC-holiday   189.0  1.503175  1.059903  0.0  0.8  1.3  1.9  5.2\n",
       "2017-NOV-weekday   207.0  1.529952  1.161507  0.0  0.8  1.3  1.9  6.6\n",
       "2017-NOV-weekend   125.0  1.772800  1.298161  0.0  0.9  1.6  2.1  6.6\n",
       "2018-JUNE-weekend  181.0  1.531492  1.130070  0.0  0.8  1.3  1.9  6.6"
      ]
     },
     "execution_count": 34,
     "metadata": {},
     "output_type": "execute_result"
    }
   ],
   "source": [
    "data.groupby('date')['distance'].describe()"
   ]
  },
  {
   "cell_type": "code",
   "execution_count": 35,
   "metadata": {},
   "outputs": [
    {
     "data": {
      "text/html": [
       "<div>\n",
       "<style scoped>\n",
       "    .dataframe tbody tr th:only-of-type {\n",
       "        vertical-align: middle;\n",
       "    }\n",
       "\n",
       "    .dataframe tbody tr th {\n",
       "        vertical-align: top;\n",
       "    }\n",
       "\n",
       "    .dataframe thead th {\n",
       "        text-align: right;\n",
       "    }\n",
       "</style>\n",
       "<table border=\"1\" class=\"dataframe\">\n",
       "  <thead>\n",
       "    <tr style=\"text-align: right;\">\n",
       "      <th></th>\n",
       "      <th>count</th>\n",
       "      <th>mean</th>\n",
       "      <th>std</th>\n",
       "      <th>min</th>\n",
       "      <th>25%</th>\n",
       "      <th>50%</th>\n",
       "      <th>75%</th>\n",
       "      <th>max</th>\n",
       "    </tr>\n",
       "    <tr>\n",
       "      <th>date</th>\n",
       "      <th></th>\n",
       "      <th></th>\n",
       "      <th></th>\n",
       "      <th></th>\n",
       "      <th></th>\n",
       "      <th></th>\n",
       "      <th></th>\n",
       "      <th></th>\n",
       "    </tr>\n",
       "  </thead>\n",
       "  <tbody>\n",
       "    <tr>\n",
       "      <th>2017-DEC-holiday</th>\n",
       "      <td>189.0</td>\n",
       "      <td>116.492063</td>\n",
       "      <td>46.308358</td>\n",
       "      <td>57.0</td>\n",
       "      <td>85.0</td>\n",
       "      <td>103.0</td>\n",
       "      <td>138.0</td>\n",
       "      <td>386.0</td>\n",
       "    </tr>\n",
       "    <tr>\n",
       "      <th>2017-NOV-weekday</th>\n",
       "      <td>207.0</td>\n",
       "      <td>109.975845</td>\n",
       "      <td>42.221381</td>\n",
       "      <td>50.0</td>\n",
       "      <td>82.0</td>\n",
       "      <td>100.0</td>\n",
       "      <td>129.5</td>\n",
       "      <td>383.0</td>\n",
       "    </tr>\n",
       "    <tr>\n",
       "      <th>2017-NOV-weekend</th>\n",
       "      <td>125.0</td>\n",
       "      <td>149.144000</td>\n",
       "      <td>76.530903</td>\n",
       "      <td>60.0</td>\n",
       "      <td>92.0</td>\n",
       "      <td>132.0</td>\n",
       "      <td>180.0</td>\n",
       "      <td>491.0</td>\n",
       "    </tr>\n",
       "    <tr>\n",
       "      <th>2018-JUNE-weekend</th>\n",
       "      <td>181.0</td>\n",
       "      <td>125.674033</td>\n",
       "      <td>45.053534</td>\n",
       "      <td>59.0</td>\n",
       "      <td>94.0</td>\n",
       "      <td>111.0</td>\n",
       "      <td>154.0</td>\n",
       "      <td>297.0</td>\n",
       "    </tr>\n",
       "  </tbody>\n",
       "</table>\n",
       "</div>"
      ],
      "text/plain": [
       "                   count        mean        std   min   25%    50%    75%  \\\n",
       "date                                                                        \n",
       "2017-DEC-holiday   189.0  116.492063  46.308358  57.0  85.0  103.0  138.0   \n",
       "2017-NOV-weekday   207.0  109.975845  42.221381  50.0  82.0  100.0  129.5   \n",
       "2017-NOV-weekend   125.0  149.144000  76.530903  60.0  92.0  132.0  180.0   \n",
       "2018-JUNE-weekend  181.0  125.674033  45.053534  59.0  94.0  111.0  154.0   \n",
       "\n",
       "                     max  \n",
       "date                      \n",
       "2017-DEC-holiday   386.0  \n",
       "2017-NOV-weekday   383.0  \n",
       "2017-NOV-weekend   491.0  \n",
       "2018-JUNE-weekend  297.0  "
      ]
     },
     "execution_count": 35,
     "metadata": {},
     "output_type": "execute_result"
    }
   ],
   "source": [
    "data.groupby('date')['price'].describe()"
   ]
  },
  {
   "cell_type": "code",
   "execution_count": 36,
   "metadata": {},
   "outputs": [
    {
     "data": {
      "text/html": [
       "<div>\n",
       "<style scoped>\n",
       "    .dataframe tbody tr th:only-of-type {\n",
       "        vertical-align: middle;\n",
       "    }\n",
       "\n",
       "    .dataframe tbody tr th {\n",
       "        vertical-align: top;\n",
       "    }\n",
       "\n",
       "    .dataframe thead th {\n",
       "        text-align: right;\n",
       "    }\n",
       "</style>\n",
       "<table border=\"1\" class=\"dataframe\">\n",
       "  <thead>\n",
       "    <tr style=\"text-align: right;\">\n",
       "      <th></th>\n",
       "      <th>count</th>\n",
       "      <th>mean</th>\n",
       "      <th>std</th>\n",
       "      <th>min</th>\n",
       "      <th>25%</th>\n",
       "      <th>50%</th>\n",
       "      <th>75%</th>\n",
       "      <th>max</th>\n",
       "    </tr>\n",
       "    <tr>\n",
       "      <th>date</th>\n",
       "      <th></th>\n",
       "      <th></th>\n",
       "      <th></th>\n",
       "      <th></th>\n",
       "      <th></th>\n",
       "      <th></th>\n",
       "      <th></th>\n",
       "      <th></th>\n",
       "    </tr>\n",
       "  </thead>\n",
       "  <tbody>\n",
       "    <tr>\n",
       "      <th>2017-DEC-holiday</th>\n",
       "      <td>189.0</td>\n",
       "      <td>4.696710</td>\n",
       "      <td>0.334883</td>\n",
       "      <td>4.043051</td>\n",
       "      <td>4.442651</td>\n",
       "      <td>4.634729</td>\n",
       "      <td>4.927254</td>\n",
       "      <td>5.955837</td>\n",
       "    </tr>\n",
       "    <tr>\n",
       "      <th>2017-NOV-weekday</th>\n",
       "      <td>207.0</td>\n",
       "      <td>4.640219</td>\n",
       "      <td>0.336751</td>\n",
       "      <td>3.912023</td>\n",
       "      <td>4.406719</td>\n",
       "      <td>4.605170</td>\n",
       "      <td>4.863673</td>\n",
       "      <td>5.948035</td>\n",
       "    </tr>\n",
       "    <tr>\n",
       "      <th>2017-NOV-weekend</th>\n",
       "      <td>125.0</td>\n",
       "      <td>4.902204</td>\n",
       "      <td>0.437582</td>\n",
       "      <td>4.094345</td>\n",
       "      <td>4.521789</td>\n",
       "      <td>4.882802</td>\n",
       "      <td>5.192957</td>\n",
       "      <td>6.196444</td>\n",
       "    </tr>\n",
       "    <tr>\n",
       "      <th>2018-JUNE-weekend</th>\n",
       "      <td>181.0</td>\n",
       "      <td>4.776133</td>\n",
       "      <td>0.334283</td>\n",
       "      <td>4.077537</td>\n",
       "      <td>4.543295</td>\n",
       "      <td>4.709530</td>\n",
       "      <td>5.036953</td>\n",
       "      <td>5.693732</td>\n",
       "    </tr>\n",
       "  </tbody>\n",
       "</table>\n",
       "</div>"
      ],
      "text/plain": [
       "                   count      mean       std       min       25%       50%  \\\n",
       "date                                                                         \n",
       "2017-DEC-holiday   189.0  4.696710  0.334883  4.043051  4.442651  4.634729   \n",
       "2017-NOV-weekday   207.0  4.640219  0.336751  3.912023  4.406719  4.605170   \n",
       "2017-NOV-weekend   125.0  4.902204  0.437582  4.094345  4.521789  4.882802   \n",
       "2018-JUNE-weekend  181.0  4.776133  0.334283  4.077537  4.543295  4.709530   \n",
       "\n",
       "                        75%       max  \n",
       "date                                   \n",
       "2017-DEC-holiday   4.927254  5.955837  \n",
       "2017-NOV-weekday   4.863673  5.948035  \n",
       "2017-NOV-weekend   5.192957  6.196444  \n",
       "2018-JUNE-weekend  5.036953  5.693732  "
      ]
     },
     "execution_count": 36,
     "metadata": {},
     "output_type": "execute_result"
    }
   ],
   "source": [
    "data.groupby('date')['lnprice'].describe()"
   ]
  },
  {
   "cell_type": "code",
   "execution_count": 37,
   "metadata": {},
   "outputs": [],
   "source": [
    "## median isnt there is this a problem?"
   ]
  },
  {
   "cell_type": "code",
   "execution_count": 38,
   "metadata": {},
   "outputs": [],
   "source": [
    "## Regression with splines should go here"
   ]
  },
  {
   "cell_type": "code",
   "execution_count": 39,
   "metadata": {},
   "outputs": [],
   "source": [
    "data = pd.read_csv(os.path.join(data_out,\"hotels_work.csv\"))"
   ]
  },
  {
   "cell_type": "code",
   "execution_count": 40,
   "metadata": {},
   "outputs": [
    {
     "data": {
      "text/html": [
       "<div>\n",
       "<style scoped>\n",
       "    .dataframe tbody tr th:only-of-type {\n",
       "        vertical-align: middle;\n",
       "    }\n",
       "\n",
       "    .dataframe tbody tr th {\n",
       "        vertical-align: top;\n",
       "    }\n",
       "\n",
       "    .dataframe thead th {\n",
       "        text-align: right;\n",
       "    }\n",
       "</style>\n",
       "<table border=\"1\" class=\"dataframe\">\n",
       "  <thead>\n",
       "    <tr style=\"text-align: right;\">\n",
       "      <th></th>\n",
       "      <th>hotel_id</th>\n",
       "      <th>date</th>\n",
       "      <th>city</th>\n",
       "      <th>accommodation_type</th>\n",
       "      <th>stars</th>\n",
       "      <th>rating</th>\n",
       "      <th>distance</th>\n",
       "      <th>price</th>\n",
       "      <th>lnprice</th>\n",
       "    </tr>\n",
       "  </thead>\n",
       "  <tbody>\n",
       "    <tr>\n",
       "      <th>0</th>\n",
       "      <td>1</td>\n",
       "      <td>2017-NOV-weekend</td>\n",
       "      <td>Amsterdam</td>\n",
       "      <td>Hotel</td>\n",
       "      <td>4.0</td>\n",
       "      <td>4.3</td>\n",
       "      <td>3.1</td>\n",
       "      <td>172</td>\n",
       "      <td>5.147494</td>\n",
       "    </tr>\n",
       "    <tr>\n",
       "      <th>1</th>\n",
       "      <td>1</td>\n",
       "      <td>2017-DEC-holiday</td>\n",
       "      <td>Amsterdam</td>\n",
       "      <td>Hotel</td>\n",
       "      <td>4.0</td>\n",
       "      <td>4.3</td>\n",
       "      <td>3.1</td>\n",
       "      <td>122</td>\n",
       "      <td>4.804021</td>\n",
       "    </tr>\n",
       "    <tr>\n",
       "      <th>2</th>\n",
       "      <td>1</td>\n",
       "      <td>2017-NOV-weekday</td>\n",
       "      <td>Amsterdam</td>\n",
       "      <td>Hotel</td>\n",
       "      <td>4.0</td>\n",
       "      <td>4.3</td>\n",
       "      <td>3.1</td>\n",
       "      <td>114</td>\n",
       "      <td>4.736198</td>\n",
       "    </tr>\n",
       "    <tr>\n",
       "      <th>3</th>\n",
       "      <td>3</td>\n",
       "      <td>2017-DEC-holiday</td>\n",
       "      <td>Amsterdam</td>\n",
       "      <td>Hotel</td>\n",
       "      <td>4.0</td>\n",
       "      <td>4.1</td>\n",
       "      <td>1.5</td>\n",
       "      <td>118</td>\n",
       "      <td>4.770685</td>\n",
       "    </tr>\n",
       "    <tr>\n",
       "      <th>4</th>\n",
       "      <td>3</td>\n",
       "      <td>2017-NOV-weekend</td>\n",
       "      <td>Amsterdam</td>\n",
       "      <td>Hotel</td>\n",
       "      <td>4.0</td>\n",
       "      <td>4.1</td>\n",
       "      <td>1.5</td>\n",
       "      <td>217</td>\n",
       "      <td>5.379897</td>\n",
       "    </tr>\n",
       "  </tbody>\n",
       "</table>\n",
       "</div>"
      ],
      "text/plain": [
       "   hotel_id              date       city accommodation_type  stars  rating  \\\n",
       "0         1  2017-NOV-weekend  Amsterdam              Hotel    4.0     4.3   \n",
       "1         1  2017-DEC-holiday  Amsterdam              Hotel    4.0     4.3   \n",
       "2         1  2017-NOV-weekday  Amsterdam              Hotel    4.0     4.3   \n",
       "3         3  2017-DEC-holiday  Amsterdam              Hotel    4.0     4.1   \n",
       "4         3  2017-NOV-weekend  Amsterdam              Hotel    4.0     4.1   \n",
       "\n",
       "   distance  price   lnprice  \n",
       "0       3.1    172  5.147494  \n",
       "1       3.1    122  4.804021  \n",
       "2       3.1    114  4.736198  \n",
       "3       1.5    118  4.770685  \n",
       "4       1.5    217  5.379897  "
      ]
     },
     "execution_count": 40,
     "metadata": {},
     "output_type": "execute_result"
    }
   ],
   "source": [
    "data.head()"
   ]
  },
  {
   "cell_type": "code",
   "execution_count": 41,
   "metadata": {},
   "outputs": [],
   "source": [
    "data = data[(data['stars']>=3) & (data['stars']<=4)]"
   ]
  },
  {
   "cell_type": "code",
   "execution_count": 42,
   "metadata": {},
   "outputs": [],
   "source": [
    "data = data[data['accommodation_type'] == 'Hotel'] "
   ]
  },
  {
   "cell_type": "code",
   "execution_count": 43,
   "metadata": {},
   "outputs": [],
   "source": [
    "data = data[data['date']==\"2017-NOV-weekday\"]"
   ]
  },
  {
   "cell_type": "code",
   "execution_count": 44,
   "metadata": {},
   "outputs": [
    {
     "data": {
      "text/html": [
       "<div>\n",
       "<style scoped>\n",
       "    .dataframe tbody tr th:only-of-type {\n",
       "        vertical-align: middle;\n",
       "    }\n",
       "\n",
       "    .dataframe tbody tr th {\n",
       "        vertical-align: top;\n",
       "    }\n",
       "\n",
       "    .dataframe thead th {\n",
       "        text-align: right;\n",
       "    }\n",
       "</style>\n",
       "<table border=\"1\" class=\"dataframe\">\n",
       "  <thead>\n",
       "    <tr style=\"text-align: right;\">\n",
       "      <th></th>\n",
       "      <th>count</th>\n",
       "      <th>mean</th>\n",
       "      <th>std</th>\n",
       "      <th>min</th>\n",
       "      <th>25%</th>\n",
       "      <th>50%</th>\n",
       "      <th>75%</th>\n",
       "      <th>max</th>\n",
       "    </tr>\n",
       "    <tr>\n",
       "      <th>city</th>\n",
       "      <th></th>\n",
       "      <th></th>\n",
       "      <th></th>\n",
       "      <th></th>\n",
       "      <th></th>\n",
       "      <th></th>\n",
       "      <th></th>\n",
       "      <th></th>\n",
       "    </tr>\n",
       "  </thead>\n",
       "  <tbody>\n",
       "    <tr>\n",
       "      <th>Amsterdam</th>\n",
       "      <td>195.0</td>\n",
       "      <td>1.473846</td>\n",
       "      <td>1.286281</td>\n",
       "      <td>0.1</td>\n",
       "      <td>0.55</td>\n",
       "      <td>1.0</td>\n",
       "      <td>1.9</td>\n",
       "      <td>6.0</td>\n",
       "    </tr>\n",
       "    <tr>\n",
       "      <th>Barcelona</th>\n",
       "      <td>249.0</td>\n",
       "      <td>1.200000</td>\n",
       "      <td>0.815673</td>\n",
       "      <td>0.1</td>\n",
       "      <td>0.60</td>\n",
       "      <td>1.0</td>\n",
       "      <td>1.7</td>\n",
       "      <td>4.6</td>\n",
       "    </tr>\n",
       "    <tr>\n",
       "      <th>Vienna</th>\n",
       "      <td>207.0</td>\n",
       "      <td>1.529952</td>\n",
       "      <td>1.161507</td>\n",
       "      <td>0.0</td>\n",
       "      <td>0.80</td>\n",
       "      <td>1.3</td>\n",
       "      <td>1.9</td>\n",
       "      <td>6.6</td>\n",
       "    </tr>\n",
       "  </tbody>\n",
       "</table>\n",
       "</div>"
      ],
      "text/plain": [
       "           count      mean       std  min   25%  50%  75%  max\n",
       "city                                                          \n",
       "Amsterdam  195.0  1.473846  1.286281  0.1  0.55  1.0  1.9  6.0\n",
       "Barcelona  249.0  1.200000  0.815673  0.1  0.60  1.0  1.7  4.6\n",
       "Vienna     207.0  1.529952  1.161507  0.0  0.80  1.3  1.9  6.6"
      ]
     },
     "execution_count": 44,
     "metadata": {},
     "output_type": "execute_result"
    }
   ],
   "source": [
    "data.groupby('city')['distance'].describe()"
   ]
  },
  {
   "cell_type": "code",
   "execution_count": 46,
   "metadata": {},
   "outputs": [
    {
     "data": {
      "text/html": [
       "<div>\n",
       "<style scoped>\n",
       "    .dataframe tbody tr th:only-of-type {\n",
       "        vertical-align: middle;\n",
       "    }\n",
       "\n",
       "    .dataframe tbody tr th {\n",
       "        vertical-align: top;\n",
       "    }\n",
       "\n",
       "    .dataframe thead th {\n",
       "        text-align: right;\n",
       "    }\n",
       "</style>\n",
       "<table border=\"1\" class=\"dataframe\">\n",
       "  <thead>\n",
       "    <tr style=\"text-align: right;\">\n",
       "      <th></th>\n",
       "      <th>count</th>\n",
       "      <th>mean</th>\n",
       "      <th>std</th>\n",
       "      <th>min</th>\n",
       "      <th>25%</th>\n",
       "      <th>50%</th>\n",
       "      <th>75%</th>\n",
       "      <th>max</th>\n",
       "    </tr>\n",
       "    <tr>\n",
       "      <th>city</th>\n",
       "      <th></th>\n",
       "      <th></th>\n",
       "      <th></th>\n",
       "      <th></th>\n",
       "      <th></th>\n",
       "      <th></th>\n",
       "      <th></th>\n",
       "      <th></th>\n",
       "    </tr>\n",
       "  </thead>\n",
       "  <tbody>\n",
       "    <tr>\n",
       "      <th>Amsterdam</th>\n",
       "      <td>195.0</td>\n",
       "      <td>148.317949</td>\n",
       "      <td>63.153237</td>\n",
       "      <td>63.0</td>\n",
       "      <td>110.0</td>\n",
       "      <td>134.0</td>\n",
       "      <td>172.0</td>\n",
       "      <td>690.0</td>\n",
       "    </tr>\n",
       "    <tr>\n",
       "      <th>Barcelona</th>\n",
       "      <td>249.0</td>\n",
       "      <td>103.979920</td>\n",
       "      <td>33.027902</td>\n",
       "      <td>51.0</td>\n",
       "      <td>81.0</td>\n",
       "      <td>98.0</td>\n",
       "      <td>118.0</td>\n",
       "      <td>264.0</td>\n",
       "    </tr>\n",
       "    <tr>\n",
       "      <th>Vienna</th>\n",
       "      <td>207.0</td>\n",
       "      <td>109.975845</td>\n",
       "      <td>42.221381</td>\n",
       "      <td>50.0</td>\n",
       "      <td>82.0</td>\n",
       "      <td>100.0</td>\n",
       "      <td>129.5</td>\n",
       "      <td>383.0</td>\n",
       "    </tr>\n",
       "  </tbody>\n",
       "</table>\n",
       "</div>"
      ],
      "text/plain": [
       "           count        mean        std   min    25%    50%    75%    max\n",
       "city                                                                     \n",
       "Amsterdam  195.0  148.317949  63.153237  63.0  110.0  134.0  172.0  690.0\n",
       "Barcelona  249.0  103.979920  33.027902  51.0   81.0   98.0  118.0  264.0\n",
       "Vienna     207.0  109.975845  42.221381  50.0   82.0  100.0  129.5  383.0"
      ]
     },
     "execution_count": 46,
     "metadata": {},
     "output_type": "execute_result"
    }
   ],
   "source": [
    "data.groupby('city')['price'].describe()"
   ]
  },
  {
   "cell_type": "code",
   "execution_count": 47,
   "metadata": {},
   "outputs": [
    {
     "data": {
      "text/html": [
       "<div>\n",
       "<style scoped>\n",
       "    .dataframe tbody tr th:only-of-type {\n",
       "        vertical-align: middle;\n",
       "    }\n",
       "\n",
       "    .dataframe tbody tr th {\n",
       "        vertical-align: top;\n",
       "    }\n",
       "\n",
       "    .dataframe thead th {\n",
       "        text-align: right;\n",
       "    }\n",
       "</style>\n",
       "<table border=\"1\" class=\"dataframe\">\n",
       "  <thead>\n",
       "    <tr style=\"text-align: right;\">\n",
       "      <th></th>\n",
       "      <th>count</th>\n",
       "      <th>mean</th>\n",
       "      <th>std</th>\n",
       "      <th>min</th>\n",
       "      <th>25%</th>\n",
       "      <th>50%</th>\n",
       "      <th>75%</th>\n",
       "      <th>max</th>\n",
       "    </tr>\n",
       "    <tr>\n",
       "      <th>city</th>\n",
       "      <th></th>\n",
       "      <th></th>\n",
       "      <th></th>\n",
       "      <th></th>\n",
       "      <th></th>\n",
       "      <th></th>\n",
       "      <th></th>\n",
       "      <th></th>\n",
       "    </tr>\n",
       "  </thead>\n",
       "  <tbody>\n",
       "    <tr>\n",
       "      <th>Amsterdam</th>\n",
       "      <td>195.0</td>\n",
       "      <td>4.935041</td>\n",
       "      <td>0.344122</td>\n",
       "      <td>4.143135</td>\n",
       "      <td>4.700480</td>\n",
       "      <td>4.897840</td>\n",
       "      <td>5.147494</td>\n",
       "      <td>6.536692</td>\n",
       "    </tr>\n",
       "    <tr>\n",
       "      <th>Barcelona</th>\n",
       "      <td>249.0</td>\n",
       "      <td>4.600394</td>\n",
       "      <td>0.290127</td>\n",
       "      <td>3.931826</td>\n",
       "      <td>4.394449</td>\n",
       "      <td>4.584967</td>\n",
       "      <td>4.770685</td>\n",
       "      <td>5.575949</td>\n",
       "    </tr>\n",
       "    <tr>\n",
       "      <th>Vienna</th>\n",
       "      <td>207.0</td>\n",
       "      <td>4.640219</td>\n",
       "      <td>0.336751</td>\n",
       "      <td>3.912023</td>\n",
       "      <td>4.406719</td>\n",
       "      <td>4.605170</td>\n",
       "      <td>4.863673</td>\n",
       "      <td>5.948035</td>\n",
       "    </tr>\n",
       "  </tbody>\n",
       "</table>\n",
       "</div>"
      ],
      "text/plain": [
       "           count      mean       std       min       25%       50%       75%  \\\n",
       "city                                                                           \n",
       "Amsterdam  195.0  4.935041  0.344122  4.143135  4.700480  4.897840  5.147494   \n",
       "Barcelona  249.0  4.600394  0.290127  3.931826  4.394449  4.584967  4.770685   \n",
       "Vienna     207.0  4.640219  0.336751  3.912023  4.406719  4.605170  4.863673   \n",
       "\n",
       "                max  \n",
       "city                 \n",
       "Amsterdam  6.536692  \n",
       "Barcelona  5.575949  \n",
       "Vienna     5.948035  "
      ]
     },
     "execution_count": 47,
     "metadata": {},
     "output_type": "execute_result"
    }
   ],
   "source": [
    "data.groupby('city')['lnprice'].describe()"
   ]
  },
  {
   "cell_type": "code",
   "execution_count": 48,
   "metadata": {},
   "outputs": [],
   "source": [
    "## add in spline regression"
   ]
  },
  {
   "cell_type": "code",
   "execution_count": 49,
   "metadata": {},
   "outputs": [],
   "source": [
    "data = pd.read_csv(os.path.join(data_out,\"hotels_work.csv\"))"
   ]
  },
  {
   "cell_type": "code",
   "execution_count": 50,
   "metadata": {},
   "outputs": [],
   "source": [
    "data = data[(data['stars']>=3) & (data['stars']<=4)]"
   ]
  },
  {
   "cell_type": "code",
   "execution_count": 51,
   "metadata": {},
   "outputs": [],
   "source": [
    "data = data[data['city'] == 'Vienna'] "
   ]
  },
  {
   "cell_type": "code",
   "execution_count": 52,
   "metadata": {},
   "outputs": [],
   "source": [
    "data = data[data['date']==\"2017-NOV-weekday\"]"
   ]
  },
  {
   "cell_type": "code",
   "execution_count": 53,
   "metadata": {},
   "outputs": [
    {
     "data": {
      "text/html": [
       "<div>\n",
       "<style scoped>\n",
       "    .dataframe tbody tr th:only-of-type {\n",
       "        vertical-align: middle;\n",
       "    }\n",
       "\n",
       "    .dataframe tbody tr th {\n",
       "        vertical-align: top;\n",
       "    }\n",
       "\n",
       "    .dataframe thead th {\n",
       "        text-align: right;\n",
       "    }\n",
       "</style>\n",
       "<table border=\"1\" class=\"dataframe\">\n",
       "  <thead>\n",
       "    <tr style=\"text-align: right;\">\n",
       "      <th>stars</th>\n",
       "      <th>3.0</th>\n",
       "      <th>3.5</th>\n",
       "      <th>4.0</th>\n",
       "    </tr>\n",
       "    <tr>\n",
       "      <th>accommodation_type</th>\n",
       "      <th></th>\n",
       "      <th></th>\n",
       "      <th></th>\n",
       "    </tr>\n",
       "  </thead>\n",
       "  <tbody>\n",
       "    <tr>\n",
       "      <th>Apartment</th>\n",
       "      <td>34</td>\n",
       "      <td>41</td>\n",
       "      <td>17</td>\n",
       "    </tr>\n",
       "    <tr>\n",
       "      <th>Hotel</th>\n",
       "      <td>82</td>\n",
       "      <td>14</td>\n",
       "      <td>111</td>\n",
       "    </tr>\n",
       "  </tbody>\n",
       "</table>\n",
       "</div>"
      ],
      "text/plain": [
       "stars               3.0  3.5  4.0\n",
       "accommodation_type               \n",
       "Apartment            34   41   17\n",
       "Hotel                82   14  111"
      ]
     },
     "execution_count": 53,
     "metadata": {},
     "output_type": "execute_result"
    }
   ],
   "source": [
    "pd.crosstab(index=data['accommodation_type'], columns=data['stars'])"
   ]
  },
  {
   "cell_type": "code",
   "execution_count": 55,
   "metadata": {},
   "outputs": [
    {
     "data": {
      "text/html": [
       "<div>\n",
       "<style scoped>\n",
       "    .dataframe tbody tr th:only-of-type {\n",
       "        vertical-align: middle;\n",
       "    }\n",
       "\n",
       "    .dataframe tbody tr th {\n",
       "        vertical-align: top;\n",
       "    }\n",
       "\n",
       "    .dataframe thead th {\n",
       "        text-align: right;\n",
       "    }\n",
       "</style>\n",
       "<table border=\"1\" class=\"dataframe\">\n",
       "  <thead>\n",
       "    <tr style=\"text-align: right;\">\n",
       "      <th></th>\n",
       "      <th>count</th>\n",
       "      <th>mean</th>\n",
       "      <th>std</th>\n",
       "      <th>min</th>\n",
       "      <th>25%</th>\n",
       "      <th>50%</th>\n",
       "      <th>75%</th>\n",
       "      <th>max</th>\n",
       "    </tr>\n",
       "    <tr>\n",
       "      <th>stars</th>\n",
       "      <th></th>\n",
       "      <th></th>\n",
       "      <th></th>\n",
       "      <th></th>\n",
       "      <th></th>\n",
       "      <th></th>\n",
       "      <th></th>\n",
       "      <th></th>\n",
       "    </tr>\n",
       "  </thead>\n",
       "  <tbody>\n",
       "    <tr>\n",
       "      <th>3.0</th>\n",
       "      <td>116.0</td>\n",
       "      <td>1.850862</td>\n",
       "      <td>1.300468</td>\n",
       "      <td>0.1</td>\n",
       "      <td>0.90</td>\n",
       "      <td>1.55</td>\n",
       "      <td>2.30</td>\n",
       "      <td>6.9</td>\n",
       "    </tr>\n",
       "    <tr>\n",
       "      <th>3.5</th>\n",
       "      <td>55.0</td>\n",
       "      <td>1.372727</td>\n",
       "      <td>1.122242</td>\n",
       "      <td>0.1</td>\n",
       "      <td>0.35</td>\n",
       "      <td>1.40</td>\n",
       "      <td>1.75</td>\n",
       "      <td>5.1</td>\n",
       "    </tr>\n",
       "    <tr>\n",
       "      <th>4.0</th>\n",
       "      <td>128.0</td>\n",
       "      <td>1.303125</td>\n",
       "      <td>1.033908</td>\n",
       "      <td>0.0</td>\n",
       "      <td>0.50</td>\n",
       "      <td>1.00</td>\n",
       "      <td>1.70</td>\n",
       "      <td>4.8</td>\n",
       "    </tr>\n",
       "  </tbody>\n",
       "</table>\n",
       "</div>"
      ],
      "text/plain": [
       "       count      mean       std  min   25%   50%   75%  max\n",
       "stars                                                       \n",
       "3.0    116.0  1.850862  1.300468  0.1  0.90  1.55  2.30  6.9\n",
       "3.5     55.0  1.372727  1.122242  0.1  0.35  1.40  1.75  5.1\n",
       "4.0    128.0  1.303125  1.033908  0.0  0.50  1.00  1.70  4.8"
      ]
     },
     "execution_count": 55,
     "metadata": {},
     "output_type": "execute_result"
    }
   ],
   "source": [
    "data.groupby('stars')['distance'].describe()"
   ]
  },
  {
   "cell_type": "code",
   "execution_count": 56,
   "metadata": {},
   "outputs": [
    {
     "data": {
      "text/html": [
       "<div>\n",
       "<style scoped>\n",
       "    .dataframe tbody tr th:only-of-type {\n",
       "        vertical-align: middle;\n",
       "    }\n",
       "\n",
       "    .dataframe tbody tr th {\n",
       "        vertical-align: top;\n",
       "    }\n",
       "\n",
       "    .dataframe thead th {\n",
       "        text-align: right;\n",
       "    }\n",
       "</style>\n",
       "<table border=\"1\" class=\"dataframe\">\n",
       "  <thead>\n",
       "    <tr style=\"text-align: right;\">\n",
       "      <th></th>\n",
       "      <th>count</th>\n",
       "      <th>mean</th>\n",
       "      <th>std</th>\n",
       "      <th>min</th>\n",
       "      <th>25%</th>\n",
       "      <th>50%</th>\n",
       "      <th>75%</th>\n",
       "      <th>max</th>\n",
       "    </tr>\n",
       "    <tr>\n",
       "      <th>stars</th>\n",
       "      <th></th>\n",
       "      <th></th>\n",
       "      <th></th>\n",
       "      <th></th>\n",
       "      <th></th>\n",
       "      <th></th>\n",
       "      <th></th>\n",
       "      <th></th>\n",
       "    </tr>\n",
       "  </thead>\n",
       "  <tbody>\n",
       "    <tr>\n",
       "      <th>3.0</th>\n",
       "      <td>116.0</td>\n",
       "      <td>101.508621</td>\n",
       "      <td>42.218581</td>\n",
       "      <td>50.0</td>\n",
       "      <td>77.0</td>\n",
       "      <td>88.0</td>\n",
       "      <td>113.00</td>\n",
       "      <td>383.0</td>\n",
       "    </tr>\n",
       "    <tr>\n",
       "      <th>3.5</th>\n",
       "      <td>55.0</td>\n",
       "      <td>143.072727</td>\n",
       "      <td>84.948973</td>\n",
       "      <td>56.0</td>\n",
       "      <td>91.5</td>\n",
       "      <td>116.0</td>\n",
       "      <td>153.00</td>\n",
       "      <td>511.0</td>\n",
       "    </tr>\n",
       "    <tr>\n",
       "      <th>4.0</th>\n",
       "      <td>128.0</td>\n",
       "      <td>128.929688</td>\n",
       "      <td>51.467318</td>\n",
       "      <td>60.0</td>\n",
       "      <td>94.5</td>\n",
       "      <td>117.0</td>\n",
       "      <td>151.25</td>\n",
       "      <td>364.0</td>\n",
       "    </tr>\n",
       "  </tbody>\n",
       "</table>\n",
       "</div>"
      ],
      "text/plain": [
       "       count        mean        std   min   25%    50%     75%    max\n",
       "stars                                                                \n",
       "3.0    116.0  101.508621  42.218581  50.0  77.0   88.0  113.00  383.0\n",
       "3.5     55.0  143.072727  84.948973  56.0  91.5  116.0  153.00  511.0\n",
       "4.0    128.0  128.929688  51.467318  60.0  94.5  117.0  151.25  364.0"
      ]
     },
     "execution_count": 56,
     "metadata": {},
     "output_type": "execute_result"
    }
   ],
   "source": [
    "data.groupby('stars')['price'].describe()"
   ]
  },
  {
   "cell_type": "code",
   "execution_count": 57,
   "metadata": {},
   "outputs": [
    {
     "data": {
      "text/html": [
       "<div>\n",
       "<style scoped>\n",
       "    .dataframe tbody tr th:only-of-type {\n",
       "        vertical-align: middle;\n",
       "    }\n",
       "\n",
       "    .dataframe tbody tr th {\n",
       "        vertical-align: top;\n",
       "    }\n",
       "\n",
       "    .dataframe thead th {\n",
       "        text-align: right;\n",
       "    }\n",
       "</style>\n",
       "<table border=\"1\" class=\"dataframe\">\n",
       "  <thead>\n",
       "    <tr style=\"text-align: right;\">\n",
       "      <th></th>\n",
       "      <th>count</th>\n",
       "      <th>mean</th>\n",
       "      <th>std</th>\n",
       "      <th>min</th>\n",
       "      <th>25%</th>\n",
       "      <th>50%</th>\n",
       "      <th>75%</th>\n",
       "      <th>max</th>\n",
       "    </tr>\n",
       "    <tr>\n",
       "      <th>stars</th>\n",
       "      <th></th>\n",
       "      <th></th>\n",
       "      <th></th>\n",
       "      <th></th>\n",
       "      <th></th>\n",
       "      <th></th>\n",
       "      <th></th>\n",
       "      <th></th>\n",
       "    </tr>\n",
       "  </thead>\n",
       "  <tbody>\n",
       "    <tr>\n",
       "      <th>3.0</th>\n",
       "      <td>116.0</td>\n",
       "      <td>4.557955</td>\n",
       "      <td>0.336048</td>\n",
       "      <td>3.912023</td>\n",
       "      <td>4.343805</td>\n",
       "      <td>4.477337</td>\n",
       "      <td>4.727388</td>\n",
       "      <td>5.948035</td>\n",
       "    </tr>\n",
       "    <tr>\n",
       "      <th>3.5</th>\n",
       "      <td>55.0</td>\n",
       "      <td>4.843521</td>\n",
       "      <td>0.459908</td>\n",
       "      <td>4.025352</td>\n",
       "      <td>4.516324</td>\n",
       "      <td>4.753590</td>\n",
       "      <td>5.030246</td>\n",
       "      <td>6.236370</td>\n",
       "    </tr>\n",
       "    <tr>\n",
       "      <th>4.0</th>\n",
       "      <td>128.0</td>\n",
       "      <td>4.793880</td>\n",
       "      <td>0.352248</td>\n",
       "      <td>4.094345</td>\n",
       "      <td>4.548558</td>\n",
       "      <td>4.762174</td>\n",
       "      <td>5.018930</td>\n",
       "      <td>5.897154</td>\n",
       "    </tr>\n",
       "  </tbody>\n",
       "</table>\n",
       "</div>"
      ],
      "text/plain": [
       "       count      mean       std       min       25%       50%       75%  \\\n",
       "stars                                                                      \n",
       "3.0    116.0  4.557955  0.336048  3.912023  4.343805  4.477337  4.727388   \n",
       "3.5     55.0  4.843521  0.459908  4.025352  4.516324  4.753590  5.030246   \n",
       "4.0    128.0  4.793880  0.352248  4.094345  4.548558  4.762174  5.018930   \n",
       "\n",
       "            max  \n",
       "stars            \n",
       "3.0    5.948035  \n",
       "3.5    6.236370  \n",
       "4.0    5.897154  "
      ]
     },
     "execution_count": 57,
     "metadata": {},
     "output_type": "execute_result"
    }
   ],
   "source": [
    "data.groupby('stars')['lnprice'].describe()"
   ]
  },
  {
   "cell_type": "code",
   "execution_count": 58,
   "metadata": {},
   "outputs": [],
   "source": [
    "#regression with splines should go here"
   ]
  },
  {
   "cell_type": "code",
   "execution_count": null,
   "metadata": {},
   "outputs": [],
   "source": []
  }
 ],
 "metadata": {
  "kernelspec": {
   "display_name": "Python 3",
   "language": "python",
   "name": "python3"
  },
  "language_info": {
   "codemirror_mode": {
    "name": "ipython",
    "version": 3
   },
   "file_extension": ".py",
   "mimetype": "text/x-python",
   "name": "python",
   "nbconvert_exporter": "python",
   "pygments_lexer": "ipython3",
   "version": "3.6.5"
  }
 },
 "nbformat": 4,
 "nbformat_minor": 2
}
