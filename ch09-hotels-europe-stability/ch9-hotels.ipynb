{
 "cells": [
  {
   "cell_type": "code",
   "execution_count": 1,
   "metadata": {},
   "outputs": [],
   "source": [
    "import pandas as pd\n",
    "import os\n",
    "from pathlib import Path\n",
    "import numpy as np\n",
    "from patsy import bs,dmatrix,dmatrices\n",
    "import sys\n",
    "import statsmodels.api as sm"
   ]
  },
  {
   "cell_type": "code",
   "execution_count": 2,
   "metadata": {},
   "outputs": [],
   "source": [
    "path = Path(os.getcwd())"
   ]
  },
  {
   "cell_type": "code",
   "execution_count": 3,
   "metadata": {},
   "outputs": [],
   "source": [
    "base_dir = path.parent.parent"
   ]
  },
  {
   "cell_type": "code",
   "execution_count": 4,
   "metadata": {},
   "outputs": [],
   "source": [
    "data_in = os.path.join(str(base_dir) , \"da_data_repo/hotels-europe/clean/\")"
   ]
  },
  {
   "cell_type": "code",
   "execution_count": 5,
   "metadata": {},
   "outputs": [],
   "source": [
    "data_out = os.path.join(str(base_dir), \"da_case_studies/ch09-hotels-europe-stability/\")"
   ]
  },
  {
   "cell_type": "code",
   "execution_count": 6,
   "metadata": {},
   "outputs": [],
   "source": [
    "func = os.path.join(str(base_dir) ,   \"da_case_studies/ch00-tech-prep/\")"
   ]
  },
  {
   "cell_type": "code",
   "execution_count": 7,
   "metadata": {},
   "outputs": [],
   "source": [
    "sys.path.append(func)"
   ]
  },
  {
   "cell_type": "code",
   "execution_count": 8,
   "metadata": {},
   "outputs": [],
   "source": [
    "from py_helper_functions import *"
   ]
  },
  {
   "cell_type": "code",
   "execution_count": 9,
   "metadata": {},
   "outputs": [],
   "source": [
    "hotels_europe_price = pd.read_csv(os.path.join(data_in,\"hotels-europe_price.csv\"))"
   ]
  },
  {
   "cell_type": "code",
   "execution_count": 10,
   "metadata": {},
   "outputs": [],
   "source": [
    "hotels_europe_features = pd.read_csv(os.path.join(data_in,\"hotels-europe_features.csv\"))"
   ]
  },
  {
   "cell_type": "code",
   "execution_count": 11,
   "metadata": {},
   "outputs": [],
   "source": [
    "data = pd.merge(hotels_europe_price,hotels_europe_features,on='hotel_id',how='left')"
   ]
  },
  {
   "cell_type": "code",
   "execution_count": 12,
   "metadata": {},
   "outputs": [],
   "source": [
    "data = data[data['city_actual'].isin(['Vienna','Amsterdam','Barcelona'])]"
   ]
  },
  {
   "cell_type": "code",
   "execution_count": 13,
   "metadata": {},
   "outputs": [],
   "source": [
    "data = data[data['accommodation_type'].isin(['Hotel','Apartment'])]"
   ]
  },
  {
   "cell_type": "code",
   "execution_count": 14,
   "metadata": {},
   "outputs": [],
   "source": [
    "data = data[data['nnights']!=4]"
   ]
  },
  {
   "cell_type": "code",
   "execution_count": 15,
   "metadata": {},
   "outputs": [],
   "source": [
    "data = data[data['price']<1000]"
   ]
  },
  {
   "cell_type": "code",
   "execution_count": 16,
   "metadata": {},
   "outputs": [],
   "source": [
    "data = data.drop_duplicates()"
   ]
  },
  {
   "cell_type": "code",
   "execution_count": 17,
   "metadata": {},
   "outputs": [],
   "source": [
    "data.loc[(data['month']==11) & (data['weekend']==0),'date']='2017-NOV-weekday'\n",
    "data.loc[(data['month']==11) & (data['weekend']==1),'date']='2017-NOV-weekend'\n",
    "data.loc[(data['month']==12) & (data['holiday']==1),'date']='2017-DEC-holiday'\n",
    "data.loc[(data['month']==6) & (data['weekend']==1),'date']='2018-JUNE-weekend'"
   ]
  },
  {
   "cell_type": "code",
   "execution_count": 18,
   "metadata": {},
   "outputs": [],
   "source": [
    "data = data[data['date'].notna()]"
   ]
  },
  {
   "cell_type": "code",
   "execution_count": 19,
   "metadata": {},
   "outputs": [
    {
     "data": {
      "text/plain": [
       "Barcelona    1564\n",
       "Vienna       1326\n",
       "Amsterdam     830\n",
       "Name: city, dtype: int64"
      ]
     },
     "execution_count": 19,
     "metadata": {},
     "output_type": "execute_result"
    }
   ],
   "source": [
    "data['city'].value_counts()"
   ]
  },
  {
   "cell_type": "code",
   "execution_count": 20,
   "metadata": {},
   "outputs": [
    {
     "data": {
      "text/html": [
       "<div>\n",
       "<style scoped>\n",
       "    .dataframe tbody tr th:only-of-type {\n",
       "        vertical-align: middle;\n",
       "    }\n",
       "\n",
       "    .dataframe tbody tr th {\n",
       "        vertical-align: top;\n",
       "    }\n",
       "\n",
       "    .dataframe thead th {\n",
       "        text-align: right;\n",
       "    }\n",
       "</style>\n",
       "<table border=\"1\" class=\"dataframe\">\n",
       "  <thead>\n",
       "    <tr style=\"text-align: right;\">\n",
       "      <th>city</th>\n",
       "      <th>Amsterdam</th>\n",
       "      <th>Barcelona</th>\n",
       "      <th>Vienna</th>\n",
       "    </tr>\n",
       "    <tr>\n",
       "      <th>accommodation_type</th>\n",
       "      <th></th>\n",
       "      <th></th>\n",
       "      <th></th>\n",
       "    </tr>\n",
       "  </thead>\n",
       "  <tbody>\n",
       "    <tr>\n",
       "      <th>Apartment</th>\n",
       "      <td>31</td>\n",
       "      <td>300</td>\n",
       "      <td>457</td>\n",
       "    </tr>\n",
       "    <tr>\n",
       "      <th>Hotel</th>\n",
       "      <td>799</td>\n",
       "      <td>1264</td>\n",
       "      <td>869</td>\n",
       "    </tr>\n",
       "  </tbody>\n",
       "</table>\n",
       "</div>"
      ],
      "text/plain": [
       "city                Amsterdam  Barcelona  Vienna\n",
       "accommodation_type                              \n",
       "Apartment                  31        300     457\n",
       "Hotel                     799       1264     869"
      ]
     },
     "execution_count": 20,
     "metadata": {},
     "output_type": "execute_result"
    }
   ],
   "source": [
    "pd.crosstab(index=data['accommodation_type'], columns=data['city'])"
   ]
  },
  {
   "cell_type": "code",
   "execution_count": 21,
   "metadata": {},
   "outputs": [
    {
     "data": {
      "text/html": [
       "<div>\n",
       "<style scoped>\n",
       "    .dataframe tbody tr th:only-of-type {\n",
       "        vertical-align: middle;\n",
       "    }\n",
       "\n",
       "    .dataframe tbody tr th {\n",
       "        vertical-align: top;\n",
       "    }\n",
       "\n",
       "    .dataframe thead th {\n",
       "        text-align: right;\n",
       "    }\n",
       "</style>\n",
       "<table border=\"1\" class=\"dataframe\">\n",
       "  <thead>\n",
       "    <tr style=\"text-align: right;\">\n",
       "      <th>city</th>\n",
       "      <th>Amsterdam</th>\n",
       "      <th>Barcelona</th>\n",
       "      <th>Vienna</th>\n",
       "    </tr>\n",
       "    <tr>\n",
       "      <th>date</th>\n",
       "      <th></th>\n",
       "      <th></th>\n",
       "      <th></th>\n",
       "    </tr>\n",
       "  </thead>\n",
       "  <tbody>\n",
       "    <tr>\n",
       "      <th>2017-DEC-holiday</th>\n",
       "      <td>290</td>\n",
       "      <td>420</td>\n",
       "      <td>338</td>\n",
       "    </tr>\n",
       "    <tr>\n",
       "      <th>2017-NOV-weekday</th>\n",
       "      <td>315</td>\n",
       "      <td>452</td>\n",
       "      <td>377</td>\n",
       "    </tr>\n",
       "    <tr>\n",
       "      <th>2017-NOV-weekend</th>\n",
       "      <td>125</td>\n",
       "      <td>393</td>\n",
       "      <td>256</td>\n",
       "    </tr>\n",
       "    <tr>\n",
       "      <th>2018-JUNE-weekend</th>\n",
       "      <td>100</td>\n",
       "      <td>299</td>\n",
       "      <td>355</td>\n",
       "    </tr>\n",
       "  </tbody>\n",
       "</table>\n",
       "</div>"
      ],
      "text/plain": [
       "city               Amsterdam  Barcelona  Vienna\n",
       "date                                           \n",
       "2017-DEC-holiday         290        420     338\n",
       "2017-NOV-weekday         315        452     377\n",
       "2017-NOV-weekend         125        393     256\n",
       "2018-JUNE-weekend        100        299     355"
      ]
     },
     "execution_count": 21,
     "metadata": {},
     "output_type": "execute_result"
    }
   ],
   "source": [
    "pd.crosstab(index=data['date'], columns=data['city'])"
   ]
  },
  {
   "cell_type": "code",
   "execution_count": 22,
   "metadata": {},
   "outputs": [],
   "source": [
    "data['lnprice']=data['price'].map(lambda x:np.log(x))"
   ]
  },
  {
   "cell_type": "code",
   "execution_count": 23,
   "metadata": {},
   "outputs": [],
   "source": [
    "data = data[[\"hotel_id\", \"date\", \"city\", \"accommodation_type\", \"stars\", \"rating\", \"distance\", \"price\", \"lnprice\"]]"
   ]
  },
  {
   "cell_type": "code",
   "execution_count": 24,
   "metadata": {},
   "outputs": [],
   "source": [
    "data.to_csv(os.path.join(data_out,\"hotels_work.csv\"),index=False)"
   ]
  },
  {
   "cell_type": "code",
   "execution_count": 25,
   "metadata": {},
   "outputs": [],
   "source": [
    "data = data[(data['stars']>=3) & (data['stars']<=4)]"
   ]
  },
  {
   "cell_type": "code",
   "execution_count": 26,
   "metadata": {},
   "outputs": [],
   "source": [
    "data = data[data['accommodation_type'] == 'Hotel'] "
   ]
  },
  {
   "cell_type": "code",
   "execution_count": 27,
   "metadata": {},
   "outputs": [],
   "source": [
    "data = data[data['city']=='Vienna']"
   ]
  },
  {
   "cell_type": "code",
   "execution_count": 28,
   "metadata": {},
   "outputs": [
    {
     "data": {
      "text/plain": [
       "2017-NOV-weekday     207\n",
       "2017-DEC-holiday     189\n",
       "2018-JUNE-weekend    181\n",
       "2017-NOV-weekend     125\n",
       "Name: date, dtype: int64"
      ]
     },
     "execution_count": 28,
     "metadata": {},
     "output_type": "execute_result"
    }
   ],
   "source": [
    "data['date'].value_counts()"
   ]
  },
  {
   "cell_type": "code",
   "execution_count": 29,
   "metadata": {},
   "outputs": [
    {
     "data": {
      "text/html": [
       "<div>\n",
       "<style scoped>\n",
       "    .dataframe tbody tr th:only-of-type {\n",
       "        vertical-align: middle;\n",
       "    }\n",
       "\n",
       "    .dataframe tbody tr th {\n",
       "        vertical-align: top;\n",
       "    }\n",
       "\n",
       "    .dataframe thead th {\n",
       "        text-align: right;\n",
       "    }\n",
       "</style>\n",
       "<table border=\"1\" class=\"dataframe\">\n",
       "  <thead>\n",
       "    <tr style=\"text-align: right;\">\n",
       "      <th></th>\n",
       "      <th>distance</th>\n",
       "      <th>price</th>\n",
       "      <th>lnprice</th>\n",
       "    </tr>\n",
       "  </thead>\n",
       "  <tbody>\n",
       "    <tr>\n",
       "      <th>count</th>\n",
       "      <td>702.000000</td>\n",
       "      <td>702.000000</td>\n",
       "      <td>702.000000</td>\n",
       "    </tr>\n",
       "    <tr>\n",
       "      <th>mean</th>\n",
       "      <td>1.566382</td>\n",
       "      <td>122.752137</td>\n",
       "      <td>4.737121</td>\n",
       "    </tr>\n",
       "    <tr>\n",
       "      <th>std</th>\n",
       "      <td>1.154614</td>\n",
       "      <td>53.304830</td>\n",
       "      <td>0.366648</td>\n",
       "    </tr>\n",
       "    <tr>\n",
       "      <th>min</th>\n",
       "      <td>0.000000</td>\n",
       "      <td>50.000000</td>\n",
       "      <td>3.912023</td>\n",
       "    </tr>\n",
       "    <tr>\n",
       "      <th>25%</th>\n",
       "      <td>0.800000</td>\n",
       "      <td>86.000000</td>\n",
       "      <td>4.454347</td>\n",
       "    </tr>\n",
       "    <tr>\n",
       "      <th>50%</th>\n",
       "      <td>1.400000</td>\n",
       "      <td>109.000000</td>\n",
       "      <td>4.691348</td>\n",
       "    </tr>\n",
       "    <tr>\n",
       "      <th>75%</th>\n",
       "      <td>1.900000</td>\n",
       "      <td>144.000000</td>\n",
       "      <td>4.969813</td>\n",
       "    </tr>\n",
       "    <tr>\n",
       "      <th>max</th>\n",
       "      <td>6.600000</td>\n",
       "      <td>491.000000</td>\n",
       "      <td>6.196444</td>\n",
       "    </tr>\n",
       "  </tbody>\n",
       "</table>\n",
       "</div>"
      ],
      "text/plain": [
       "         distance       price     lnprice\n",
       "count  702.000000  702.000000  702.000000\n",
       "mean     1.566382  122.752137    4.737121\n",
       "std      1.154614   53.304830    0.366648\n",
       "min      0.000000   50.000000    3.912023\n",
       "25%      0.800000   86.000000    4.454347\n",
       "50%      1.400000  109.000000    4.691348\n",
       "75%      1.900000  144.000000    4.969813\n",
       "max      6.600000  491.000000    6.196444"
      ]
     },
     "execution_count": 29,
     "metadata": {},
     "output_type": "execute_result"
    }
   ],
   "source": [
    "data[['distance','price','lnprice']].describe()"
   ]
  },
  {
   "cell_type": "code",
   "execution_count": 30,
   "metadata": {},
   "outputs": [
    {
     "data": {
      "text/html": [
       "<div>\n",
       "<style scoped>\n",
       "    .dataframe tbody tr th:only-of-type {\n",
       "        vertical-align: middle;\n",
       "    }\n",
       "\n",
       "    .dataframe tbody tr th {\n",
       "        vertical-align: top;\n",
       "    }\n",
       "\n",
       "    .dataframe thead th {\n",
       "        text-align: right;\n",
       "    }\n",
       "</style>\n",
       "<table border=\"1\" class=\"dataframe\">\n",
       "  <thead>\n",
       "    <tr style=\"text-align: right;\">\n",
       "      <th></th>\n",
       "      <th>count</th>\n",
       "      <th>mean</th>\n",
       "      <th>std</th>\n",
       "      <th>min</th>\n",
       "      <th>25%</th>\n",
       "      <th>50%</th>\n",
       "      <th>75%</th>\n",
       "      <th>max</th>\n",
       "    </tr>\n",
       "    <tr>\n",
       "      <th>date</th>\n",
       "      <th></th>\n",
       "      <th></th>\n",
       "      <th></th>\n",
       "      <th></th>\n",
       "      <th></th>\n",
       "      <th></th>\n",
       "      <th></th>\n",
       "      <th></th>\n",
       "    </tr>\n",
       "  </thead>\n",
       "  <tbody>\n",
       "    <tr>\n",
       "      <th>2017-DEC-holiday</th>\n",
       "      <td>189.0</td>\n",
       "      <td>1.503175</td>\n",
       "      <td>1.059903</td>\n",
       "      <td>0.0</td>\n",
       "      <td>0.8</td>\n",
       "      <td>1.3</td>\n",
       "      <td>1.9</td>\n",
       "      <td>5.2</td>\n",
       "    </tr>\n",
       "    <tr>\n",
       "      <th>2017-NOV-weekday</th>\n",
       "      <td>207.0</td>\n",
       "      <td>1.529952</td>\n",
       "      <td>1.161507</td>\n",
       "      <td>0.0</td>\n",
       "      <td>0.8</td>\n",
       "      <td>1.3</td>\n",
       "      <td>1.9</td>\n",
       "      <td>6.6</td>\n",
       "    </tr>\n",
       "    <tr>\n",
       "      <th>2017-NOV-weekend</th>\n",
       "      <td>125.0</td>\n",
       "      <td>1.772800</td>\n",
       "      <td>1.298161</td>\n",
       "      <td>0.0</td>\n",
       "      <td>0.9</td>\n",
       "      <td>1.6</td>\n",
       "      <td>2.1</td>\n",
       "      <td>6.6</td>\n",
       "    </tr>\n",
       "    <tr>\n",
       "      <th>2018-JUNE-weekend</th>\n",
       "      <td>181.0</td>\n",
       "      <td>1.531492</td>\n",
       "      <td>1.130070</td>\n",
       "      <td>0.0</td>\n",
       "      <td>0.8</td>\n",
       "      <td>1.3</td>\n",
       "      <td>1.9</td>\n",
       "      <td>6.6</td>\n",
       "    </tr>\n",
       "  </tbody>\n",
       "</table>\n",
       "</div>"
      ],
      "text/plain": [
       "                   count      mean       std  min  25%  50%  75%  max\n",
       "date                                                                 \n",
       "2017-DEC-holiday   189.0  1.503175  1.059903  0.0  0.8  1.3  1.9  5.2\n",
       "2017-NOV-weekday   207.0  1.529952  1.161507  0.0  0.8  1.3  1.9  6.6\n",
       "2017-NOV-weekend   125.0  1.772800  1.298161  0.0  0.9  1.6  2.1  6.6\n",
       "2018-JUNE-weekend  181.0  1.531492  1.130070  0.0  0.8  1.3  1.9  6.6"
      ]
     },
     "execution_count": 30,
     "metadata": {},
     "output_type": "execute_result"
    }
   ],
   "source": [
    "data.groupby('date')['distance'].describe()"
   ]
  },
  {
   "cell_type": "code",
   "execution_count": 31,
   "metadata": {},
   "outputs": [
    {
     "data": {
      "text/html": [
       "<div>\n",
       "<style scoped>\n",
       "    .dataframe tbody tr th:only-of-type {\n",
       "        vertical-align: middle;\n",
       "    }\n",
       "\n",
       "    .dataframe tbody tr th {\n",
       "        vertical-align: top;\n",
       "    }\n",
       "\n",
       "    .dataframe thead th {\n",
       "        text-align: right;\n",
       "    }\n",
       "</style>\n",
       "<table border=\"1\" class=\"dataframe\">\n",
       "  <thead>\n",
       "    <tr style=\"text-align: right;\">\n",
       "      <th></th>\n",
       "      <th>count</th>\n",
       "      <th>mean</th>\n",
       "      <th>std</th>\n",
       "      <th>min</th>\n",
       "      <th>25%</th>\n",
       "      <th>50%</th>\n",
       "      <th>75%</th>\n",
       "      <th>max</th>\n",
       "    </tr>\n",
       "    <tr>\n",
       "      <th>date</th>\n",
       "      <th></th>\n",
       "      <th></th>\n",
       "      <th></th>\n",
       "      <th></th>\n",
       "      <th></th>\n",
       "      <th></th>\n",
       "      <th></th>\n",
       "      <th></th>\n",
       "    </tr>\n",
       "  </thead>\n",
       "  <tbody>\n",
       "    <tr>\n",
       "      <th>2017-DEC-holiday</th>\n",
       "      <td>189.0</td>\n",
       "      <td>116.492063</td>\n",
       "      <td>46.308358</td>\n",
       "      <td>57.0</td>\n",
       "      <td>85.0</td>\n",
       "      <td>103.0</td>\n",
       "      <td>138.0</td>\n",
       "      <td>386.0</td>\n",
       "    </tr>\n",
       "    <tr>\n",
       "      <th>2017-NOV-weekday</th>\n",
       "      <td>207.0</td>\n",
       "      <td>109.975845</td>\n",
       "      <td>42.221381</td>\n",
       "      <td>50.0</td>\n",
       "      <td>82.0</td>\n",
       "      <td>100.0</td>\n",
       "      <td>129.5</td>\n",
       "      <td>383.0</td>\n",
       "    </tr>\n",
       "    <tr>\n",
       "      <th>2017-NOV-weekend</th>\n",
       "      <td>125.0</td>\n",
       "      <td>149.144000</td>\n",
       "      <td>76.530903</td>\n",
       "      <td>60.0</td>\n",
       "      <td>92.0</td>\n",
       "      <td>132.0</td>\n",
       "      <td>180.0</td>\n",
       "      <td>491.0</td>\n",
       "    </tr>\n",
       "    <tr>\n",
       "      <th>2018-JUNE-weekend</th>\n",
       "      <td>181.0</td>\n",
       "      <td>125.674033</td>\n",
       "      <td>45.053534</td>\n",
       "      <td>59.0</td>\n",
       "      <td>94.0</td>\n",
       "      <td>111.0</td>\n",
       "      <td>154.0</td>\n",
       "      <td>297.0</td>\n",
       "    </tr>\n",
       "  </tbody>\n",
       "</table>\n",
       "</div>"
      ],
      "text/plain": [
       "                   count        mean        std   min   25%    50%    75%  \\\n",
       "date                                                                        \n",
       "2017-DEC-holiday   189.0  116.492063  46.308358  57.0  85.0  103.0  138.0   \n",
       "2017-NOV-weekday   207.0  109.975845  42.221381  50.0  82.0  100.0  129.5   \n",
       "2017-NOV-weekend   125.0  149.144000  76.530903  60.0  92.0  132.0  180.0   \n",
       "2018-JUNE-weekend  181.0  125.674033  45.053534  59.0  94.0  111.0  154.0   \n",
       "\n",
       "                     max  \n",
       "date                      \n",
       "2017-DEC-holiday   386.0  \n",
       "2017-NOV-weekday   383.0  \n",
       "2017-NOV-weekend   491.0  \n",
       "2018-JUNE-weekend  297.0  "
      ]
     },
     "execution_count": 31,
     "metadata": {},
     "output_type": "execute_result"
    }
   ],
   "source": [
    "data.groupby('date')['price'].describe()"
   ]
  },
  {
   "cell_type": "code",
   "execution_count": 32,
   "metadata": {},
   "outputs": [
    {
     "data": {
      "text/html": [
       "<div>\n",
       "<style scoped>\n",
       "    .dataframe tbody tr th:only-of-type {\n",
       "        vertical-align: middle;\n",
       "    }\n",
       "\n",
       "    .dataframe tbody tr th {\n",
       "        vertical-align: top;\n",
       "    }\n",
       "\n",
       "    .dataframe thead th {\n",
       "        text-align: right;\n",
       "    }\n",
       "</style>\n",
       "<table border=\"1\" class=\"dataframe\">\n",
       "  <thead>\n",
       "    <tr style=\"text-align: right;\">\n",
       "      <th></th>\n",
       "      <th>count</th>\n",
       "      <th>mean</th>\n",
       "      <th>std</th>\n",
       "      <th>min</th>\n",
       "      <th>25%</th>\n",
       "      <th>50%</th>\n",
       "      <th>75%</th>\n",
       "      <th>max</th>\n",
       "    </tr>\n",
       "    <tr>\n",
       "      <th>date</th>\n",
       "      <th></th>\n",
       "      <th></th>\n",
       "      <th></th>\n",
       "      <th></th>\n",
       "      <th></th>\n",
       "      <th></th>\n",
       "      <th></th>\n",
       "      <th></th>\n",
       "    </tr>\n",
       "  </thead>\n",
       "  <tbody>\n",
       "    <tr>\n",
       "      <th>2017-DEC-holiday</th>\n",
       "      <td>189.0</td>\n",
       "      <td>4.696710</td>\n",
       "      <td>0.334883</td>\n",
       "      <td>4.043051</td>\n",
       "      <td>4.442651</td>\n",
       "      <td>4.634729</td>\n",
       "      <td>4.927254</td>\n",
       "      <td>5.955837</td>\n",
       "    </tr>\n",
       "    <tr>\n",
       "      <th>2017-NOV-weekday</th>\n",
       "      <td>207.0</td>\n",
       "      <td>4.640219</td>\n",
       "      <td>0.336751</td>\n",
       "      <td>3.912023</td>\n",
       "      <td>4.406719</td>\n",
       "      <td>4.605170</td>\n",
       "      <td>4.863673</td>\n",
       "      <td>5.948035</td>\n",
       "    </tr>\n",
       "    <tr>\n",
       "      <th>2017-NOV-weekend</th>\n",
       "      <td>125.0</td>\n",
       "      <td>4.902204</td>\n",
       "      <td>0.437582</td>\n",
       "      <td>4.094345</td>\n",
       "      <td>4.521789</td>\n",
       "      <td>4.882802</td>\n",
       "      <td>5.192957</td>\n",
       "      <td>6.196444</td>\n",
       "    </tr>\n",
       "    <tr>\n",
       "      <th>2018-JUNE-weekend</th>\n",
       "      <td>181.0</td>\n",
       "      <td>4.776133</td>\n",
       "      <td>0.334283</td>\n",
       "      <td>4.077537</td>\n",
       "      <td>4.543295</td>\n",
       "      <td>4.709530</td>\n",
       "      <td>5.036953</td>\n",
       "      <td>5.693732</td>\n",
       "    </tr>\n",
       "  </tbody>\n",
       "</table>\n",
       "</div>"
      ],
      "text/plain": [
       "                   count      mean       std       min       25%       50%  \\\n",
       "date                                                                         \n",
       "2017-DEC-holiday   189.0  4.696710  0.334883  4.043051  4.442651  4.634729   \n",
       "2017-NOV-weekday   207.0  4.640219  0.336751  3.912023  4.406719  4.605170   \n",
       "2017-NOV-weekend   125.0  4.902204  0.437582  4.094345  4.521789  4.882802   \n",
       "2018-JUNE-weekend  181.0  4.776133  0.334283  4.077537  4.543295  4.709530   \n",
       "\n",
       "                        75%       max  \n",
       "date                                   \n",
       "2017-DEC-holiday   4.927254  5.955837  \n",
       "2017-NOV-weekday   4.863673  5.948035  \n",
       "2017-NOV-weekend   5.192957  6.196444  \n",
       "2018-JUNE-weekend  5.036953  5.693732  "
      ]
     },
     "execution_count": 32,
     "metadata": {},
     "output_type": "execute_result"
    }
   ],
   "source": [
    "data.groupby('date')['lnprice'].describe()"
   ]
  },
  {
   "cell_type": "code",
   "execution_count": 33,
   "metadata": {},
   "outputs": [],
   "source": []
  },
  {
   "cell_type": "code",
   "execution_count": 33,
   "metadata": {},
   "outputs": [],
   "source": [
    "## Regression with splines"
   ]
  },
  {
   "cell_type": "code",
   "execution_count": 34,
   "metadata": {},
   "outputs": [],
   "source": [
    "y,X = dmatrices(\"lnprice ~ lspline(distance,2)\",data[data.date=='2017-NOV-weekday'])"
   ]
  },
  {
   "cell_type": "code",
   "execution_count": 35,
   "metadata": {},
   "outputs": [
    {
     "name": "stdout",
     "output_type": "stream",
     "text": [
      "                            OLS Regression Results                            \n",
      "==============================================================================\n",
      "Dep. Variable:                lnprice   R-squared:                       0.314\n",
      "Model:                            OLS   Adj. R-squared:                  0.308\n",
      "Method:                 Least Squares   F-statistic:                     46.79\n",
      "Date:                Tue, 15 Sep 2020   Prob (F-statistic):           1.89e-17\n",
      "Time:                        20:17:51   Log-Likelihood:                -28.843\n",
      "No. Observations:                 207   AIC:                             63.69\n",
      "Df Residuals:                     204   BIC:                             73.68\n",
      "Df Model:                           2                                         \n",
      "Covariance Type:            nonrobust                                         \n",
      "===========================================================================================\n",
      "                              coef    std err          t      P>|t|      [0.025      0.975]\n",
      "-------------------------------------------------------------------------------------------\n",
      "Intercept                   5.0152      0.044    112.936      0.000       4.928       5.103\n",
      "lspline(distance, 2)[0]    -0.3087      0.035     -8.733      0.000      -0.378      -0.239\n",
      "lspline(distance, 2)[1]     0.0242      0.032      0.755      0.451      -0.039       0.087\n",
      "==============================================================================\n",
      "Omnibus:                       56.222   Durbin-Watson:                   1.657\n",
      "Prob(Omnibus):                  0.000   Jarque-Bera (JB):              193.341\n",
      "Skew:                           1.065   Prob(JB):                     1.04e-42\n",
      "Kurtosis:                       7.229   Cond. No.                         5.03\n",
      "==============================================================================\n",
      "\n",
      "Warnings:\n",
      "[1] Standard Errors assume that the covariance matrix of the errors is correctly specified.\n"
     ]
    }
   ],
   "source": [
    "model = sm.OLS(y, X)\n",
    "results = model.fit()\n",
    "print(results.summary())"
   ]
  },
  {
   "cell_type": "code",
   "execution_count": 36,
   "metadata": {},
   "outputs": [
    {
     "name": "stdout",
     "output_type": "stream",
     "text": [
      "                            OLS Regression Results                            \n",
      "==============================================================================\n",
      "Dep. Variable:                lnprice   R-squared:                       0.314\n",
      "Model:                            OLS   Adj. R-squared:                  0.308\n",
      "Method:                 Least Squares   F-statistic:                     46.04\n",
      "Date:                Tue, 15 Sep 2020   Prob (F-statistic):           3.16e-17\n",
      "Time:                        20:18:09   Log-Likelihood:                -28.843\n",
      "No. Observations:                 207   AIC:                             63.69\n",
      "Df Residuals:                     204   BIC:                             73.68\n",
      "Df Model:                           2                                         \n",
      "Covariance Type:                  HC1                                         \n",
      "===========================================================================================\n",
      "                              coef    std err          t      P>|t|      [0.025      0.975]\n",
      "-------------------------------------------------------------------------------------------\n",
      "Intercept                   5.0152      0.042    120.101      0.000       4.933       5.098\n",
      "lspline(distance, 2)[0]    -0.3087      0.038     -8.098      0.000      -0.384      -0.234\n",
      "lspline(distance, 2)[1]     0.0242      0.033      0.736      0.462      -0.041       0.089\n",
      "==============================================================================\n",
      "Omnibus:                       56.222   Durbin-Watson:                   1.657\n",
      "Prob(Omnibus):                  0.000   Jarque-Bera (JB):              193.341\n",
      "Skew:                           1.065   Prob(JB):                     1.04e-42\n",
      "Kurtosis:                       7.229   Cond. No.                         5.03\n",
      "==============================================================================\n",
      "\n",
      "Warnings:\n",
      "[1] Standard Errors are heteroscedasticity robust (HC1)\n"
     ]
    }
   ],
   "source": [
    "print(results.get_robustcov_results(cov_type='HC1').summary())"
   ]
  },
  {
   "cell_type": "code",
   "execution_count": null,
   "metadata": {},
   "outputs": [],
   "source": []
  }
 ],
 "metadata": {
  "kernelspec": {
   "display_name": "Python 3",
   "language": "python",
   "name": "python3"
  },
  "language_info": {
   "codemirror_mode": {
    "name": "ipython",
    "version": 3
   },
   "file_extension": ".py",
   "mimetype": "text/x-python",
   "name": "python",
   "nbconvert_exporter": "python",
   "pygments_lexer": "ipython3",
   "version": "3.6.5"
  }
 },
 "nbformat": 4,
 "nbformat_minor": 2
}
