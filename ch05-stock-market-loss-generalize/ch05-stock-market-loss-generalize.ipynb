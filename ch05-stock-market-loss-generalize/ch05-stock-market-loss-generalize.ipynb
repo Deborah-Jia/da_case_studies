{
 "cells": [
  {
   "cell_type": "markdown",
   "metadata": {},
   "source": [
    "## Prepared for the textbook:\n",
    "-------------------------------------------------------------------\n",
    "## Data Analysis for Business, Economics, and Policy\n",
    "#### by Gabor BEKES and  Gabor KEZDI \n",
    "----------------------------------\n",
    "#### Cambridge University Press 2021\n",
    "-----------------------------------------------------------------------------------------------\n",
    "#### License: Free to share, modify and use for educational purposes. Not to be used for business purposes.\n"
   ]
  },
  {
   "cell_type": "code",
   "execution_count": 1,
   "metadata": {},
   "outputs": [],
   "source": [
    "import warnings\n",
    "warnings.filterwarnings('ignore')\n",
    "import pandas as pd\n",
    "import seaborn as sns\n",
    "from mizani.formatters import percent_format\n",
    "import os\n",
    "from plotnine import *\n",
    "import numpy as np\n",
    "import sys\n",
    "import numpy as np\n",
    "from datetime import datetime\n",
    "from scipy.stats import norm"
   ]
  },
  {
   "cell_type": "code",
   "execution_count": 2,
   "metadata": {},
   "outputs": [],
   "source": [
    "# Current script folder\n",
    "current_path = os.getcwd()\n",
    "dirname = \"/\".join(current_path.split(\"/\")[:-2]) + \"/\"\n",
    "\n",
    "# location folders\n",
    "data_in = dirname + \"da_data_repo/sp500/clean/\"\n",
    "data_out = dirname + \"da_case_studies/ch05-stock-market-loss-generalize/\"\n",
    "output = dirname + \"da_case_studies/ch05-stock-market-loss-generalize/output/\"\n",
    "func = dirname + \"da_case_studies/ch00-tech-prep/\"\n",
    "sys.path.append(func)"
   ]
  },
  {
   "cell_type": "code",
   "execution_count": 3,
   "metadata": {},
   "outputs": [],
   "source": [
    "# Import the prewritten helper functions \n",
    "from py_helper_functions import *"
   ]
  },
  {
   "cell_type": "code",
   "execution_count": 4,
   "metadata": {},
   "outputs": [],
   "source": [
    "sp500 = (\n",
    "    pd.read_csv(data_in + \"SP500_2006_16_data.csv\")\n",
    "    .replace(\"\", np.nan)\n",
    "    .replace(\"#N/A\", np.nan)\n",
    ")\n",
    "sp500 = sp500.dropna().reset_index(drop=True)"
   ]
  },
  {
   "cell_type": "code",
   "execution_count": 5,
   "metadata": {},
   "outputs": [],
   "source": [
    "# CREATE PERCENT RETURN\n",
    "sp500[\"pct_return\"] = (\n",
    "    sp500[\"VALUE\"] - sp500.set_index(\"DATE\").shift(1).reset_index(drop=True)[\"VALUE\"]\n",
    ") / sp500.set_index(\"DATE\").shift(1).reset_index(drop=True)[\"VALUE\"]*100"
   ]
  },
  {
   "cell_type": "code",
   "execution_count": 6,
   "metadata": {},
   "outputs": [],
   "source": [
    "sp500['DATE']=pd.to_datetime(sp500['DATE'],format='%Y-%m-%d')\n",
    "sp500['year']=sp500['DATE'].apply(lambda x: x.year)\n",
    "sp500['month']=sp500['DATE'].apply(lambda x: x.month)\n",
    "sp500['yearmonth']=sp500['year']*100+sp500['month']"
   ]
  },
  {
   "cell_type": "code",
   "execution_count": 7,
   "metadata": {
    "scrolled": false
   },
   "outputs": [
    {
     "data": {
      "image/png": "[encoded data removed]",
      "text/plain": [
       "<Figure size 640x480 with 1 Axes>"
      ]
     },
     "metadata": {},
     "output_type": "display_data"
    },
    {
     "data": {
      "text/plain": [
       "<ggplot: (8762985661049)>"
      ]
     },
     "execution_count": 7,
     "metadata": {},
     "output_type": "execute_result"
    }
   ],
   "source": [
    "ggplot(sp500, aes(\"pct_return\")) + geom_histogram(binwidth=0.25,color=\"white\",fill=color[0]) + geom_vline(\n",
    "    xintercept=-5, size=0.7, color=color[1]\n",
    ") + labs(x=\"Daily return (percent)\", y=\"Frequency\") + coord_cartesian(\n",
    "    xlim=[-10, 10], ylim=[0, 400]\n",
    ") + scale_y_continuous(\n",
    "    expand=[0, 0]\n",
    ") + geom_segment(\n",
    "    aes(x=-6, y=220, xend=-5, yend=220)\n",
    ") + annotate(\n",
    "    \"text\", x=-8, y=220, label=\"5% loss\", size=12\n",
    ") + theme_bw()"
   ]
  },
  {
   "cell_type": "code",
   "execution_count": 8,
   "metadata": {},
   "outputs": [],
   "source": [
    "pct_return=sp500.pct_return.dropna()"
   ]
  },
  {
   "cell_type": "code",
   "execution_count": 9,
   "metadata": {},
   "outputs": [],
   "source": [
    "def create_samples(vector,n_samples, n_obs):\n",
    "    samples_pcloss=[None] * (n_samples+1)\n",
    "    for i in range(1,n_samples+1):\n",
    "            single_sample=np.random.choice(vector, size=n_obs, replace=False)\n",
    "            samples_pcloss[i]=sum(single_sample < -5) / n_obs*100\n",
    "    return samples_pcloss"
   ]
  },
  {
   "cell_type": "code",
   "execution_count": 10,
   "metadata": {},
   "outputs": [],
   "source": [
    "np.random.seed=123"
   ]
  },
  {
   "cell_type": "code",
   "execution_count": 11,
   "metadata": {},
   "outputs": [],
   "source": [
    "nobs_1000 = create_samples(pct_return, 10000, 1000)\n",
    "nobs_500 = create_samples(pct_return, 10000, 500)\n",
    "#nobs_df <- as.data.frame(cbind(nobs_500, nobs_1000))"
   ]
  },
  {
   "cell_type": "code",
   "execution_count": 12,
   "metadata": {},
   "outputs": [],
   "source": [
    "nobs_df = pd.DataFrame({\"nobs_500\": nobs_500, \"nobs_1000\": nobs_1000}).drop(0)"
   ]
  },
  {
   "cell_type": "code",
   "execution_count": 13,
   "metadata": {},
   "outputs": [
    {
     "data": {
      "text/html": [
       "<div>\n",
       "<style scoped>\n",
       "    .dataframe tbody tr th:only-of-type {\n",
       "        vertical-align: middle;\n",
       "    }\n",
       "\n",
       "    .dataframe tbody tr th {\n",
       "        vertical-align: top;\n",
       "    }\n",
       "\n",
       "    .dataframe thead th {\n",
       "        text-align: right;\n",
       "    }\n",
       "</style>\n",
       "<table border=\"1\" class=\"dataframe\">\n",
       "  <thead>\n",
       "    <tr style=\"text-align: right;\">\n",
       "      <th></th>\n",
       "      <th>nobs_500</th>\n",
       "      <th>nobs_1000</th>\n",
       "    </tr>\n",
       "  </thead>\n",
       "  <tbody>\n",
       "    <tr>\n",
       "      <th>1</th>\n",
       "      <td>0.2</td>\n",
       "      <td>0.8</td>\n",
       "    </tr>\n",
       "    <tr>\n",
       "      <th>2</th>\n",
       "      <td>0.2</td>\n",
       "      <td>0.5</td>\n",
       "    </tr>\n",
       "    <tr>\n",
       "      <th>3</th>\n",
       "      <td>0.2</td>\n",
       "      <td>0.6</td>\n",
       "    </tr>\n",
       "    <tr>\n",
       "      <th>4</th>\n",
       "      <td>1.0</td>\n",
       "      <td>0.6</td>\n",
       "    </tr>\n",
       "    <tr>\n",
       "      <th>5</th>\n",
       "      <td>0.4</td>\n",
       "      <td>0.4</td>\n",
       "    </tr>\n",
       "    <tr>\n",
       "      <th>...</th>\n",
       "      <td>...</td>\n",
       "      <td>...</td>\n",
       "    </tr>\n",
       "    <tr>\n",
       "      <th>9996</th>\n",
       "      <td>0.8</td>\n",
       "      <td>0.6</td>\n",
       "    </tr>\n",
       "    <tr>\n",
       "      <th>9997</th>\n",
       "      <td>0.4</td>\n",
       "      <td>0.4</td>\n",
       "    </tr>\n",
       "    <tr>\n",
       "      <th>9998</th>\n",
       "      <td>0.2</td>\n",
       "      <td>0.6</td>\n",
       "    </tr>\n",
       "    <tr>\n",
       "      <th>9999</th>\n",
       "      <td>0.6</td>\n",
       "      <td>0.6</td>\n",
       "    </tr>\n",
       "    <tr>\n",
       "      <th>10000</th>\n",
       "      <td>0.2</td>\n",
       "      <td>0.3</td>\n",
       "    </tr>\n",
       "  </tbody>\n",
       "</table>\n",
       "<p>10000 rows × 2 columns</p>\n",
       "</div>"
      ],
      "text/plain": [
       "       nobs_500  nobs_1000\n",
       "1           0.2        0.8\n",
       "2           0.2        0.5\n",
       "3           0.2        0.6\n",
       "4           1.0        0.6\n",
       "5           0.4        0.4\n",
       "...         ...        ...\n",
       "9996        0.8        0.6\n",
       "9997        0.4        0.4\n",
       "9998        0.2        0.6\n",
       "9999        0.6        0.6\n",
       "10000       0.2        0.3\n",
       "\n",
       "[10000 rows x 2 columns]"
      ]
     },
     "execution_count": 13,
     "metadata": {},
     "output_type": "execute_result"
    }
   ],
   "source": [
    "nobs_df"
   ]
  },
  {
   "cell_type": "code",
   "execution_count": 14,
   "metadata": {},
   "outputs": [],
   "source": [
    "error = norm.ppf(0.975) * np.std(nobs_df[\"nobs_1000\"]) / np.sqrt(len(nobs_df[\"nobs_1000\"]))\n",
    "left = np.mean(nobs_df[\"nobs_1000\"]) - error\n",
    "right = np.mean(nobs_df[\"nobs_1000\"]) + error"
   ]
  },
  {
   "cell_type": "code",
   "execution_count": 15,
   "metadata": {},
   "outputs": [
    {
     "data": {
      "image/png": "[encoded data removed]",
      "text/plain": [
       "<Figure size 640x480 with 1 Axes>"
      ]
     },
     "metadata": {},
     "output_type": "display_data"
    },
    {
     "data": {
      "text/plain": [
       "<ggplot: (8762946879997)>"
      ]
     },
     "execution_count": 15,
     "metadata": {},
     "output_type": "execute_result"
    }
   ],
   "source": [
    "# Figure 5.2\n",
    "ggplot(nobs_df, aes(nobs_1000[1:])) + geom_histogram(\n",
    "    binwidth=0.1, color=\"white\", fill=color[0], alpha=0.8, center=0\n",
    ") + labs(x=\"Percent of days with losses of 5% or more\", y=\"Frequency\") + geom_vline(\n",
    "    aes(xintercept=np.mean(pd.Series(nobs_500).dropna())), color=color[1], size=0.7\n",
    ") + coord_cartesian(\n",
    "    xlim=[0, 1.5], ylim=(0, 2500)\n",
    ") + scale_x_continuous(\n",
    "    expand=(0.01, 0.01), limits=(0, 1.5), breaks=seq(0, 1.6, 0.25)\n",
    ") + scale_y_continuous(\n",
    "    expand=(0.00, 0.00), limits=(0, 2500), breaks=seq(0, 2500, 501)\n",
    ") + geom_segment(\n",
    "    aes(x=0.8, y=2000, xend=0.53, yend=2000)\n",
    ") + annotate(\n",
    "    \"text\", x=0.85, y=2200, label=\"Mean\", size=12\n",
    ") + theme_bw()"
   ]
  },
  {
   "cell_type": "code",
   "execution_count": 33,
   "metadata": {
    "scrolled": false
   },
   "outputs": [
    {
     "data": {
      "image/png": "[encoded data removed]",
      "text/plain": [
       "<Figure size 640x480 with 1 Axes>"
      ]
     },
     "metadata": {},
     "output_type": "display_data"
    },
    {
     "data": {
      "text/plain": [
       "<ggplot: (8762943938332)>"
      ]
     },
     "execution_count": 33,
     "metadata": {},
     "output_type": "execute_result"
    }
   ],
   "source": [
    "# Figure 5.3 - NOt working with epanechnikov kernel\n",
    "ggplot(nobs_df, aes(x=\"nobs_1000\")) + stat_density(\n",
    "    color=color[0], geom=\"line\", bw=0.45, size=1\n",
    ") + stat_density(\n",
    "    aes(\"nobs_500\"), color=color[1], geom=\"line\", bw=0.45, linetype=\"dashdot\", size=1\n",
    ") + labs(\n",
    "    x=\"Percent of days with losses over 5%\", y=\"Density\"\n",
    ") + geom_vline(\n",
    "    xintercept=0.5, color=color[2], size=0.7, linetype=\"dashed\"\n",
    ") + geom_segment(\n",
    "    aes(x=0.9, y=0.72, xend=0.65, yend=0.72), size=0.5,\n",
    ") + annotate(\n",
    "    \"text\", x=1.1, y=0.72, label=\"Larger sample\", size=12\n",
    ") + geom_segment(\n",
    "    aes(x=0.9, y=0.68, xend=0.65, yend=0.68), size=0.5\n",
    ") + annotate(\n",
    "    \"text\", x=1.1, y=0.68, label=\"Smaller sample\", size=12\n",
    ") + scale_x_continuous(\n",
    "    expand=(0.01, 0.01), limits=(0, 1.5), breaks=seq(0, 1.51, 0.25)\n",
    ") + scale_y_continuous(\n",
    "    expand=(0.00, 0.00), limits=(0, 0.8), breaks=seq(0, 0.81, 0.2)\n",
    ") + theme_bw() + theme(\n",
    "    legend_position=\"none\"\n",
    ")"
   ]
  },
  {
   "cell_type": "code",
   "execution_count": 105,
   "metadata": {},
   "outputs": [
    {
     "data": {
      "image/png": "[encoded data removed]",
      "text/plain": [
       "<Figure size 640x480 with 1 Axes>"
      ]
     },
     "metadata": {},
     "output_type": "display_data"
    },
    {
     "data": {
      "text/plain": [
       "<ggplot: (8762943393811)>"
      ]
     },
     "execution_count": 105,
     "metadata": {},
     "output_type": "execute_result"
    }
   ],
   "source": [
    "# ALPHA not working\n",
    "ggplot(nobs_df) + geom_histogram(\n",
    "    aes(x=\"nobs_500\", y=\"stat(count)/sum(stat(count))*100\"),\n",
    "    color=color[0],\n",
    "    fill=color[0],\n",
    "    binwidth=0.2,\n",
    "    boundary=0,\n",
    "    alpha=0.7,\n",
    ") + geom_histogram(\n",
    "    aes(x=\"nobs_1000\", y=\"stat(count)/sum(stat(count))*100\"),\n",
    "    color=color[1],\n",
    "    fill=color[1],\n",
    "    binwidth=0.2,\n",
    "    boundary=0,\n",
    "    alpha=0.1,\n",
    "    size=0.7,\n",
    ") + ylab(\n",
    "    \"Percent\"\n",
    ") + xlab(\n",
    "    \"Percent of days with losses over 5%\"\n",
    ") + scale_x_continuous(\n",
    "    expand=(0.01, 0.01), limits=(0, 1.6), breaks=seq(0, 1.6, 0.2)\n",
    ") + scale_y_continuous(\n",
    "    expand=(0.00, 0.00), limits=(0, 50)\n",
    ") + scale_color_manual(\n",
    "    name=\"\", values=(color[1], color[0])\n",
    ") + scale_fill_manual(\n",
    "    name=\"\", values=(color[1], color[0])\n",
    ") + theme_bw() + theme(\n",
    "    legend_direction=\"horizontal\",\n",
    ")"
   ]
  },
  {
   "cell_type": "code",
   "execution_count": 113,
   "metadata": {
    "scrolled": true
   },
   "outputs": [
    {
     "data": {
      "text/plain": [
       "0.4    0.2652\n",
       "0.6    0.2404\n",
       "0.2    0.1810\n",
       "0.8    0.1589\n",
       "1.0    0.0663\n",
       "0.0    0.0588\n",
       "1.2    0.0224\n",
       "1.4    0.0059\n",
       "1.6    0.0010\n",
       "1.8    0.0001\n",
       "Name: nobs_500, dtype: float64"
      ]
     },
     "execution_count": 113,
     "metadata": {},
     "output_type": "execute_result"
    }
   ],
   "source": [
    "nobs_df[\"nobs_500\"].value_counts(sort=True,normalize=True)"
   ]
  },
  {
   "cell_type": "code",
   "execution_count": 115,
   "metadata": {},
   "outputs": [
    {
     "data": {
      "text/plain": [
       "0.5    0.2246\n",
       "0.6    0.1985\n",
       "0.4    0.1821\n",
       "0.7    0.1260\n",
       "0.3    0.1204\n",
       "0.8    0.0615\n",
       "0.2    0.0458\n",
       "0.9    0.0225\n",
       "0.1    0.0110\n",
       "1.0    0.0061\n",
       "1.1    0.0006\n",
       "0.0    0.0006\n",
       "1.2    0.0003\n",
       "Name: nobs_1000, dtype: float64"
      ]
     },
     "execution_count": 115,
     "metadata": {},
     "output_type": "execute_result"
    }
   ],
   "source": [
    "nobs_df[\"nobs_1000\"].value_counts(sort=True,normalize=True)"
   ]
  },
  {
   "cell_type": "code",
   "execution_count": 76,
   "metadata": {},
   "outputs": [],
   "source": [
    "####################################\n",
    "#BOOTSRTAP SAMPLES\n",
    "np.random.seed=573164\n",
    "M = 10000\n",
    "Results=np.zeros((M,10))"
   ]
  },
  {
   "cell_type": "code",
   "execution_count": 94,
   "metadata": {},
   "outputs": [],
   "source": [
    "for i in range(1,M+1):\n",
    "    bsample=np.random.choice(sp500['pct_return'], size=sp500.shape[0], replace=True)\n",
    "    for j in range(1,11):\n",
    "            loss=pd.Series(bsample<(-j)).apply(lambda x: float(x))*100\n",
    "            Results[i-1,j-1]=np.mean(loss)"
   ]
  },
  {
   "cell_type": "code",
   "execution_count": 95,
   "metadata": {},
   "outputs": [],
   "source": [
    "Results = pd.DataFrame(\n",
    "    Results,\n",
    "    columns=[\n",
    "        \"loss1\",\n",
    "        \"loss2\",\n",
    "        \"loss3\",\n",
    "        \"loss4\",\n",
    "        \"loss5\",\n",
    "        \"loss6\",\n",
    "        \"loss7\",\n",
    "        \"loss8\",\n",
    "        \"loss9\",\n",
    "        \"loss10\",\n",
    "    ],\n",
    ")"
   ]
  },
  {
   "cell_type": "code",
   "execution_count": 96,
   "metadata": {},
   "outputs": [
    {
     "data": {
      "text/html": [
       "<div>\n",
       "<style scoped>\n",
       "    .dataframe tbody tr th:only-of-type {\n",
       "        vertical-align: middle;\n",
       "    }\n",
       "\n",
       "    .dataframe tbody tr th {\n",
       "        vertical-align: top;\n",
       "    }\n",
       "\n",
       "    .dataframe thead th {\n",
       "        text-align: right;\n",
       "    }\n",
       "</style>\n",
       "<table border=\"1\" class=\"dataframe\">\n",
       "  <thead>\n",
       "    <tr style=\"text-align: right;\">\n",
       "      <th></th>\n",
       "      <th>loss1</th>\n",
       "      <th>loss2</th>\n",
       "      <th>loss3</th>\n",
       "      <th>loss4</th>\n",
       "      <th>loss5</th>\n",
       "      <th>loss6</th>\n",
       "      <th>loss7</th>\n",
       "      <th>loss8</th>\n",
       "      <th>loss9</th>\n",
       "      <th>loss10</th>\n",
       "    </tr>\n",
       "  </thead>\n",
       "  <tbody>\n",
       "    <tr>\n",
       "      <th>0</th>\n",
       "      <td>14.529575</td>\n",
       "      <td>5.835649</td>\n",
       "      <td>2.540691</td>\n",
       "      <td>0.992457</td>\n",
       "      <td>0.357285</td>\n",
       "      <td>0.158793</td>\n",
       "      <td>0.000000</td>\n",
       "      <td>0.000000</td>\n",
       "      <td>0.000000</td>\n",
       "      <td>0.0</td>\n",
       "    </tr>\n",
       "    <tr>\n",
       "      <th>1</th>\n",
       "      <td>14.053196</td>\n",
       "      <td>4.803493</td>\n",
       "      <td>1.587932</td>\n",
       "      <td>0.913061</td>\n",
       "      <td>0.436681</td>\n",
       "      <td>0.357285</td>\n",
       "      <td>0.198491</td>\n",
       "      <td>0.119095</td>\n",
       "      <td>0.039698</td>\n",
       "      <td>0.0</td>\n",
       "    </tr>\n",
       "    <tr>\n",
       "      <th>2</th>\n",
       "      <td>12.822549</td>\n",
       "      <td>4.485907</td>\n",
       "      <td>1.826121</td>\n",
       "      <td>1.032156</td>\n",
       "      <td>0.635173</td>\n",
       "      <td>0.476380</td>\n",
       "      <td>0.198491</td>\n",
       "      <td>0.119095</td>\n",
       "      <td>0.119095</td>\n",
       "      <td>0.0</td>\n",
       "    </tr>\n",
       "    <tr>\n",
       "      <th>3</th>\n",
       "      <td>14.053196</td>\n",
       "      <td>5.359270</td>\n",
       "      <td>2.302501</td>\n",
       "      <td>1.310044</td>\n",
       "      <td>0.635173</td>\n",
       "      <td>0.277888</td>\n",
       "      <td>0.119095</td>\n",
       "      <td>0.079397</td>\n",
       "      <td>0.039698</td>\n",
       "      <td>0.0</td>\n",
       "    </tr>\n",
       "    <tr>\n",
       "      <th>4</th>\n",
       "      <td>13.695911</td>\n",
       "      <td>5.398968</td>\n",
       "      <td>2.302501</td>\n",
       "      <td>0.992457</td>\n",
       "      <td>0.516078</td>\n",
       "      <td>0.436681</td>\n",
       "      <td>0.198491</td>\n",
       "      <td>0.119095</td>\n",
       "      <td>0.039698</td>\n",
       "      <td>0.0</td>\n",
       "    </tr>\n",
       "    <tr>\n",
       "      <th>...</th>\n",
       "      <td>...</td>\n",
       "      <td>...</td>\n",
       "      <td>...</td>\n",
       "      <td>...</td>\n",
       "      <td>...</td>\n",
       "      <td>...</td>\n",
       "      <td>...</td>\n",
       "      <td>...</td>\n",
       "      <td>...</td>\n",
       "      <td>...</td>\n",
       "    </tr>\n",
       "    <tr>\n",
       "      <th>9995</th>\n",
       "      <td>14.331084</td>\n",
       "      <td>5.319571</td>\n",
       "      <td>1.865820</td>\n",
       "      <td>0.793966</td>\n",
       "      <td>0.277888</td>\n",
       "      <td>0.119095</td>\n",
       "      <td>0.000000</td>\n",
       "      <td>0.000000</td>\n",
       "      <td>0.000000</td>\n",
       "      <td>0.0</td>\n",
       "    </tr>\n",
       "    <tr>\n",
       "      <th>9996</th>\n",
       "      <td>14.926558</td>\n",
       "      <td>5.557761</td>\n",
       "      <td>2.183406</td>\n",
       "      <td>1.111552</td>\n",
       "      <td>0.674871</td>\n",
       "      <td>0.277888</td>\n",
       "      <td>0.158793</td>\n",
       "      <td>0.158793</td>\n",
       "      <td>0.039698</td>\n",
       "      <td>0.0</td>\n",
       "    </tr>\n",
       "    <tr>\n",
       "      <th>9997</th>\n",
       "      <td>14.291385</td>\n",
       "      <td>4.843192</td>\n",
       "      <td>2.024613</td>\n",
       "      <td>0.913061</td>\n",
       "      <td>0.555776</td>\n",
       "      <td>0.396983</td>\n",
       "      <td>0.238190</td>\n",
       "      <td>0.198491</td>\n",
       "      <td>0.039698</td>\n",
       "      <td>0.0</td>\n",
       "    </tr>\n",
       "    <tr>\n",
       "      <th>9998</th>\n",
       "      <td>13.656213</td>\n",
       "      <td>4.843192</td>\n",
       "      <td>1.746725</td>\n",
       "      <td>0.952759</td>\n",
       "      <td>0.555776</td>\n",
       "      <td>0.277888</td>\n",
       "      <td>0.158793</td>\n",
       "      <td>0.119095</td>\n",
       "      <td>0.039698</td>\n",
       "      <td>0.0</td>\n",
       "    </tr>\n",
       "    <tr>\n",
       "      <th>9999</th>\n",
       "      <td>13.973799</td>\n",
       "      <td>5.121080</td>\n",
       "      <td>2.143708</td>\n",
       "      <td>0.913061</td>\n",
       "      <td>0.436681</td>\n",
       "      <td>0.238190</td>\n",
       "      <td>0.158793</td>\n",
       "      <td>0.119095</td>\n",
       "      <td>0.000000</td>\n",
       "      <td>0.0</td>\n",
       "    </tr>\n",
       "  </tbody>\n",
       "</table>\n",
       "<p>10000 rows × 10 columns</p>\n",
       "</div>"
      ],
      "text/plain": [
       "          loss1     loss2     loss3     loss4     loss5     loss6     loss7  \\\n",
       "0     14.529575  5.835649  2.540691  0.992457  0.357285  0.158793  0.000000   \n",
       "1     14.053196  4.803493  1.587932  0.913061  0.436681  0.357285  0.198491   \n",
       "2     12.822549  4.485907  1.826121  1.032156  0.635173  0.476380  0.198491   \n",
       "3     14.053196  5.359270  2.302501  1.310044  0.635173  0.277888  0.119095   \n",
       "4     13.695911  5.398968  2.302501  0.992457  0.516078  0.436681  0.198491   \n",
       "...         ...       ...       ...       ...       ...       ...       ...   \n",
       "9995  14.331084  5.319571  1.865820  0.793966  0.277888  0.119095  0.000000   \n",
       "9996  14.926558  5.557761  2.183406  1.111552  0.674871  0.277888  0.158793   \n",
       "9997  14.291385  4.843192  2.024613  0.913061  0.555776  0.396983  0.238190   \n",
       "9998  13.656213  4.843192  1.746725  0.952759  0.555776  0.277888  0.158793   \n",
       "9999  13.973799  5.121080  2.143708  0.913061  0.436681  0.238190  0.158793   \n",
       "\n",
       "         loss8     loss9  loss10  \n",
       "0     0.000000  0.000000     0.0  \n",
       "1     0.119095  0.039698     0.0  \n",
       "2     0.119095  0.119095     0.0  \n",
       "3     0.079397  0.039698     0.0  \n",
       "4     0.119095  0.039698     0.0  \n",
       "...        ...       ...     ...  \n",
       "9995  0.000000  0.000000     0.0  \n",
       "9996  0.158793  0.039698     0.0  \n",
       "9997  0.198491  0.039698     0.0  \n",
       "9998  0.119095  0.039698     0.0  \n",
       "9999  0.119095  0.000000     0.0  \n",
       "\n",
       "[10000 rows x 10 columns]"
      ]
     },
     "execution_count": 96,
     "metadata": {},
     "output_type": "execute_result"
    }
   ],
   "source": [
    "Results"
   ]
  },
  {
   "cell_type": "code",
   "execution_count": 100,
   "metadata": {},
   "outputs": [
    {
     "data": {
      "image/png": "[encoded data removed]",
      "text/plain": [
       "<Figure size 640x480 with 1 Axes>"
      ]
     },
     "metadata": {},
     "output_type": "display_data"
    },
    {
     "data": {
      "text/plain": [
       "<ggplot: (8762946490402)>"
      ]
     },
     "execution_count": 100,
     "metadata": {},
     "output_type": "execute_result"
    }
   ],
   "source": [
    "ggplot(Results, aes(\"loss5\")) + geom_histogram(fill=color[0], color=\"white\",binwidth=0.04\n",
    ") + scale_y_continuous(\n",
    "    expand=(0, 0), limits=(0, 1200), breaks=seq(0, 1201, 200)\n",
    ") + scale_x_continuous(\n",
    "    expand=(0.01, 0.01), limits=(0, 1.2), breaks=seq(0, 1.21, 0.1)\n",
    ") + labs(\n",
    "    x=\"Percent of days with losses of 5% or more\", y=\"Frequency\"\n",
    ") + theme_bw()"
   ]
  }
 ],
 "metadata": {
  "kernelspec": {
   "display_name": "Python 3",
   "language": "python",
   "name": "python3"
  },
  "language_info": {
   "codemirror_mode": {
    "name": "ipython",
    "version": 3
   },
   "file_extension": ".py",
   "mimetype": "text/x-python",
   "name": "python",
   "nbconvert_exporter": "python",
   "pygments_lexer": "ipython3",
   "version": "3.8.2"
  }
 },
 "nbformat": 4,
 "nbformat_minor": 4
}
